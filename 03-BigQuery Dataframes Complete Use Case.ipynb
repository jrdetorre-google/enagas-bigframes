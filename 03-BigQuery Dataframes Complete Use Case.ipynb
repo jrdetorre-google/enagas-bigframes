{
  "nbformat": 4,
  "nbformat_minor": 0,
  "metadata": {
    "colab": {
      "name": "Demo notebook",
      "provenance": []
    },
    "kernelspec": {
      "name": "python3",
      "display_name": "Python 3"
    },
    "language_info": {
      "name": "python"
    }
  },
  "cells": [
    {
      "cell_type": "markdown",
      "source": [
        "#Generate customer clusters and marketing messages with BigQuery DataFrames and GenAI\n",
        "\n",
        "##Overview\n",
        "Within the **BigQuery Studio** workspace, you can use a Colab Enterprise notebook interface and a workspace to save and share your notebooks. The notebooks come with **BigQuery DataFrames**, which provide a Pythonic DataFrame and ML API powered by the BigQuery engine. The operations happen in BigQuery at scale rather than within the notebook runtime.\n",
        "\n",
        "*   [bigframes.pandas](https://cloud.google.com/python/docs/reference/bigframes/latest/bigframes.dataframe.DataFrame) provides a pandas-compatible API for analytics.\n",
        "*   [bigframes.ml](https://cloud.google.com/python/docs/reference/bigframes/latest/bigframes.ml.cluster) provides a scikit-learn-like API for ML.\n",
        "*   [bigframes.ml.llm](https://cloud.google.com/python/docs/reference/bigframes/latest/bigframes.ml.llm) provides LLM capabilities.\n",
        "\n",
        "BigQuery DataFrames is an open-source Python package. It is pre-installed on  BigQuery Studio Python notebooks.  Additionally, you can always run `pip install --upgrade bigframes` to install the latest version.\n",
        "\n",
        "\n",
        "\n",
        "## Objectives\n",
        "This example illustrates a common Data to AI journey from data exploration to constructing a k-means machine learning model with BigFrames to segment customers of similar behaviors and demographics. Subsequently, Generative AI is applied to leverage cluster information and customer messaging to activate marketing campaigns. In doing so, you can build a data-centric, personalized marketing campaign all from BigQuery!\n",
        "\n",
        "In this tutorial, you will:\n",
        "\n",
        "* Generate features using BigQuery DataFrames\n",
        "* Perform basic data exploration\n",
        "* Implement a k-means clustering model with BigFrames\n",
        "* Produce cluster descriptive statistics\n",
        "* Utilize Generative AI to articulate ML model outputs in natural language for business users\n",
        "* (Bonus) Use Generative AI to craft engaging emails tailored to customer segments.\n",
        "\n",
        "\n",
        "\n",
        "\n",
        "###Helpful Links\n",
        "\n",
        "* [BigFrames API Reference](https://cloud.google.com/python/docs/reference/bigframes/latest)\n",
        "\n",
        "\n",
        "* [BigFrames GitHub page with sample notebooks](https://github.com/googleapis/python-bigquery-dataframes)\n",
        "\n",
        "* [Troubleshooting notebook runtimes](https://cloud.google.com/colab/docs/troubleshooting)\n"
      ],
      "metadata": {
        "id": "Sxq-V_jV4gEk"
      }
    },
    {
      "cell_type": "markdown",
      "source": [
        "## Before you Begin : Setup Steps\n"
      ],
      "metadata": {
        "id": "05KJTULrIrbP"
      }
    },
    {
      "cell_type": "markdown",
      "source": [
        "## Install the `bigframes` package."
      ],
      "metadata": {
        "id": "Fo3s2ujertLo"
      }
    },
    {
      "cell_type": "code",
      "source": [
        "!pip install --upgrade bigframes"
      ],
      "metadata": {
        "id": "SNJdanrQM0IT"
      },
      "execution_count": null,
      "outputs": []
    },
    {
      "cell_type": "markdown",
      "source": [
        "## Define notebook variables\n",
        "\n",
        "Please update variables like your GCP Project ID (`PROJECT_ID`), dataset name (`DATASET_NAME`), and location (`LOCATION`).\n",
        "\n",
        "The variables `DATASET_NAME`, `LOCATION` and `MODEL_NAME` are pre-populated, but you can update them if you wish.\n",
        "\n",
        "Ensure that the dataset exists in the same GCP Project as `PROJECT_ID`."
      ],
      "metadata": {
        "id": "sHoUOuxf5GOR"
      }
    },
    {
      "cell_type": "code",
      "source": [
        "#@title Setup Project Variables { run: \"auto\", display-mode: \"form\" }\n",
        "PROJECT_ID = \"jrdetorre-bq-demo\" #@param {type:\"string\"}\n",
        "DATASET_NAME = \"theLook_retail\" #@param {type:\"string\"}\n",
        "MODEL_NAME = \"bqdf_customer_segment_cluster\" #@param {type:\"string\"}\n",
        "EVAL_NAME = MODEL_NAME + \"_eval\"\n",
        "LOCATION = \"US\"  # @param {type:\"string\"}\n",
        "from google.cloud import bigquery\n",
        "client = bigquery.Client()"
      ],
      "metadata": {
        "id": "_3Rfhx874F2J"
      },
      "execution_count": null,
      "outputs": []
    },
    {
      "cell_type": "code",
      "source": [
        "dataset = client.create_dataset(DATASET_NAME, timeout=30)  # Make an API request.\n",
        "print(\"Created dataset {}.{}\".format(client.project, dataset.dataset_id))"
      ],
      "metadata": {
        "id": "wHJfWWBTumIu",
        "colab": {
          "base_uri": "https://localhost:8080/"
        },
        "executionInfo": {
          "status": "ok",
          "timestamp": 1732551636376,
          "user_tz": -60,
          "elapsed": 564,
          "user": {
            "displayName": "",
            "userId": ""
          }
        },
        "outputId": "7019f0c9-2d12-4ebc-8a3a-76ced035b7bb"
      },
      "execution_count": null,
      "outputs": [
        {
          "output_type": "stream",
          "name": "stdout",
          "text": [
            "Created dataset jrdetorre-bq-demo.theLook_retail\n"
          ]
        }
      ]
    },
    {
      "cell_type": "markdown",
      "source": [
        "\n",
        "\n",
        "---\n",
        "\n"
      ],
      "metadata": {
        "id": "P-eLlA_0dj8p"
      }
    },
    {
      "cell_type": "markdown",
      "source": [
        "## Step 1 : Basic Exploratory Data Analysis\n",
        "To kick things off, let's first inspect our data prior to constructing any models. Within this tutorial, we'll be working with the [theLook eCommerce public dataset](https://console.cloud.google.com/marketplace/product/bigquery-public-data/thelook-ecommerce).\n",
        "\n",
        "TheLook is an imaginary eCommerce apparel website. Within this dataset, you'll discover details about customers, products, orders, logistics, web events, and digital marketing campaigns. Our main emphasis is the `order_items` table, which contains transactional insights about customers. It's important to note that the contents of this dataset are artificially generated and are made available to professionals in the industry for the purposes of product exploration, testing, and assessment.\n",
        "\n",
        "There are a few ways we can query data and get it into a dataframe. Here are two approaches:"
      ],
      "metadata": {
        "id": "IOlN-lku6KPi"
      }
    },
    {
      "cell_type": "markdown",
      "source": [
        "#### **Initializing BigQuery Dataframes**\n",
        "\n",
        "Import bigframes.pandas for a pandas-like interface. Use the Python SDK to bring data into a dataframe."
      ],
      "metadata": {
        "id": "5Ss_JcgU6dxL"
      }
    },
    {
      "cell_type": "code",
      "source": [
        "import bigframes as bf\n",
        "import bigframes.pandas as bpd"
      ],
      "metadata": {
        "id": "QlW51RNDNEw-"
      },
      "execution_count": null,
      "outputs": []
    },
    {
      "cell_type": "markdown",
      "source": [
        "BigQuery DataFrames uses a BigQuery session internally to manage metadata on the service side. This session is tied to a location . BigQuery DataFrames uses the US multi-region as the default location, but you can use session_options.location to set a different location. Every query in a session is executed in the location where the session was created."
      ],
      "metadata": {
        "id": "wEQpRmHws1WW"
      }
    },
    {
      "cell_type": "code",
      "source": [
        "bf.options.bigquery.project = PROJECT_ID\n",
        "bf.options.bigquery.location = LOCATION"
      ],
      "metadata": {
        "id": "qR-GYJlTORxf"
      },
      "execution_count": null,
      "outputs": []
    },
    {
      "cell_type": "markdown",
      "source": [
        "If you want to reset the location of the created DataFrame or Series objects, reset the session by executing `bf.close_session()`. After that, you can reuse `bf.options.bigquery.location` to specify another lo"
      ],
      "metadata": {
        "id": "LlE01FGFsT8d"
      }
    },
    {
      "cell_type": "markdown",
      "source": [
        " #### **`read_gbq` function**\n",
        " The `read_gbq` method accepts either a fully-qualified table ID or a SQL query."
      ],
      "metadata": {
        "id": "Fugedzw5shoX"
      }
    },
    {
      "cell_type": "code",
      "source": [
        "df = bpd.read_gbq(\"bigquery-public-data.thelook_ecommerce.order_items\")\n",
        "df"
      ],
      "metadata": {
        "id": "RzXhD_KYNX25",
        "colab": {
          "base_uri": "https://localhost:8080/",
          "height": 1000
        },
        "executionInfo": {
          "status": "ok",
          "timestamp": 1732551677271,
          "user_tz": -60,
          "elapsed": 10543,
          "user": {
            "displayName": "",
            "userId": ""
          }
        },
        "outputId": "c7a5965b-4f80-48c1-b187-4af32bc45e93"
      },
      "execution_count": null,
      "outputs": [
        {
          "output_type": "stream",
          "name": "stdout",
          "text": [
            "WARNING: google.colab.auth.authenticate_user() is not supported in Colab Enterprise.\n"
          ]
        },
        {
          "output_type": "display_data",
          "data": {
            "text/plain": [
              "<IPython.core.display.HTML object>"
            ],
            "text/html": [
              "Query job b5e588f3-1de0-439b-8602-a5407a511c63 is DONE. 13.6 MB processed. <a target=\"_blank\" href=\"https://console.cloud.google.com/bigquery?project=jrdetorre-bq-demo&j=bq:US:b5e588f3-1de0-439b-8602-a5407a511c63&page=queryresults\">Open Job</a>"
            ]
          },
          "metadata": {}
        },
        {
          "output_type": "display_data",
          "data": {
            "text/plain": [
              "<IPython.core.display.HTML object>"
            ],
            "text/html": [
              "Query job 5a7c3159-ca51-4af2-9961-60ea8fefcd11 is DONE. 16.5 MB processed. <a target=\"_blank\" href=\"https://console.cloud.google.com/bigquery?project=jrdetorre-bq-demo&j=bq:US:5a7c3159-ca51-4af2-9961-60ea8fefcd11&page=queryresults\">Open Job</a>"
            ]
          },
          "metadata": {}
        },
        {
          "output_type": "execute_result",
          "data": {
            "text/plain": [
              "        id  order_id  user_id  product_id  inventory_item_id      status  \\\n",
              "0    37353     25836    20682        7869             100963  Processing   \n",
              "1   170237    117339    94042       24397             459632     Shipped   \n",
              "2    80832     55790    44629       15510             218552    Returned   \n",
              "3   142617     98349    78935       25016             385054    Returned   \n",
              "4   166888    115056    92203        2090             450574    Complete   \n",
              "5   138192     95321    76484       14972             373016    Complete   \n",
              "6    38714     26786    21501       19749             104669    Complete   \n",
              "7   139110     95956    77034       16375             375530  Processing   \n",
              "8   168435    116119    93072       21332             454779    Returned   \n",
              "9   142513     98281    78888         578             384772     Shipped   \n",
              "10   74942     51785    41520       19810             202676    Complete   \n",
              "11   51693     35691    28645       20595             139873  Processing   \n",
              "12  101641     70140    56144       20792             274598  Processing   \n",
              "13  159337    109875    88079        3843             430219    Complete   \n",
              "14   48397     33413    26766       23619             130969    Complete   \n",
              "15  100815     69586    55692       28087             272359    Complete   \n",
              "16  142585     98330    78923       26666             384973   Cancelled   \n",
              "17   19220     13299    10633       26384              51857   Cancelled   \n",
              "18  124282     85762    68799       24033             335499    Complete   \n",
              "19  170772    117717    94340       27830             461070    Complete   \n",
              "20  132756     91560    73485         152             358357    Complete   \n",
              "21   40739     28129    22585       15132             110148     Shipped   \n",
              "22  100877     69634    55736       15845             272536  Processing   \n",
              "23   48932     33786    27078       20460             132427     Shipped   \n",
              "24   87660     60510    48422       12853             236931    Complete   \n",
              "\n",
              "                          created_at                        shipped_at  \\\n",
              "0          2024-11-21 16:14:52+00:00                              <NA>   \n",
              "1          2024-01-27 22:50:47+00:00         2024-01-28 14:33:00+00:00   \n",
              "2          2024-08-20 10:30:18+00:00         2024-08-23 00:51:00+00:00   \n",
              "3          2022-12-04 15:09:10+00:00         2022-12-06 04:42:00+00:00   \n",
              "4          2024-11-26 04:59:29+00:00         2024-11-23 09:15:00+00:00   \n",
              "5          2020-10-15 01:49:45+00:00         2020-10-17 01:36:00+00:00   \n",
              "6          2022-08-25 01:13:22+00:00         2022-08-26 09:30:00+00:00   \n",
              "7          2024-09-19 14:33:12+00:00                              <NA>   \n",
              "8          2022-05-18 14:13:41+00:00         2022-05-18 14:21:00+00:00   \n",
              "9          2024-03-25 03:48:41+00:00         2024-03-25 21:47:00+00:00   \n",
              "10         2022-06-08 00:52:34+00:00         2022-06-06 05:58:00+00:00   \n",
              "11         2022-12-03 23:47:32+00:00                              <NA>   \n",
              "12         2024-10-13 03:37:04+00:00                              <NA>   \n",
              "13         2022-10-15 05:47:34+00:00         2022-10-17 06:44:00+00:00   \n",
              "14         2023-07-25 07:57:45+00:00         2023-07-22 19:04:00+00:00   \n",
              "15         2022-06-23 16:15:20+00:00         2022-06-24 05:00:00+00:00   \n",
              "16         2024-11-01 04:16:00+00:00                              <NA>   \n",
              "17         2024-09-28 22:15:21+00:00                              <NA>   \n",
              "18         2021-05-23 02:15:31+00:00         2021-05-25 16:25:00+00:00   \n",
              "19  2024-11-24 23:14:29.700238+00:00  2024-11-26 01:29:37.700238+00:00   \n",
              "20         2022-03-09 00:35:18+00:00         2022-03-08 11:04:00+00:00   \n",
              "21         2023-05-19 04:35:05+00:00         2023-05-19 13:52:00+00:00   \n",
              "22         2024-11-21 15:19:37+00:00                              <NA>   \n",
              "23         2020-03-03 00:44:50+00:00         2020-03-04 18:47:00+00:00   \n",
              "24         2022-09-29 07:51:16+00:00         2022-10-01 01:42:00+00:00   \n",
              "\n",
              "                        delivered_at                returned_at  sale_price  \n",
              "0                               <NA>                       <NA>       11.68  \n",
              "1                               <NA>                       <NA>        46.0  \n",
              "2          2024-08-23 15:29:00+00:00  2024-08-25 10:14:00+00:00       13.99  \n",
              "3          2022-12-07 08:43:00+00:00  2022-12-09 06:52:00+00:00       13.99  \n",
              "4          2024-11-25 05:48:00+00:00                       <NA>       34.98  \n",
              "5          2020-10-21 00:55:00+00:00                       <NA>        40.0  \n",
              "6          2022-08-27 02:41:00+00:00                       <NA>       58.84  \n",
              "7                               <NA>                       <NA>   18.889999  \n",
              "8          2022-05-22 22:46:00+00:00  2022-05-24 20:18:00+00:00       59.98  \n",
              "9                               <NA>                       <NA>        80.0  \n",
              "10         2022-06-08 01:34:00+00:00                       <NA>  221.050003  \n",
              "11                              <NA>                       <NA>        84.0  \n",
              "12                              <NA>                       <NA>   48.919998  \n",
              "13         2022-10-18 16:58:00+00:00                       <NA>   39.950001  \n",
              "14         2023-07-26 00:07:00+00:00                       <NA>   43.950001  \n",
              "15         2022-06-28 18:23:00+00:00                       <NA>        55.0  \n",
              "16                              <NA>                       <NA>       14.99  \n",
              "17                              <NA>                       <NA>        55.0  \n",
              "18         2021-05-25 23:09:00+00:00                       <NA>   49.990002  \n",
              "19  2024-11-26 14:20:37.700238+00:00                       <NA>        62.0  \n",
              "20         2022-03-10 18:48:00+00:00                       <NA>       14.99  \n",
              "21                              <NA>                       <NA>        44.0  \n",
              "22                              <NA>                       <NA>         9.9  \n",
              "23                              <NA>                       <NA>        35.0  \n",
              "24         2022-10-01 11:18:00+00:00                       <NA>   44.990002  \n",
              "...\n",
              "\n",
              "[180798 rows x 11 columns]"
            ],
            "text/html": [
              "<div>\n",
              "<style scoped>\n",
              "    .dataframe tbody tr th:only-of-type {\n",
              "        vertical-align: middle;\n",
              "    }\n",
              "\n",
              "    .dataframe tbody tr th {\n",
              "        vertical-align: top;\n",
              "    }\n",
              "\n",
              "    .dataframe thead th {\n",
              "        text-align: right;\n",
              "    }\n",
              "</style>\n",
              "<table border=\"1\" class=\"dataframe\">\n",
              "  <thead>\n",
              "    <tr style=\"text-align: right;\">\n",
              "      <th></th>\n",
              "      <th>id</th>\n",
              "      <th>order_id</th>\n",
              "      <th>user_id</th>\n",
              "      <th>product_id</th>\n",
              "      <th>inventory_item_id</th>\n",
              "      <th>status</th>\n",
              "      <th>created_at</th>\n",
              "      <th>shipped_at</th>\n",
              "      <th>delivered_at</th>\n",
              "      <th>returned_at</th>\n",
              "      <th>sale_price</th>\n",
              "    </tr>\n",
              "  </thead>\n",
              "  <tbody>\n",
              "    <tr>\n",
              "      <th>0</th>\n",
              "      <td>37353</td>\n",
              "      <td>25836</td>\n",
              "      <td>20682</td>\n",
              "      <td>7869</td>\n",
              "      <td>100963</td>\n",
              "      <td>Processing</td>\n",
              "      <td>2024-11-21 16:14:52+00:00</td>\n",
              "      <td>&lt;NA&gt;</td>\n",
              "      <td>&lt;NA&gt;</td>\n",
              "      <td>&lt;NA&gt;</td>\n",
              "      <td>11.68</td>\n",
              "    </tr>\n",
              "    <tr>\n",
              "      <th>1</th>\n",
              "      <td>170237</td>\n",
              "      <td>117339</td>\n",
              "      <td>94042</td>\n",
              "      <td>24397</td>\n",
              "      <td>459632</td>\n",
              "      <td>Shipped</td>\n",
              "      <td>2024-01-27 22:50:47+00:00</td>\n",
              "      <td>2024-01-28 14:33:00+00:00</td>\n",
              "      <td>&lt;NA&gt;</td>\n",
              "      <td>&lt;NA&gt;</td>\n",
              "      <td>46.0</td>\n",
              "    </tr>\n",
              "    <tr>\n",
              "      <th>2</th>\n",
              "      <td>80832</td>\n",
              "      <td>55790</td>\n",
              "      <td>44629</td>\n",
              "      <td>15510</td>\n",
              "      <td>218552</td>\n",
              "      <td>Returned</td>\n",
              "      <td>2024-08-20 10:30:18+00:00</td>\n",
              "      <td>2024-08-23 00:51:00+00:00</td>\n",
              "      <td>2024-08-23 15:29:00+00:00</td>\n",
              "      <td>2024-08-25 10:14:00+00:00</td>\n",
              "      <td>13.99</td>\n",
              "    </tr>\n",
              "    <tr>\n",
              "      <th>3</th>\n",
              "      <td>142617</td>\n",
              "      <td>98349</td>\n",
              "      <td>78935</td>\n",
              "      <td>25016</td>\n",
              "      <td>385054</td>\n",
              "      <td>Returned</td>\n",
              "      <td>2022-12-04 15:09:10+00:00</td>\n",
              "      <td>2022-12-06 04:42:00+00:00</td>\n",
              "      <td>2022-12-07 08:43:00+00:00</td>\n",
              "      <td>2022-12-09 06:52:00+00:00</td>\n",
              "      <td>13.99</td>\n",
              "    </tr>\n",
              "    <tr>\n",
              "      <th>4</th>\n",
              "      <td>166888</td>\n",
              "      <td>115056</td>\n",
              "      <td>92203</td>\n",
              "      <td>2090</td>\n",
              "      <td>450574</td>\n",
              "      <td>Complete</td>\n",
              "      <td>2024-11-26 04:59:29+00:00</td>\n",
              "      <td>2024-11-23 09:15:00+00:00</td>\n",
              "      <td>2024-11-25 05:48:00+00:00</td>\n",
              "      <td>&lt;NA&gt;</td>\n",
              "      <td>34.98</td>\n",
              "    </tr>\n",
              "    <tr>\n",
              "      <th>5</th>\n",
              "      <td>138192</td>\n",
              "      <td>95321</td>\n",
              "      <td>76484</td>\n",
              "      <td>14972</td>\n",
              "      <td>373016</td>\n",
              "      <td>Complete</td>\n",
              "      <td>2020-10-15 01:49:45+00:00</td>\n",
              "      <td>2020-10-17 01:36:00+00:00</td>\n",
              "      <td>2020-10-21 00:55:00+00:00</td>\n",
              "      <td>&lt;NA&gt;</td>\n",
              "      <td>40.0</td>\n",
              "    </tr>\n",
              "    <tr>\n",
              "      <th>6</th>\n",
              "      <td>38714</td>\n",
              "      <td>26786</td>\n",
              "      <td>21501</td>\n",
              "      <td>19749</td>\n",
              "      <td>104669</td>\n",
              "      <td>Complete</td>\n",
              "      <td>2022-08-25 01:13:22+00:00</td>\n",
              "      <td>2022-08-26 09:30:00+00:00</td>\n",
              "      <td>2022-08-27 02:41:00+00:00</td>\n",
              "      <td>&lt;NA&gt;</td>\n",
              "      <td>58.84</td>\n",
              "    </tr>\n",
              "    <tr>\n",
              "      <th>7</th>\n",
              "      <td>139110</td>\n",
              "      <td>95956</td>\n",
              "      <td>77034</td>\n",
              "      <td>16375</td>\n",
              "      <td>375530</td>\n",
              "      <td>Processing</td>\n",
              "      <td>2024-09-19 14:33:12+00:00</td>\n",
              "      <td>&lt;NA&gt;</td>\n",
              "      <td>&lt;NA&gt;</td>\n",
              "      <td>&lt;NA&gt;</td>\n",
              "      <td>18.889999</td>\n",
              "    </tr>\n",
              "    <tr>\n",
              "      <th>8</th>\n",
              "      <td>168435</td>\n",
              "      <td>116119</td>\n",
              "      <td>93072</td>\n",
              "      <td>21332</td>\n",
              "      <td>454779</td>\n",
              "      <td>Returned</td>\n",
              "      <td>2022-05-18 14:13:41+00:00</td>\n",
              "      <td>2022-05-18 14:21:00+00:00</td>\n",
              "      <td>2022-05-22 22:46:00+00:00</td>\n",
              "      <td>2022-05-24 20:18:00+00:00</td>\n",
              "      <td>59.98</td>\n",
              "    </tr>\n",
              "    <tr>\n",
              "      <th>9</th>\n",
              "      <td>142513</td>\n",
              "      <td>98281</td>\n",
              "      <td>78888</td>\n",
              "      <td>578</td>\n",
              "      <td>384772</td>\n",
              "      <td>Shipped</td>\n",
              "      <td>2024-03-25 03:48:41+00:00</td>\n",
              "      <td>2024-03-25 21:47:00+00:00</td>\n",
              "      <td>&lt;NA&gt;</td>\n",
              "      <td>&lt;NA&gt;</td>\n",
              "      <td>80.0</td>\n",
              "    </tr>\n",
              "    <tr>\n",
              "      <th>10</th>\n",
              "      <td>74942</td>\n",
              "      <td>51785</td>\n",
              "      <td>41520</td>\n",
              "      <td>19810</td>\n",
              "      <td>202676</td>\n",
              "      <td>Complete</td>\n",
              "      <td>2022-06-08 00:52:34+00:00</td>\n",
              "      <td>2022-06-06 05:58:00+00:00</td>\n",
              "      <td>2022-06-08 01:34:00+00:00</td>\n",
              "      <td>&lt;NA&gt;</td>\n",
              "      <td>221.050003</td>\n",
              "    </tr>\n",
              "    <tr>\n",
              "      <th>11</th>\n",
              "      <td>51693</td>\n",
              "      <td>35691</td>\n",
              "      <td>28645</td>\n",
              "      <td>20595</td>\n",
              "      <td>139873</td>\n",
              "      <td>Processing</td>\n",
              "      <td>2022-12-03 23:47:32+00:00</td>\n",
              "      <td>&lt;NA&gt;</td>\n",
              "      <td>&lt;NA&gt;</td>\n",
              "      <td>&lt;NA&gt;</td>\n",
              "      <td>84.0</td>\n",
              "    </tr>\n",
              "    <tr>\n",
              "      <th>12</th>\n",
              "      <td>101641</td>\n",
              "      <td>70140</td>\n",
              "      <td>56144</td>\n",
              "      <td>20792</td>\n",
              "      <td>274598</td>\n",
              "      <td>Processing</td>\n",
              "      <td>2024-10-13 03:37:04+00:00</td>\n",
              "      <td>&lt;NA&gt;</td>\n",
              "      <td>&lt;NA&gt;</td>\n",
              "      <td>&lt;NA&gt;</td>\n",
              "      <td>48.919998</td>\n",
              "    </tr>\n",
              "    <tr>\n",
              "      <th>13</th>\n",
              "      <td>159337</td>\n",
              "      <td>109875</td>\n",
              "      <td>88079</td>\n",
              "      <td>3843</td>\n",
              "      <td>430219</td>\n",
              "      <td>Complete</td>\n",
              "      <td>2022-10-15 05:47:34+00:00</td>\n",
              "      <td>2022-10-17 06:44:00+00:00</td>\n",
              "      <td>2022-10-18 16:58:00+00:00</td>\n",
              "      <td>&lt;NA&gt;</td>\n",
              "      <td>39.950001</td>\n",
              "    </tr>\n",
              "    <tr>\n",
              "      <th>14</th>\n",
              "      <td>48397</td>\n",
              "      <td>33413</td>\n",
              "      <td>26766</td>\n",
              "      <td>23619</td>\n",
              "      <td>130969</td>\n",
              "      <td>Complete</td>\n",
              "      <td>2023-07-25 07:57:45+00:00</td>\n",
              "      <td>2023-07-22 19:04:00+00:00</td>\n",
              "      <td>2023-07-26 00:07:00+00:00</td>\n",
              "      <td>&lt;NA&gt;</td>\n",
              "      <td>43.950001</td>\n",
              "    </tr>\n",
              "    <tr>\n",
              "      <th>15</th>\n",
              "      <td>100815</td>\n",
              "      <td>69586</td>\n",
              "      <td>55692</td>\n",
              "      <td>28087</td>\n",
              "      <td>272359</td>\n",
              "      <td>Complete</td>\n",
              "      <td>2022-06-23 16:15:20+00:00</td>\n",
              "      <td>2022-06-24 05:00:00+00:00</td>\n",
              "      <td>2022-06-28 18:23:00+00:00</td>\n",
              "      <td>&lt;NA&gt;</td>\n",
              "      <td>55.0</td>\n",
              "    </tr>\n",
              "    <tr>\n",
              "      <th>16</th>\n",
              "      <td>142585</td>\n",
              "      <td>98330</td>\n",
              "      <td>78923</td>\n",
              "      <td>26666</td>\n",
              "      <td>384973</td>\n",
              "      <td>Cancelled</td>\n",
              "      <td>2024-11-01 04:16:00+00:00</td>\n",
              "      <td>&lt;NA&gt;</td>\n",
              "      <td>&lt;NA&gt;</td>\n",
              "      <td>&lt;NA&gt;</td>\n",
              "      <td>14.99</td>\n",
              "    </tr>\n",
              "    <tr>\n",
              "      <th>17</th>\n",
              "      <td>19220</td>\n",
              "      <td>13299</td>\n",
              "      <td>10633</td>\n",
              "      <td>26384</td>\n",
              "      <td>51857</td>\n",
              "      <td>Cancelled</td>\n",
              "      <td>2024-09-28 22:15:21+00:00</td>\n",
              "      <td>&lt;NA&gt;</td>\n",
              "      <td>&lt;NA&gt;</td>\n",
              "      <td>&lt;NA&gt;</td>\n",
              "      <td>55.0</td>\n",
              "    </tr>\n",
              "    <tr>\n",
              "      <th>18</th>\n",
              "      <td>124282</td>\n",
              "      <td>85762</td>\n",
              "      <td>68799</td>\n",
              "      <td>24033</td>\n",
              "      <td>335499</td>\n",
              "      <td>Complete</td>\n",
              "      <td>2021-05-23 02:15:31+00:00</td>\n",
              "      <td>2021-05-25 16:25:00+00:00</td>\n",
              "      <td>2021-05-25 23:09:00+00:00</td>\n",
              "      <td>&lt;NA&gt;</td>\n",
              "      <td>49.990002</td>\n",
              "    </tr>\n",
              "    <tr>\n",
              "      <th>19</th>\n",
              "      <td>170772</td>\n",
              "      <td>117717</td>\n",
              "      <td>94340</td>\n",
              "      <td>27830</td>\n",
              "      <td>461070</td>\n",
              "      <td>Complete</td>\n",
              "      <td>2024-11-24 23:14:29.700238+00:00</td>\n",
              "      <td>2024-11-26 01:29:37.700238+00:00</td>\n",
              "      <td>2024-11-26 14:20:37.700238+00:00</td>\n",
              "      <td>&lt;NA&gt;</td>\n",
              "      <td>62.0</td>\n",
              "    </tr>\n",
              "    <tr>\n",
              "      <th>20</th>\n",
              "      <td>132756</td>\n",
              "      <td>91560</td>\n",
              "      <td>73485</td>\n",
              "      <td>152</td>\n",
              "      <td>358357</td>\n",
              "      <td>Complete</td>\n",
              "      <td>2022-03-09 00:35:18+00:00</td>\n",
              "      <td>2022-03-08 11:04:00+00:00</td>\n",
              "      <td>2022-03-10 18:48:00+00:00</td>\n",
              "      <td>&lt;NA&gt;</td>\n",
              "      <td>14.99</td>\n",
              "    </tr>\n",
              "    <tr>\n",
              "      <th>21</th>\n",
              "      <td>40739</td>\n",
              "      <td>28129</td>\n",
              "      <td>22585</td>\n",
              "      <td>15132</td>\n",
              "      <td>110148</td>\n",
              "      <td>Shipped</td>\n",
              "      <td>2023-05-19 04:35:05+00:00</td>\n",
              "      <td>2023-05-19 13:52:00+00:00</td>\n",
              "      <td>&lt;NA&gt;</td>\n",
              "      <td>&lt;NA&gt;</td>\n",
              "      <td>44.0</td>\n",
              "    </tr>\n",
              "    <tr>\n",
              "      <th>22</th>\n",
              "      <td>100877</td>\n",
              "      <td>69634</td>\n",
              "      <td>55736</td>\n",
              "      <td>15845</td>\n",
              "      <td>272536</td>\n",
              "      <td>Processing</td>\n",
              "      <td>2024-11-21 15:19:37+00:00</td>\n",
              "      <td>&lt;NA&gt;</td>\n",
              "      <td>&lt;NA&gt;</td>\n",
              "      <td>&lt;NA&gt;</td>\n",
              "      <td>9.9</td>\n",
              "    </tr>\n",
              "    <tr>\n",
              "      <th>23</th>\n",
              "      <td>48932</td>\n",
              "      <td>33786</td>\n",
              "      <td>27078</td>\n",
              "      <td>20460</td>\n",
              "      <td>132427</td>\n",
              "      <td>Shipped</td>\n",
              "      <td>2020-03-03 00:44:50+00:00</td>\n",
              "      <td>2020-03-04 18:47:00+00:00</td>\n",
              "      <td>&lt;NA&gt;</td>\n",
              "      <td>&lt;NA&gt;</td>\n",
              "      <td>35.0</td>\n",
              "    </tr>\n",
              "    <tr>\n",
              "      <th>24</th>\n",
              "      <td>87660</td>\n",
              "      <td>60510</td>\n",
              "      <td>48422</td>\n",
              "      <td>12853</td>\n",
              "      <td>236931</td>\n",
              "      <td>Complete</td>\n",
              "      <td>2022-09-29 07:51:16+00:00</td>\n",
              "      <td>2022-10-01 01:42:00+00:00</td>\n",
              "      <td>2022-10-01 11:18:00+00:00</td>\n",
              "      <td>&lt;NA&gt;</td>\n",
              "      <td>44.990002</td>\n",
              "    </tr>\n",
              "  </tbody>\n",
              "</table>\n",
              "<p>25 rows × 11 columns</p>\n",
              "</div>[180798 rows x 11 columns in total]"
            ]
          },
          "metadata": {},
          "execution_count": 5
        }
      ]
    },
    {
      "cell_type": "markdown",
      "source": [
        "#### **Restricting Dataframe columns**\n",
        "Next, Choosing a restricted set of features for the purpose of conducting feature engineering."
      ],
      "metadata": {
        "id": "xC0_CcriIO9J"
      }
    },
    {
      "cell_type": "code",
      "source": [
        "df = df[[\"user_id\", \"order_id\", \"sale_price\", \"created_at\", \"status\"]].rename(columns={\"created_at\": \"order_created_date\"})\n",
        "df"
      ],
      "metadata": {
        "id": "kdNMJnBLOvi6",
        "colab": {
          "base_uri": "https://localhost:8080/",
          "height": 897
        },
        "executionInfo": {
          "status": "ok",
          "timestamp": 1732551719695,
          "user_tz": -60,
          "elapsed": 2505,
          "user": {
            "displayName": "",
            "userId": ""
          }
        },
        "outputId": "d14958f2-06a7-4e35-89e1-972d5b16ad9f"
      },
      "execution_count": null,
      "outputs": [
        {
          "output_type": "display_data",
          "data": {
            "text/plain": [
              "<IPython.core.display.HTML object>"
            ],
            "text/html": [
              "Query job e1e1a3a0-dff2-4590-88a7-18a5c966af9b is DONE. 10.5 MB processed. <a target=\"_blank\" href=\"https://console.cloud.google.com/bigquery?project=jrdetorre-bq-demo&j=bq:US:e1e1a3a0-dff2-4590-88a7-18a5c966af9b&page=queryresults\">Open Job</a>"
            ]
          },
          "metadata": {}
        },
        {
          "output_type": "execute_result",
          "data": {
            "text/plain": [
              "    user_id  order_id  sale_price                order_created_date  \\\n",
              "0     20682     25836       11.68         2024-11-21 16:14:52+00:00   \n",
              "1     94042    117339        46.0         2024-01-27 22:50:47+00:00   \n",
              "2     44629     55790       13.99         2024-08-20 10:30:18+00:00   \n",
              "3     78935     98349       13.99         2022-12-04 15:09:10+00:00   \n",
              "4     92203    115056       34.98         2024-11-26 04:59:29+00:00   \n",
              "5     76484     95321        40.0         2020-10-15 01:49:45+00:00   \n",
              "6     21501     26786       58.84         2022-08-25 01:13:22+00:00   \n",
              "7     77034     95956   18.889999         2024-09-19 14:33:12+00:00   \n",
              "8     93072    116119       59.98         2022-05-18 14:13:41+00:00   \n",
              "9     78888     98281        80.0         2024-03-25 03:48:41+00:00   \n",
              "10    41520     51785  221.050003         2022-06-08 00:52:34+00:00   \n",
              "11    28645     35691        84.0         2022-12-03 23:47:32+00:00   \n",
              "12    56144     70140   48.919998         2024-10-13 03:37:04+00:00   \n",
              "13    88079    109875   39.950001         2022-10-15 05:47:34+00:00   \n",
              "14    26766     33413   43.950001         2023-07-25 07:57:45+00:00   \n",
              "15    55692     69586        55.0         2022-06-23 16:15:20+00:00   \n",
              "16    78923     98330       14.99         2024-11-01 04:16:00+00:00   \n",
              "17    10633     13299        55.0         2024-09-28 22:15:21+00:00   \n",
              "18    68799     85762   49.990002         2021-05-23 02:15:31+00:00   \n",
              "19    94340    117717        62.0  2024-11-24 23:14:29.700238+00:00   \n",
              "20    73485     91560       14.99         2022-03-09 00:35:18+00:00   \n",
              "21    22585     28129        44.0         2023-05-19 04:35:05+00:00   \n",
              "22    55736     69634         9.9         2024-11-21 15:19:37+00:00   \n",
              "23    27078     33786        35.0         2020-03-03 00:44:50+00:00   \n",
              "24    48422     60510   44.990002         2022-09-29 07:51:16+00:00   \n",
              "\n",
              "        status  \n",
              "0   Processing  \n",
              "1      Shipped  \n",
              "2     Returned  \n",
              "3     Returned  \n",
              "4     Complete  \n",
              "5     Complete  \n",
              "6     Complete  \n",
              "7   Processing  \n",
              "8     Returned  \n",
              "9      Shipped  \n",
              "10    Complete  \n",
              "11  Processing  \n",
              "12  Processing  \n",
              "13    Complete  \n",
              "14    Complete  \n",
              "15    Complete  \n",
              "16   Cancelled  \n",
              "17   Cancelled  \n",
              "18    Complete  \n",
              "19    Complete  \n",
              "20    Complete  \n",
              "21     Shipped  \n",
              "22  Processing  \n",
              "23     Shipped  \n",
              "24    Complete  \n",
              "...\n",
              "\n",
              "[180798 rows x 5 columns]"
            ],
            "text/html": [
              "<div>\n",
              "<style scoped>\n",
              "    .dataframe tbody tr th:only-of-type {\n",
              "        vertical-align: middle;\n",
              "    }\n",
              "\n",
              "    .dataframe tbody tr th {\n",
              "        vertical-align: top;\n",
              "    }\n",
              "\n",
              "    .dataframe thead th {\n",
              "        text-align: right;\n",
              "    }\n",
              "</style>\n",
              "<table border=\"1\" class=\"dataframe\">\n",
              "  <thead>\n",
              "    <tr style=\"text-align: right;\">\n",
              "      <th></th>\n",
              "      <th>user_id</th>\n",
              "      <th>order_id</th>\n",
              "      <th>sale_price</th>\n",
              "      <th>order_created_date</th>\n",
              "      <th>status</th>\n",
              "    </tr>\n",
              "  </thead>\n",
              "  <tbody>\n",
              "    <tr>\n",
              "      <th>0</th>\n",
              "      <td>20682</td>\n",
              "      <td>25836</td>\n",
              "      <td>11.68</td>\n",
              "      <td>2024-11-21 16:14:52+00:00</td>\n",
              "      <td>Processing</td>\n",
              "    </tr>\n",
              "    <tr>\n",
              "      <th>1</th>\n",
              "      <td>94042</td>\n",
              "      <td>117339</td>\n",
              "      <td>46.0</td>\n",
              "      <td>2024-01-27 22:50:47+00:00</td>\n",
              "      <td>Shipped</td>\n",
              "    </tr>\n",
              "    <tr>\n",
              "      <th>2</th>\n",
              "      <td>44629</td>\n",
              "      <td>55790</td>\n",
              "      <td>13.99</td>\n",
              "      <td>2024-08-20 10:30:18+00:00</td>\n",
              "      <td>Returned</td>\n",
              "    </tr>\n",
              "    <tr>\n",
              "      <th>3</th>\n",
              "      <td>78935</td>\n",
              "      <td>98349</td>\n",
              "      <td>13.99</td>\n",
              "      <td>2022-12-04 15:09:10+00:00</td>\n",
              "      <td>Returned</td>\n",
              "    </tr>\n",
              "    <tr>\n",
              "      <th>4</th>\n",
              "      <td>92203</td>\n",
              "      <td>115056</td>\n",
              "      <td>34.98</td>\n",
              "      <td>2024-11-26 04:59:29+00:00</td>\n",
              "      <td>Complete</td>\n",
              "    </tr>\n",
              "    <tr>\n",
              "      <th>5</th>\n",
              "      <td>76484</td>\n",
              "      <td>95321</td>\n",
              "      <td>40.0</td>\n",
              "      <td>2020-10-15 01:49:45+00:00</td>\n",
              "      <td>Complete</td>\n",
              "    </tr>\n",
              "    <tr>\n",
              "      <th>6</th>\n",
              "      <td>21501</td>\n",
              "      <td>26786</td>\n",
              "      <td>58.84</td>\n",
              "      <td>2022-08-25 01:13:22+00:00</td>\n",
              "      <td>Complete</td>\n",
              "    </tr>\n",
              "    <tr>\n",
              "      <th>7</th>\n",
              "      <td>77034</td>\n",
              "      <td>95956</td>\n",
              "      <td>18.889999</td>\n",
              "      <td>2024-09-19 14:33:12+00:00</td>\n",
              "      <td>Processing</td>\n",
              "    </tr>\n",
              "    <tr>\n",
              "      <th>8</th>\n",
              "      <td>93072</td>\n",
              "      <td>116119</td>\n",
              "      <td>59.98</td>\n",
              "      <td>2022-05-18 14:13:41+00:00</td>\n",
              "      <td>Returned</td>\n",
              "    </tr>\n",
              "    <tr>\n",
              "      <th>9</th>\n",
              "      <td>78888</td>\n",
              "      <td>98281</td>\n",
              "      <td>80.0</td>\n",
              "      <td>2024-03-25 03:48:41+00:00</td>\n",
              "      <td>Shipped</td>\n",
              "    </tr>\n",
              "    <tr>\n",
              "      <th>10</th>\n",
              "      <td>41520</td>\n",
              "      <td>51785</td>\n",
              "      <td>221.050003</td>\n",
              "      <td>2022-06-08 00:52:34+00:00</td>\n",
              "      <td>Complete</td>\n",
              "    </tr>\n",
              "    <tr>\n",
              "      <th>11</th>\n",
              "      <td>28645</td>\n",
              "      <td>35691</td>\n",
              "      <td>84.0</td>\n",
              "      <td>2022-12-03 23:47:32+00:00</td>\n",
              "      <td>Processing</td>\n",
              "    </tr>\n",
              "    <tr>\n",
              "      <th>12</th>\n",
              "      <td>56144</td>\n",
              "      <td>70140</td>\n",
              "      <td>48.919998</td>\n",
              "      <td>2024-10-13 03:37:04+00:00</td>\n",
              "      <td>Processing</td>\n",
              "    </tr>\n",
              "    <tr>\n",
              "      <th>13</th>\n",
              "      <td>88079</td>\n",
              "      <td>109875</td>\n",
              "      <td>39.950001</td>\n",
              "      <td>2022-10-15 05:47:34+00:00</td>\n",
              "      <td>Complete</td>\n",
              "    </tr>\n",
              "    <tr>\n",
              "      <th>14</th>\n",
              "      <td>26766</td>\n",
              "      <td>33413</td>\n",
              "      <td>43.950001</td>\n",
              "      <td>2023-07-25 07:57:45+00:00</td>\n",
              "      <td>Complete</td>\n",
              "    </tr>\n",
              "    <tr>\n",
              "      <th>15</th>\n",
              "      <td>55692</td>\n",
              "      <td>69586</td>\n",
              "      <td>55.0</td>\n",
              "      <td>2022-06-23 16:15:20+00:00</td>\n",
              "      <td>Complete</td>\n",
              "    </tr>\n",
              "    <tr>\n",
              "      <th>16</th>\n",
              "      <td>78923</td>\n",
              "      <td>98330</td>\n",
              "      <td>14.99</td>\n",
              "      <td>2024-11-01 04:16:00+00:00</td>\n",
              "      <td>Cancelled</td>\n",
              "    </tr>\n",
              "    <tr>\n",
              "      <th>17</th>\n",
              "      <td>10633</td>\n",
              "      <td>13299</td>\n",
              "      <td>55.0</td>\n",
              "      <td>2024-09-28 22:15:21+00:00</td>\n",
              "      <td>Cancelled</td>\n",
              "    </tr>\n",
              "    <tr>\n",
              "      <th>18</th>\n",
              "      <td>68799</td>\n",
              "      <td>85762</td>\n",
              "      <td>49.990002</td>\n",
              "      <td>2021-05-23 02:15:31+00:00</td>\n",
              "      <td>Complete</td>\n",
              "    </tr>\n",
              "    <tr>\n",
              "      <th>19</th>\n",
              "      <td>94340</td>\n",
              "      <td>117717</td>\n",
              "      <td>62.0</td>\n",
              "      <td>2024-11-24 23:14:29.700238+00:00</td>\n",
              "      <td>Complete</td>\n",
              "    </tr>\n",
              "    <tr>\n",
              "      <th>20</th>\n",
              "      <td>73485</td>\n",
              "      <td>91560</td>\n",
              "      <td>14.99</td>\n",
              "      <td>2022-03-09 00:35:18+00:00</td>\n",
              "      <td>Complete</td>\n",
              "    </tr>\n",
              "    <tr>\n",
              "      <th>21</th>\n",
              "      <td>22585</td>\n",
              "      <td>28129</td>\n",
              "      <td>44.0</td>\n",
              "      <td>2023-05-19 04:35:05+00:00</td>\n",
              "      <td>Shipped</td>\n",
              "    </tr>\n",
              "    <tr>\n",
              "      <th>22</th>\n",
              "      <td>55736</td>\n",
              "      <td>69634</td>\n",
              "      <td>9.9</td>\n",
              "      <td>2024-11-21 15:19:37+00:00</td>\n",
              "      <td>Processing</td>\n",
              "    </tr>\n",
              "    <tr>\n",
              "      <th>23</th>\n",
              "      <td>27078</td>\n",
              "      <td>33786</td>\n",
              "      <td>35.0</td>\n",
              "      <td>2020-03-03 00:44:50+00:00</td>\n",
              "      <td>Shipped</td>\n",
              "    </tr>\n",
              "    <tr>\n",
              "      <th>24</th>\n",
              "      <td>48422</td>\n",
              "      <td>60510</td>\n",
              "      <td>44.990002</td>\n",
              "      <td>2022-09-29 07:51:16+00:00</td>\n",
              "      <td>Complete</td>\n",
              "    </tr>\n",
              "  </tbody>\n",
              "</table>\n",
              "<p>25 rows × 5 columns</p>\n",
              "</div>[180798 rows x 5 columns in total]"
            ]
          },
          "metadata": {},
          "execution_count": 6
        }
      ]
    },
    {
      "cell_type": "markdown",
      "source": [
        "#### **Restricting the dataset to data spanning one year**"
      ],
      "metadata": {
        "id": "HtznpFFnJZqO"
      }
    },
    {
      "cell_type": "code",
      "source": [
        "df = df[df[\"order_created_date\"] >= \"2022-01-01\"]\n",
        "df = df[df[\"order_created_date\"] < \"2023-01-01\"]\n",
        "df"
      ],
      "metadata": {
        "id": "9QVWdVT5PXmI",
        "colab": {
          "base_uri": "https://localhost:8080/",
          "height": 914
        },
        "executionInfo": {
          "status": "ok",
          "timestamp": 1732551807426,
          "user_tz": -60,
          "elapsed": 5790,
          "user": {
            "displayName": "",
            "userId": ""
          }
        },
        "outputId": "b9091db6-9e75-4cbb-cd4b-c3b62d176097"
      },
      "execution_count": 7,
      "outputs": [
        {
          "output_type": "display_data",
          "data": {
            "text/plain": [
              "<IPython.core.display.HTML object>"
            ],
            "text/html": [
              "Query job d8518f5d-d0a7-4ff7-a7d4-709e437ee5dc is DONE. 10.5 MB processed. <a target=\"_blank\" href=\"https://console.cloud.google.com/bigquery?project=jrdetorre-bq-demo&j=bq:US:d8518f5d-d0a7-4ff7-a7d4-709e437ee5dc&page=queryresults\">Open Job</a>"
            ]
          },
          "metadata": {}
        },
        {
          "output_type": "display_data",
          "data": {
            "text/plain": [
              "<IPython.core.display.HTML object>"
            ],
            "text/html": [
              "Query job ba58a457-81b6-4008-8ed7-9d8926cb4858 is DONE. 1.6 MB processed. <a target=\"_blank\" href=\"https://console.cloud.google.com/bigquery?project=jrdetorre-bq-demo&j=bq:US:ba58a457-81b6-4008-8ed7-9d8926cb4858&page=queryresults\">Open Job</a>"
            ]
          },
          "metadata": {}
        },
        {
          "output_type": "execute_result",
          "data": {
            "text/plain": [
              "     user_id  order_id  sale_price         order_created_date      status\n",
              "3      78935     98349       13.99  2022-12-04 15:09:10+00:00    Returned\n",
              "6      21501     26786       58.84  2022-08-25 01:13:22+00:00    Complete\n",
              "8      93072    116119       59.98  2022-05-18 14:13:41+00:00    Returned\n",
              "10     41520     51785  221.050003  2022-06-08 00:52:34+00:00    Complete\n",
              "11     28645     35691        84.0  2022-12-03 23:47:32+00:00  Processing\n",
              "13     88079    109875   39.950001  2022-10-15 05:47:34+00:00    Complete\n",
              "15     55692     69586        55.0  2022-06-23 16:15:20+00:00    Complete\n",
              "20     73485     91560       14.99  2022-03-09 00:35:18+00:00    Complete\n",
              "24     48422     60510   44.990002  2022-09-29 07:51:16+00:00    Complete\n",
              "30     66018     82328        50.0  2022-04-06 04:06:03+00:00   Cancelled\n",
              "38     42328     52828   34.990002  2022-03-03 23:07:38+00:00     Shipped\n",
              "44     67962     84756       171.0  2022-02-14 07:18:12+00:00    Returned\n",
              "52     55198     68949   87.099998  2022-09-18 22:52:53+00:00  Processing\n",
              "65     98746    123176        24.0  2022-09-10 12:42:31+00:00    Complete\n",
              "67     85631    106784        13.0  2022-06-23 17:06:04+00:00    Returned\n",
              "77     60114     75096        98.0  2022-12-05 16:31:28+00:00     Shipped\n",
              "85     52572     65683  130.369995  2022-04-14 21:18:07+00:00    Complete\n",
              "88     95249    118846  132.660004  2022-11-22 05:48:27+00:00   Cancelled\n",
              "99     86933    108419        34.0  2022-09-23 01:42:26+00:00     Shipped\n",
              "112    48727     60882   16.790001  2022-04-14 00:30:01+00:00    Complete\n",
              "117    32389     40417        75.0  2022-12-31 13:25:12+00:00     Shipped\n",
              "121    32107     40034        32.0  2022-06-19 02:17:42+00:00  Processing\n",
              "129    20084     25068       188.0  2022-04-21 06:44:31+00:00    Complete\n",
              "135    95534    119192   88.949997  2022-06-30 09:37:29+00:00    Returned\n",
              "144    53615     66964       33.98  2022-05-21 23:54:00+00:00  Processing\n",
              "...\n",
              "\n",
              "[26820 rows x 5 columns]"
            ],
            "text/html": [
              "<div>\n",
              "<style scoped>\n",
              "    .dataframe tbody tr th:only-of-type {\n",
              "        vertical-align: middle;\n",
              "    }\n",
              "\n",
              "    .dataframe tbody tr th {\n",
              "        vertical-align: top;\n",
              "    }\n",
              "\n",
              "    .dataframe thead th {\n",
              "        text-align: right;\n",
              "    }\n",
              "</style>\n",
              "<table border=\"1\" class=\"dataframe\">\n",
              "  <thead>\n",
              "    <tr style=\"text-align: right;\">\n",
              "      <th></th>\n",
              "      <th>user_id</th>\n",
              "      <th>order_id</th>\n",
              "      <th>sale_price</th>\n",
              "      <th>order_created_date</th>\n",
              "      <th>status</th>\n",
              "    </tr>\n",
              "  </thead>\n",
              "  <tbody>\n",
              "    <tr>\n",
              "      <th>3</th>\n",
              "      <td>78935</td>\n",
              "      <td>98349</td>\n",
              "      <td>13.99</td>\n",
              "      <td>2022-12-04 15:09:10+00:00</td>\n",
              "      <td>Returned</td>\n",
              "    </tr>\n",
              "    <tr>\n",
              "      <th>6</th>\n",
              "      <td>21501</td>\n",
              "      <td>26786</td>\n",
              "      <td>58.84</td>\n",
              "      <td>2022-08-25 01:13:22+00:00</td>\n",
              "      <td>Complete</td>\n",
              "    </tr>\n",
              "    <tr>\n",
              "      <th>8</th>\n",
              "      <td>93072</td>\n",
              "      <td>116119</td>\n",
              "      <td>59.98</td>\n",
              "      <td>2022-05-18 14:13:41+00:00</td>\n",
              "      <td>Returned</td>\n",
              "    </tr>\n",
              "    <tr>\n",
              "      <th>10</th>\n",
              "      <td>41520</td>\n",
              "      <td>51785</td>\n",
              "      <td>221.050003</td>\n",
              "      <td>2022-06-08 00:52:34+00:00</td>\n",
              "      <td>Complete</td>\n",
              "    </tr>\n",
              "    <tr>\n",
              "      <th>11</th>\n",
              "      <td>28645</td>\n",
              "      <td>35691</td>\n",
              "      <td>84.0</td>\n",
              "      <td>2022-12-03 23:47:32+00:00</td>\n",
              "      <td>Processing</td>\n",
              "    </tr>\n",
              "    <tr>\n",
              "      <th>13</th>\n",
              "      <td>88079</td>\n",
              "      <td>109875</td>\n",
              "      <td>39.950001</td>\n",
              "      <td>2022-10-15 05:47:34+00:00</td>\n",
              "      <td>Complete</td>\n",
              "    </tr>\n",
              "    <tr>\n",
              "      <th>15</th>\n",
              "      <td>55692</td>\n",
              "      <td>69586</td>\n",
              "      <td>55.0</td>\n",
              "      <td>2022-06-23 16:15:20+00:00</td>\n",
              "      <td>Complete</td>\n",
              "    </tr>\n",
              "    <tr>\n",
              "      <th>20</th>\n",
              "      <td>73485</td>\n",
              "      <td>91560</td>\n",
              "      <td>14.99</td>\n",
              "      <td>2022-03-09 00:35:18+00:00</td>\n",
              "      <td>Complete</td>\n",
              "    </tr>\n",
              "    <tr>\n",
              "      <th>24</th>\n",
              "      <td>48422</td>\n",
              "      <td>60510</td>\n",
              "      <td>44.990002</td>\n",
              "      <td>2022-09-29 07:51:16+00:00</td>\n",
              "      <td>Complete</td>\n",
              "    </tr>\n",
              "    <tr>\n",
              "      <th>30</th>\n",
              "      <td>66018</td>\n",
              "      <td>82328</td>\n",
              "      <td>50.0</td>\n",
              "      <td>2022-04-06 04:06:03+00:00</td>\n",
              "      <td>Cancelled</td>\n",
              "    </tr>\n",
              "    <tr>\n",
              "      <th>38</th>\n",
              "      <td>42328</td>\n",
              "      <td>52828</td>\n",
              "      <td>34.990002</td>\n",
              "      <td>2022-03-03 23:07:38+00:00</td>\n",
              "      <td>Shipped</td>\n",
              "    </tr>\n",
              "    <tr>\n",
              "      <th>44</th>\n",
              "      <td>67962</td>\n",
              "      <td>84756</td>\n",
              "      <td>171.0</td>\n",
              "      <td>2022-02-14 07:18:12+00:00</td>\n",
              "      <td>Returned</td>\n",
              "    </tr>\n",
              "    <tr>\n",
              "      <th>52</th>\n",
              "      <td>55198</td>\n",
              "      <td>68949</td>\n",
              "      <td>87.099998</td>\n",
              "      <td>2022-09-18 22:52:53+00:00</td>\n",
              "      <td>Processing</td>\n",
              "    </tr>\n",
              "    <tr>\n",
              "      <th>65</th>\n",
              "      <td>98746</td>\n",
              "      <td>123176</td>\n",
              "      <td>24.0</td>\n",
              "      <td>2022-09-10 12:42:31+00:00</td>\n",
              "      <td>Complete</td>\n",
              "    </tr>\n",
              "    <tr>\n",
              "      <th>67</th>\n",
              "      <td>85631</td>\n",
              "      <td>106784</td>\n",
              "      <td>13.0</td>\n",
              "      <td>2022-06-23 17:06:04+00:00</td>\n",
              "      <td>Returned</td>\n",
              "    </tr>\n",
              "    <tr>\n",
              "      <th>77</th>\n",
              "      <td>60114</td>\n",
              "      <td>75096</td>\n",
              "      <td>98.0</td>\n",
              "      <td>2022-12-05 16:31:28+00:00</td>\n",
              "      <td>Shipped</td>\n",
              "    </tr>\n",
              "    <tr>\n",
              "      <th>85</th>\n",
              "      <td>52572</td>\n",
              "      <td>65683</td>\n",
              "      <td>130.369995</td>\n",
              "      <td>2022-04-14 21:18:07+00:00</td>\n",
              "      <td>Complete</td>\n",
              "    </tr>\n",
              "    <tr>\n",
              "      <th>88</th>\n",
              "      <td>95249</td>\n",
              "      <td>118846</td>\n",
              "      <td>132.660004</td>\n",
              "      <td>2022-11-22 05:48:27+00:00</td>\n",
              "      <td>Cancelled</td>\n",
              "    </tr>\n",
              "    <tr>\n",
              "      <th>99</th>\n",
              "      <td>86933</td>\n",
              "      <td>108419</td>\n",
              "      <td>34.0</td>\n",
              "      <td>2022-09-23 01:42:26+00:00</td>\n",
              "      <td>Shipped</td>\n",
              "    </tr>\n",
              "    <tr>\n",
              "      <th>112</th>\n",
              "      <td>48727</td>\n",
              "      <td>60882</td>\n",
              "      <td>16.790001</td>\n",
              "      <td>2022-04-14 00:30:01+00:00</td>\n",
              "      <td>Complete</td>\n",
              "    </tr>\n",
              "    <tr>\n",
              "      <th>117</th>\n",
              "      <td>32389</td>\n",
              "      <td>40417</td>\n",
              "      <td>75.0</td>\n",
              "      <td>2022-12-31 13:25:12+00:00</td>\n",
              "      <td>Shipped</td>\n",
              "    </tr>\n",
              "    <tr>\n",
              "      <th>121</th>\n",
              "      <td>32107</td>\n",
              "      <td>40034</td>\n",
              "      <td>32.0</td>\n",
              "      <td>2022-06-19 02:17:42+00:00</td>\n",
              "      <td>Processing</td>\n",
              "    </tr>\n",
              "    <tr>\n",
              "      <th>129</th>\n",
              "      <td>20084</td>\n",
              "      <td>25068</td>\n",
              "      <td>188.0</td>\n",
              "      <td>2022-04-21 06:44:31+00:00</td>\n",
              "      <td>Complete</td>\n",
              "    </tr>\n",
              "    <tr>\n",
              "      <th>135</th>\n",
              "      <td>95534</td>\n",
              "      <td>119192</td>\n",
              "      <td>88.949997</td>\n",
              "      <td>2022-06-30 09:37:29+00:00</td>\n",
              "      <td>Returned</td>\n",
              "    </tr>\n",
              "    <tr>\n",
              "      <th>144</th>\n",
              "      <td>53615</td>\n",
              "      <td>66964</td>\n",
              "      <td>33.98</td>\n",
              "      <td>2022-05-21 23:54:00+00:00</td>\n",
              "      <td>Processing</td>\n",
              "    </tr>\n",
              "  </tbody>\n",
              "</table>\n",
              "<p>25 rows × 5 columns</p>\n",
              "</div>[26820 rows x 5 columns in total]"
            ]
          },
          "metadata": {},
          "execution_count": 7
        }
      ]
    },
    {
      "cell_type": "markdown",
      "source": [
        "## Step 2 : Feature Engineering using BigQuery Dataframes"
      ],
      "metadata": {
        "id": "uIt9rmX4JTYW"
      }
    },
    {
      "cell_type": "markdown",
      "source": [
        "## Create features for k-means model.\n",
        "\n",
        "We intend to compute features such as the total number of orders per customer, average spending per customer, and the return ratio, calculated as the total number of returns divided by the number of orders."
      ],
      "metadata": {
        "id": "8RDvQSsqrryy"
      }
    },
    {
      "cell_type": "markdown",
      "source": [
        "#### **Calculating total number of orders per customer**"
      ],
      "metadata": {
        "id": "w1rh8N_rKFsU"
      }
    },
    {
      "cell_type": "code",
      "source": [
        "count_orders = df.groupby([\"user_id\"])[\"order_id\"].count()\n",
        "count_orders"
      ],
      "metadata": {
        "id": "GR47wGItaiXl",
        "colab": {
          "base_uri": "https://localhost:8080/",
          "height": 520
        },
        "executionInfo": {
          "status": "ok",
          "timestamp": 1732551833576,
          "user_tz": -60,
          "elapsed": 5176,
          "user": {
            "displayName": "",
            "userId": ""
          }
        },
        "outputId": "aca77394-a467-48d2-bb56-877f23ca9372"
      },
      "execution_count": 8,
      "outputs": [
        {
          "output_type": "display_data",
          "data": {
            "text/plain": [
              "<IPython.core.display.HTML object>"
            ],
            "text/html": [
              "Query job 49c60670-69df-441e-8f3c-e48a0f2f6658 is DONE. 429.1 kB processed. <a target=\"_blank\" href=\"https://console.cloud.google.com/bigquery?project=jrdetorre-bq-demo&j=bq:US:49c60670-69df-441e-8f3c-e48a0f2f6658&page=queryresults\">Open Job</a>"
            ]
          },
          "metadata": {}
        },
        {
          "output_type": "display_data",
          "data": {
            "text/plain": [
              "<IPython.core.display.HTML object>"
            ],
            "text/html": [
              "Query job 92f4a8b5-3606-42d9-aff1-823b8ab7c8b2 is DONE. 391.9 kB processed. <a target=\"_blank\" href=\"https://console.cloud.google.com/bigquery?project=jrdetorre-bq-demo&j=bq:US:92f4a8b5-3606-42d9-aff1-823b8ab7c8b2&page=queryresults\">Open Job</a>"
            ]
          },
          "metadata": {}
        },
        {
          "output_type": "execute_result",
          "data": {
            "text/plain": [
              "user_id\n",
              "4      1\n",
              "6      1\n",
              "7      1\n",
              "15     5\n",
              "20     1\n",
              "26     1\n",
              "28     4\n",
              "33     2\n",
              "39     1\n",
              "54     2\n",
              "61     3\n",
              "72     2\n",
              "80     1\n",
              "81     1\n",
              "97     1\n",
              "99     3\n",
              "106    1\n",
              "109    4\n",
              "111    2\n",
              "116    4\n",
              "121    3\n",
              "133    1\n",
              "141    2\n",
              "153    2\n",
              "155    1\n",
              "Name: order_id, dtype: Int64"
            ]
          },
          "metadata": {},
          "execution_count": 8
        }
      ]
    },
    {
      "cell_type": "markdown",
      "source": [
        "#### **Calculating average spend per customer**"
      ],
      "metadata": {
        "id": "yFnCXVd9KNK5"
      }
    },
    {
      "cell_type": "code",
      "source": [
        "average_spend = df.groupby([\"user_id\"])[\"sale_price\"].mean()\n",
        "average_spend"
      ],
      "metadata": {
        "id": "tRPfIxrqa6O9",
        "colab": {
          "base_uri": "https://localhost:8080/",
          "height": 520
        },
        "executionInfo": {
          "status": "ok",
          "timestamp": 1732551838366,
          "user_tz": -60,
          "elapsed": 4791,
          "user": {
            "displayName": "",
            "userId": ""
          }
        },
        "outputId": "9a96b5e1-e8d3-4e30-8fc2-ffa600d803d0"
      },
      "execution_count": 9,
      "outputs": [
        {
          "output_type": "display_data",
          "data": {
            "text/plain": [
              "<IPython.core.display.HTML object>"
            ],
            "text/html": [
              "Query job 754d4af8-fd75-4f60-a02c-bd6f1706ed8d is DONE. 429.1 kB processed. <a target=\"_blank\" href=\"https://console.cloud.google.com/bigquery?project=jrdetorre-bq-demo&j=bq:US:754d4af8-fd75-4f60-a02c-bd6f1706ed8d&page=queryresults\">Open Job</a>"
            ]
          },
          "metadata": {}
        },
        {
          "output_type": "display_data",
          "data": {
            "text/plain": [
              "<IPython.core.display.HTML object>"
            ],
            "text/html": [
              "Query job ae3dc960-618c-4eb1-9c3d-e3ce7687025e is DONE. 391.9 kB processed. <a target=\"_blank\" href=\"https://console.cloud.google.com/bigquery?project=jrdetorre-bq-demo&j=bq:US:ae3dc960-618c-4eb1-9c3d-e3ce7687025e&page=queryresults\">Open Job</a>"
            ]
          },
          "metadata": {}
        },
        {
          "output_type": "execute_result",
          "data": {
            "text/plain": [
              "user_id\n",
              "4       89.989998\n",
              "6            60.0\n",
              "7            24.9\n",
              "15         37.566\n",
              "20           89.0\n",
              "26          14.99\n",
              "28         58.995\n",
              "33          33.85\n",
              "39           38.0\n",
              "54         58.995\n",
              "61      62.656667\n",
              "72          41.62\n",
              "80      79.949997\n",
              "81           39.0\n",
              "97          27.93\n",
              "99      31.166667\n",
              "106     55.439999\n",
              "109         63.91\n",
              "111         64.33\n",
              "116     59.985001\n",
              "121         26.74\n",
              "133          25.0\n",
              "141        29.465\n",
              "153    133.995001\n",
              "155     32.990002\n",
              "Name: sale_price, dtype: Float64"
            ]
          },
          "metadata": {},
          "execution_count": 9
        }
      ]
    },
    {
      "cell_type": "markdown",
      "source": [
        "#### **Calculating total number of returned orders per customer**"
      ],
      "metadata": {
        "id": "qcRAFUPnOZvD"
      }
    },
    {
      "cell_type": "code",
      "source": [
        "df[\"returned\"] = df[\"status\"] == \"Returned\"\n",
        "returned = df.groupby([\"user_id\"])[\"returned\"].sum()\n",
        "returned"
      ],
      "metadata": {
        "id": "DYERzNIA9IJh",
        "colab": {
          "base_uri": "https://localhost:8080/",
          "height": 520
        },
        "executionInfo": {
          "status": "ok",
          "timestamp": 1732551843460,
          "user_tz": -60,
          "elapsed": 5097,
          "user": {
            "displayName": "",
            "userId": ""
          }
        },
        "outputId": "3e93357e-7030-4f38-b23e-2c0d671ecbc0"
      },
      "execution_count": 10,
      "outputs": [
        {
          "output_type": "display_data",
          "data": {
            "text/plain": [
              "<IPython.core.display.HTML object>"
            ],
            "text/html": [
              "Query job 74186a23-e419-49fc-957c-1f648dfb9445 is DONE. 489.5 kB processed. <a target=\"_blank\" href=\"https://console.cloud.google.com/bigquery?project=jrdetorre-bq-demo&j=bq:US:74186a23-e419-49fc-957c-1f648dfb9445&page=queryresults\">Open Job</a>"
            ]
          },
          "metadata": {}
        },
        {
          "output_type": "display_data",
          "data": {
            "text/plain": [
              "<IPython.core.display.HTML object>"
            ],
            "text/html": [
              "Query job 471d5846-8886-48d2-9276-fe58c0729dd2 is DONE. 391.9 kB processed. <a target=\"_blank\" href=\"https://console.cloud.google.com/bigquery?project=jrdetorre-bq-demo&j=bq:US:471d5846-8886-48d2-9276-fe58c0729dd2&page=queryresults\">Open Job</a>"
            ]
          },
          "metadata": {}
        },
        {
          "output_type": "execute_result",
          "data": {
            "text/plain": [
              "user_id\n",
              "4      0\n",
              "6      0\n",
              "7      0\n",
              "15     0\n",
              "20     0\n",
              "26     0\n",
              "28     0\n",
              "33     0\n",
              "39     0\n",
              "54     2\n",
              "61     0\n",
              "72     0\n",
              "80     0\n",
              "81     0\n",
              "97     0\n",
              "99     0\n",
              "106    0\n",
              "109    0\n",
              "111    0\n",
              "116    0\n",
              "121    0\n",
              "133    0\n",
              "141    0\n",
              "153    0\n",
              "155    0\n",
              "Name: returned, dtype: Int64"
            ]
          },
          "metadata": {},
          "execution_count": 10
        }
      ]
    },
    {
      "cell_type": "markdown",
      "source": [
        "#### **Calculating return ratio per customer**"
      ],
      "metadata": {
        "id": "VvfvSw0QOe9N"
      }
    },
    {
      "cell_type": "code",
      "source": [
        "return_ratio = returned / count_orders\n",
        "return_ratio"
      ],
      "metadata": {
        "id": "SUvwp6LIAuhc",
        "colab": {
          "base_uri": "https://localhost:8080/",
          "height": 520
        },
        "executionInfo": {
          "status": "ok",
          "timestamp": 1732551848801,
          "user_tz": -60,
          "elapsed": 5344,
          "user": {
            "displayName": "",
            "userId": ""
          }
        },
        "outputId": "da2467f5-94c1-4728-9994-7d5ceae6aa1e"
      },
      "execution_count": 11,
      "outputs": [
        {
          "output_type": "display_data",
          "data": {
            "text/plain": [
              "<IPython.core.display.HTML object>"
            ],
            "text/html": [
              "Query job 0bedf099-0943-4164-95ea-c523a8270652 is DONE. 783.8 kB processed. <a target=\"_blank\" href=\"https://console.cloud.google.com/bigquery?project=jrdetorre-bq-demo&j=bq:US:0bedf099-0943-4164-95ea-c523a8270652&page=queryresults\">Open Job</a>"
            ]
          },
          "metadata": {}
        },
        {
          "output_type": "display_data",
          "data": {
            "text/plain": [
              "<IPython.core.display.HTML object>"
            ],
            "text/html": [
              "Query job 80b94bb6-0fbf-493a-b4f0-15bdc8beb92d is DONE. 391.9 kB processed. <a target=\"_blank\" href=\"https://console.cloud.google.com/bigquery?project=jrdetorre-bq-demo&j=bq:US:80b94bb6-0fbf-493a-b4f0-15bdc8beb92d&page=queryresults\">Open Job</a>"
            ]
          },
          "metadata": {}
        },
        {
          "output_type": "execute_result",
          "data": {
            "text/plain": [
              "user_id\n",
              "4      0.0\n",
              "6      0.0\n",
              "7      0.0\n",
              "15     0.0\n",
              "20     0.0\n",
              "26     0.0\n",
              "28     0.0\n",
              "33     0.0\n",
              "39     0.0\n",
              "54     1.0\n",
              "61     0.0\n",
              "72     0.0\n",
              "80     0.0\n",
              "81     0.0\n",
              "97     0.0\n",
              "99     0.0\n",
              "106    0.0\n",
              "109    0.0\n",
              "111    0.0\n",
              "116    0.0\n",
              "121    0.0\n",
              "133    0.0\n",
              "141    0.0\n",
              "153    0.0\n",
              "155    0.0\n",
              "dtype: Float64"
            ]
          },
          "metadata": {},
          "execution_count": 11
        }
      ]
    },
    {
      "cell_type": "markdown",
      "source": [
        "#### **Compiling a conclusive dataframe for the development of a machine learning model for customer segmentation.**"
      ],
      "metadata": {
        "id": "NBNq6Ub3Oik8"
      }
    },
    {
      "cell_type": "code",
      "source": [
        "df_customer = count_orders.rename(\"count_orders\").to_frame()\n",
        "df_customer[\"average_spend\"] = average_spend\n",
        "df_customer[\"return_ratio\"] = return_ratio\n",
        "df_customer"
      ],
      "metadata": {
        "id": "GMjuuLQg_eKh",
        "colab": {
          "base_uri": "https://localhost:8080/",
          "height": 946
        },
        "executionInfo": {
          "status": "ok",
          "timestamp": 1732551858288,
          "user_tz": -60,
          "elapsed": 5867,
          "user": {
            "displayName": "",
            "userId": ""
          }
        },
        "outputId": "94b6545e-3edc-40ca-80b7-78ac46cd5954"
      },
      "execution_count": 12,
      "outputs": [
        {
          "output_type": "display_data",
          "data": {
            "text/plain": [
              "<IPython.core.display.HTML object>"
            ],
            "text/html": [
              "Query job fe7946be-9996-4156-9dc5-5eda29a9a467 is DONE. 1.2 MB processed. <a target=\"_blank\" href=\"https://console.cloud.google.com/bigquery?project=jrdetorre-bq-demo&j=bq:US:fe7946be-9996-4156-9dc5-5eda29a9a467&page=queryresults\">Open Job</a>"
            ]
          },
          "metadata": {}
        },
        {
          "output_type": "display_data",
          "data": {
            "text/plain": [
              "<IPython.core.display.HTML object>"
            ],
            "text/html": [
              "Query job d9a1b8f4-0425-42fd-9bfc-2fd0c02982ce is DONE. 653.2 kB processed. <a target=\"_blank\" href=\"https://console.cloud.google.com/bigquery?project=jrdetorre-bq-demo&j=bq:US:d9a1b8f4-0425-42fd-9bfc-2fd0c02982ce&page=queryresults\">Open Job</a>"
            ]
          },
          "metadata": {}
        },
        {
          "output_type": "execute_result",
          "data": {
            "text/plain": [
              "         count_orders  average_spend  return_ratio\n",
              "user_id                                           \n",
              "4                   1      89.989998           0.0\n",
              "6                   1           60.0           0.0\n",
              "7                   1           24.9           0.0\n",
              "15                  5         37.566           0.0\n",
              "20                  1           89.0           0.0\n",
              "26                  1          14.99           0.0\n",
              "28                  4         58.995           0.0\n",
              "33                  2          33.85           0.0\n",
              "39                  1           38.0           0.0\n",
              "54                  2         58.995           1.0\n",
              "61                  3      62.656667           0.0\n",
              "72                  2          41.62           0.0\n",
              "80                  1      79.949997           0.0\n",
              "81                  1           39.0           0.0\n",
              "97                  1          27.93           0.0\n",
              "99                  3      31.166667           0.0\n",
              "106                 1      55.439999           0.0\n",
              "109                 4          63.91           0.0\n",
              "111                 2          64.33           0.0\n",
              "116                 4      59.985001           0.0\n",
              "121                 3          26.74           0.0\n",
              "133                 1           25.0           0.0\n",
              "141                 2         29.465           0.0\n",
              "153                 2     133.995001           0.0\n",
              "155                 1      32.990002           0.0\n",
              "...\n",
              "\n",
              "[16329 rows x 3 columns]"
            ],
            "text/html": [
              "<div>\n",
              "<style scoped>\n",
              "    .dataframe tbody tr th:only-of-type {\n",
              "        vertical-align: middle;\n",
              "    }\n",
              "\n",
              "    .dataframe tbody tr th {\n",
              "        vertical-align: top;\n",
              "    }\n",
              "\n",
              "    .dataframe thead th {\n",
              "        text-align: right;\n",
              "    }\n",
              "</style>\n",
              "<table border=\"1\" class=\"dataframe\">\n",
              "  <thead>\n",
              "    <tr style=\"text-align: right;\">\n",
              "      <th></th>\n",
              "      <th>count_orders</th>\n",
              "      <th>average_spend</th>\n",
              "      <th>return_ratio</th>\n",
              "    </tr>\n",
              "    <tr>\n",
              "      <th>user_id</th>\n",
              "      <th></th>\n",
              "      <th></th>\n",
              "      <th></th>\n",
              "    </tr>\n",
              "  </thead>\n",
              "  <tbody>\n",
              "    <tr>\n",
              "      <th>4</th>\n",
              "      <td>1</td>\n",
              "      <td>89.989998</td>\n",
              "      <td>0.0</td>\n",
              "    </tr>\n",
              "    <tr>\n",
              "      <th>6</th>\n",
              "      <td>1</td>\n",
              "      <td>60.0</td>\n",
              "      <td>0.0</td>\n",
              "    </tr>\n",
              "    <tr>\n",
              "      <th>7</th>\n",
              "      <td>1</td>\n",
              "      <td>24.9</td>\n",
              "      <td>0.0</td>\n",
              "    </tr>\n",
              "    <tr>\n",
              "      <th>15</th>\n",
              "      <td>5</td>\n",
              "      <td>37.566</td>\n",
              "      <td>0.0</td>\n",
              "    </tr>\n",
              "    <tr>\n",
              "      <th>20</th>\n",
              "      <td>1</td>\n",
              "      <td>89.0</td>\n",
              "      <td>0.0</td>\n",
              "    </tr>\n",
              "    <tr>\n",
              "      <th>26</th>\n",
              "      <td>1</td>\n",
              "      <td>14.99</td>\n",
              "      <td>0.0</td>\n",
              "    </tr>\n",
              "    <tr>\n",
              "      <th>28</th>\n",
              "      <td>4</td>\n",
              "      <td>58.995</td>\n",
              "      <td>0.0</td>\n",
              "    </tr>\n",
              "    <tr>\n",
              "      <th>33</th>\n",
              "      <td>2</td>\n",
              "      <td>33.85</td>\n",
              "      <td>0.0</td>\n",
              "    </tr>\n",
              "    <tr>\n",
              "      <th>39</th>\n",
              "      <td>1</td>\n",
              "      <td>38.0</td>\n",
              "      <td>0.0</td>\n",
              "    </tr>\n",
              "    <tr>\n",
              "      <th>54</th>\n",
              "      <td>2</td>\n",
              "      <td>58.995</td>\n",
              "      <td>1.0</td>\n",
              "    </tr>\n",
              "    <tr>\n",
              "      <th>61</th>\n",
              "      <td>3</td>\n",
              "      <td>62.656667</td>\n",
              "      <td>0.0</td>\n",
              "    </tr>\n",
              "    <tr>\n",
              "      <th>72</th>\n",
              "      <td>2</td>\n",
              "      <td>41.62</td>\n",
              "      <td>0.0</td>\n",
              "    </tr>\n",
              "    <tr>\n",
              "      <th>80</th>\n",
              "      <td>1</td>\n",
              "      <td>79.949997</td>\n",
              "      <td>0.0</td>\n",
              "    </tr>\n",
              "    <tr>\n",
              "      <th>81</th>\n",
              "      <td>1</td>\n",
              "      <td>39.0</td>\n",
              "      <td>0.0</td>\n",
              "    </tr>\n",
              "    <tr>\n",
              "      <th>97</th>\n",
              "      <td>1</td>\n",
              "      <td>27.93</td>\n",
              "      <td>0.0</td>\n",
              "    </tr>\n",
              "    <tr>\n",
              "      <th>99</th>\n",
              "      <td>3</td>\n",
              "      <td>31.166667</td>\n",
              "      <td>0.0</td>\n",
              "    </tr>\n",
              "    <tr>\n",
              "      <th>106</th>\n",
              "      <td>1</td>\n",
              "      <td>55.439999</td>\n",
              "      <td>0.0</td>\n",
              "    </tr>\n",
              "    <tr>\n",
              "      <th>109</th>\n",
              "      <td>4</td>\n",
              "      <td>63.91</td>\n",
              "      <td>0.0</td>\n",
              "    </tr>\n",
              "    <tr>\n",
              "      <th>111</th>\n",
              "      <td>2</td>\n",
              "      <td>64.33</td>\n",
              "      <td>0.0</td>\n",
              "    </tr>\n",
              "    <tr>\n",
              "      <th>116</th>\n",
              "      <td>4</td>\n",
              "      <td>59.985001</td>\n",
              "      <td>0.0</td>\n",
              "    </tr>\n",
              "    <tr>\n",
              "      <th>121</th>\n",
              "      <td>3</td>\n",
              "      <td>26.74</td>\n",
              "      <td>0.0</td>\n",
              "    </tr>\n",
              "    <tr>\n",
              "      <th>133</th>\n",
              "      <td>1</td>\n",
              "      <td>25.0</td>\n",
              "      <td>0.0</td>\n",
              "    </tr>\n",
              "    <tr>\n",
              "      <th>141</th>\n",
              "      <td>2</td>\n",
              "      <td>29.465</td>\n",
              "      <td>0.0</td>\n",
              "    </tr>\n",
              "    <tr>\n",
              "      <th>153</th>\n",
              "      <td>2</td>\n",
              "      <td>133.995001</td>\n",
              "      <td>0.0</td>\n",
              "    </tr>\n",
              "    <tr>\n",
              "      <th>155</th>\n",
              "      <td>1</td>\n",
              "      <td>32.990002</td>\n",
              "      <td>0.0</td>\n",
              "    </tr>\n",
              "  </tbody>\n",
              "</table>\n",
              "<p>25 rows × 3 columns</p>\n",
              "</div>[16329 rows x 3 columns in total]"
            ]
          },
          "metadata": {},
          "execution_count": 12
        }
      ]
    },
    {
      "cell_type": "markdown",
      "source": [
        "## Step 3 : Create a k-means model to cluster ecommerce data\n",
        "\n",
        "**K-means** is a widely used clustering algorithm that can dentify distinct groups or clusters within a dataset. With eCommerce data, k-means can segment customers, products, or transactions into meaningful groups for various analytical and business purposes.\n",
        "\n",
        "\n",
        "#### **Cluster the customer data using BigFrames!**"
      ],
      "metadata": {
        "id": "WnXQQOAc4t22"
      }
    },
    {
      "cell_type": "code",
      "source": [
        "from bigframes.ml.cluster import KMeans\n",
        "from bigframes.ml.model_selection import train_test_split\n",
        "\n",
        "# Split test and training data\n",
        "df_customer = df_customer.dropna()\n",
        "train_X, test_X = train_test_split(df_customer, test_size = 0.2)\n",
        "# train_X = train_X.drop(columns = [\"user_id\"])\n",
        "# Create a K-Means cluster model\n",
        "kmeans = KMeans(n_clusters = 5)\n",
        "kmeans.fit(train_X)\n"
      ],
      "metadata": {
        "id": "cWQ9botFf2Te",
        "colab": {
          "base_uri": "https://localhost:8080/",
          "height": 86
        },
        "executionInfo": {
          "status": "ok",
          "timestamp": 1732552008822,
          "user_tz": -60,
          "elapsed": 106756,
          "user": {
            "displayName": "",
            "userId": ""
          }
        },
        "outputId": "27558e98-4771-4df3-ffca-221a1d753581"
      },
      "execution_count": 13,
      "outputs": [
        {
          "output_type": "display_data",
          "data": {
            "text/plain": [
              "<IPython.core.display.HTML object>"
            ],
            "text/html": [
              "Query job 379fc199-cee1-477b-98d7-9d0c6e0e3b25 is DONE. 391.9 kB processed. <a target=\"_blank\" href=\"https://console.cloud.google.com/bigquery?project=jrdetorre-bq-demo&j=bq:US:379fc199-cee1-477b-98d7-9d0c6e0e3b25&page=queryresults\">Open Job</a>"
            ]
          },
          "metadata": {}
        },
        {
          "output_type": "display_data",
          "data": {
            "text/plain": [
              "<IPython.core.display.HTML object>"
            ],
            "text/html": [
              "Query job 167763be-0a6a-407d-b1a7-73a985662bf8 is DONE. 653.2 kB processed. <a target=\"_blank\" href=\"https://console.cloud.google.com/bigquery?project=jrdetorre-bq-demo&j=bq:US:167763be-0a6a-407d-b1a7-73a985662bf8&page=queryresults\">Open Job</a>"
            ]
          },
          "metadata": {}
        },
        {
          "output_type": "display_data",
          "data": {
            "text/plain": [
              "<IPython.core.display.HTML object>"
            ],
            "text/html": [
              "Query job 1d7bb140-e7ad-4cfd-9d3d-882797abdf29 is DONE. 418.0 kB processed. <a target=\"_blank\" href=\"https://console.cloud.google.com/bigquery?project=jrdetorre-bq-demo&j=bq:US:1d7bb140-e7ad-4cfd-9d3d-882797abdf29&page=queryresults\">Open Job</a>"
            ]
          },
          "metadata": {}
        },
        {
          "output_type": "execute_result",
          "data": {
            "text/plain": [
              "KMeans(n_clusters=5)"
            ]
          },
          "metadata": {},
          "execution_count": 13
        }
      ]
    },
    {
      "cell_type": "markdown",
      "source": [
        "#### **Save the model to BigQuery**"
      ],
      "metadata": {
        "id": "iABA1HcDO4Wd"
      }
    },
    {
      "cell_type": "code",
      "source": [
        "kmeans.to_gbq(f\"{PROJECT_ID}.{DATASET_NAME}.{MODEL_NAME}\", True)"
      ],
      "metadata": {
        "id": "8cMH1oeBB5jh",
        "colab": {
          "base_uri": "https://localhost:8080/",
          "height": 52
        },
        "executionInfo": {
          "status": "ok",
          "timestamp": 1732552010639,
          "user_tz": -60,
          "elapsed": 1819,
          "user": {
            "displayName": "",
            "userId": ""
          }
        },
        "outputId": "be8c10d5-307b-40e0-93fa-900bc084879a"
      },
      "execution_count": 14,
      "outputs": [
        {
          "output_type": "display_data",
          "data": {
            "text/plain": [
              "<IPython.core.display.HTML object>"
            ],
            "text/html": [
              "Copy job e0eafaec-f5de-4ac0-a376-936166c9db96 is DONE. <a target=\"_blank\" href=\"https://console.cloud.google.com/bigquery?project=jrdetorre-bq-demo&j=bq:US:e0eafaec-f5de-4ac0-a376-936166c9db96&page=queryresults\">Open Job</a>"
            ]
          },
          "metadata": {}
        },
        {
          "output_type": "execute_result",
          "data": {
            "text/plain": [
              "KMeans(distance_type='EUCLIDEAN', init='KMEANS_PLUS_PLUS', n_clusters=5)"
            ]
          },
          "metadata": {},
          "execution_count": 14
        }
      ]
    },
    {
      "cell_type": "markdown",
      "source": [
        "#### **Visualize the clusters**\n",
        "\n",
        "Next we'll visualize the k-means clusters on a scatterplot. We'll chart `days_since_last_order` by `average_spend` and color by segment/cluster_id generated from the model."
      ],
      "metadata": {
        "id": "81nwv2QE-mlh"
      }
    },
    {
      "cell_type": "code",
      "source": [
        "#########################\n",
        "#Plot K-Means clusters\n",
        "#########################\n",
        "import seaborn as sns\n",
        "import matplotlib.pyplot as plt\n",
        "import pandas as pd\n",
        "\n",
        "# Import K-Means predictions to dataframe\n",
        "segments_df = kmeans.predict(df_customer)\n",
        "segments_df = segments_df.rename(columns={'CENTROID_ID': 'segment_id'})\n",
        "segments_pd = segments_df.sample(frac=0.2, random_state=1).to_pandas()\n",
        "\n",
        "segments_pd\n"
      ],
      "metadata": {
        "id": "Ld5HJJlKGlXK",
        "colab": {
          "base_uri": "https://localhost:8080/",
          "height": 489
        },
        "executionInfo": {
          "status": "ok",
          "timestamp": 1732552026910,
          "user_tz": -60,
          "elapsed": 10485,
          "user": {
            "displayName": "",
            "userId": ""
          }
        },
        "outputId": "105c32f5-120f-4c7a-e203-75ea6091a461"
      },
      "execution_count": 15,
      "outputs": [
        {
          "output_type": "display_data",
          "data": {
            "text/plain": [
              "<IPython.core.display.HTML object>"
            ],
            "text/html": [
              "Query job 12694b9f-1ab1-4af9-916d-8d8034d44a55 is DONE. 522.8 kB processed. <a target=\"_blank\" href=\"https://console.cloud.google.com/bigquery?project=jrdetorre-bq-demo&j=bq:US:12694b9f-1ab1-4af9-916d-8d8034d44a55&page=queryresults\">Open Job</a>"
            ]
          },
          "metadata": {}
        },
        {
          "output_type": "display_data",
          "data": {
            "text/plain": [
              "<IPython.core.display.HTML object>"
            ],
            "text/html": [
              "Query job efb8382e-98d6-4ad8-825b-72a881351b3f is DONE. 2.0 MB processed. <a target=\"_blank\" href=\"https://console.cloud.google.com/bigquery?project=jrdetorre-bq-demo&j=bq:US:efb8382e-98d6-4ad8-825b-72a881351b3f&page=queryresults\">Open Job</a>"
            ]
          },
          "metadata": {}
        },
        {
          "output_type": "execute_result",
          "data": {
            "text/plain": [
              "         segment_id                         NEAREST_CENTROIDS_DISTANCE  \\\n",
              "user_id                                                                  \n",
              "133               4  [{'CENTROID_ID': 4, 'DISTANCE': 1.771712816124...   \n",
              "47683             3  [{'CENTROID_ID': 3, 'DISTANCE': 1.024536060333...   \n",
              "69396             3  [{'CENTROID_ID': 3, 'DISTANCE': 0.964633743995...   \n",
              "6680              4  [{'CENTROID_ID': 4, 'DISTANCE': 1.515799984662...   \n",
              "18315             4  [{'CENTROID_ID': 4, 'DISTANCE': 1.364639660769...   \n",
              "...             ...                                                ...   \n",
              "94583             4  [{'CENTROID_ID': 4, 'DISTANCE': 1.627930542211...   \n",
              "74361             4  [{'CENTROID_ID': 4, 'DISTANCE': 0.929052652175...   \n",
              "3157              4  [{'CENTROID_ID': 4, 'DISTANCE': 1.812397390606...   \n",
              "1302              4  [{'CENTROID_ID': 4, 'DISTANCE': 1.904910291509...   \n",
              "47959             4  [{'CENTROID_ID': 4, 'DISTANCE': 0.808367172110...   \n",
              "\n",
              "         count_orders  average_spend  return_ratio  \n",
              "user_id                                             \n",
              "133                 1           25.0           0.0  \n",
              "47683               1     129.990005           0.0  \n",
              "69396               1          149.0           0.0  \n",
              "6680                1      39.990002           0.0  \n",
              "18315               1      89.949997           0.0  \n",
              "...               ...            ...           ...  \n",
              "94583               1          21.99           0.0  \n",
              "74361               1           59.5           0.0  \n",
              "3157                2      69.244999           0.0  \n",
              "1302                2           77.0           0.0  \n",
              "47959               2      66.994999           0.0  \n",
              "\n",
              "[3266 rows x 5 columns]"
            ],
            "text/html": [
              "\n",
              "  <div id=\"df-91c86924-3926-4dbc-b3fe-101bb01b7c63\" class=\"colab-df-container\">\n",
              "    <div>\n",
              "<style scoped>\n",
              "    .dataframe tbody tr th:only-of-type {\n",
              "        vertical-align: middle;\n",
              "    }\n",
              "\n",
              "    .dataframe tbody tr th {\n",
              "        vertical-align: top;\n",
              "    }\n",
              "\n",
              "    .dataframe thead th {\n",
              "        text-align: right;\n",
              "    }\n",
              "</style>\n",
              "<table border=\"1\" class=\"dataframe\">\n",
              "  <thead>\n",
              "    <tr style=\"text-align: right;\">\n",
              "      <th></th>\n",
              "      <th>segment_id</th>\n",
              "      <th>NEAREST_CENTROIDS_DISTANCE</th>\n",
              "      <th>count_orders</th>\n",
              "      <th>average_spend</th>\n",
              "      <th>return_ratio</th>\n",
              "    </tr>\n",
              "    <tr>\n",
              "      <th>user_id</th>\n",
              "      <th></th>\n",
              "      <th></th>\n",
              "      <th></th>\n",
              "      <th></th>\n",
              "      <th></th>\n",
              "    </tr>\n",
              "  </thead>\n",
              "  <tbody>\n",
              "    <tr>\n",
              "      <th>133</th>\n",
              "      <td>4</td>\n",
              "      <td>[{'CENTROID_ID': 4, 'DISTANCE': 1.771712816124...</td>\n",
              "      <td>1</td>\n",
              "      <td>25.0</td>\n",
              "      <td>0.0</td>\n",
              "    </tr>\n",
              "    <tr>\n",
              "      <th>47683</th>\n",
              "      <td>3</td>\n",
              "      <td>[{'CENTROID_ID': 3, 'DISTANCE': 1.024536060333...</td>\n",
              "      <td>1</td>\n",
              "      <td>129.990005</td>\n",
              "      <td>0.0</td>\n",
              "    </tr>\n",
              "    <tr>\n",
              "      <th>69396</th>\n",
              "      <td>3</td>\n",
              "      <td>[{'CENTROID_ID': 3, 'DISTANCE': 0.964633743995...</td>\n",
              "      <td>1</td>\n",
              "      <td>149.0</td>\n",
              "      <td>0.0</td>\n",
              "    </tr>\n",
              "    <tr>\n",
              "      <th>6680</th>\n",
              "      <td>4</td>\n",
              "      <td>[{'CENTROID_ID': 4, 'DISTANCE': 1.515799984662...</td>\n",
              "      <td>1</td>\n",
              "      <td>39.990002</td>\n",
              "      <td>0.0</td>\n",
              "    </tr>\n",
              "    <tr>\n",
              "      <th>18315</th>\n",
              "      <td>4</td>\n",
              "      <td>[{'CENTROID_ID': 4, 'DISTANCE': 1.364639660769...</td>\n",
              "      <td>1</td>\n",
              "      <td>89.949997</td>\n",
              "      <td>0.0</td>\n",
              "    </tr>\n",
              "    <tr>\n",
              "      <th>...</th>\n",
              "      <td>...</td>\n",
              "      <td>...</td>\n",
              "      <td>...</td>\n",
              "      <td>...</td>\n",
              "      <td>...</td>\n",
              "    </tr>\n",
              "    <tr>\n",
              "      <th>94583</th>\n",
              "      <td>4</td>\n",
              "      <td>[{'CENTROID_ID': 4, 'DISTANCE': 1.627930542211...</td>\n",
              "      <td>1</td>\n",
              "      <td>21.99</td>\n",
              "      <td>0.0</td>\n",
              "    </tr>\n",
              "    <tr>\n",
              "      <th>74361</th>\n",
              "      <td>4</td>\n",
              "      <td>[{'CENTROID_ID': 4, 'DISTANCE': 0.929052652175...</td>\n",
              "      <td>1</td>\n",
              "      <td>59.5</td>\n",
              "      <td>0.0</td>\n",
              "    </tr>\n",
              "    <tr>\n",
              "      <th>3157</th>\n",
              "      <td>4</td>\n",
              "      <td>[{'CENTROID_ID': 4, 'DISTANCE': 1.812397390606...</td>\n",
              "      <td>2</td>\n",
              "      <td>69.244999</td>\n",
              "      <td>0.0</td>\n",
              "    </tr>\n",
              "    <tr>\n",
              "      <th>1302</th>\n",
              "      <td>4</td>\n",
              "      <td>[{'CENTROID_ID': 4, 'DISTANCE': 1.904910291509...</td>\n",
              "      <td>2</td>\n",
              "      <td>77.0</td>\n",
              "      <td>0.0</td>\n",
              "    </tr>\n",
              "    <tr>\n",
              "      <th>47959</th>\n",
              "      <td>4</td>\n",
              "      <td>[{'CENTROID_ID': 4, 'DISTANCE': 0.808367172110...</td>\n",
              "      <td>2</td>\n",
              "      <td>66.994999</td>\n",
              "      <td>0.0</td>\n",
              "    </tr>\n",
              "  </tbody>\n",
              "</table>\n",
              "<p>3266 rows × 5 columns</p>\n",
              "</div>\n",
              "    <div class=\"colab-df-buttons\">\n",
              "\n",
              "  <div class=\"colab-df-container\">\n",
              "    <button class=\"colab-df-convert\" onclick=\"convertToInteractive('df-91c86924-3926-4dbc-b3fe-101bb01b7c63')\"\n",
              "            title=\"Convert this dataframe to an interactive table.\"\n",
              "            style=\"display:none;\">\n",
              "\n",
              "  <svg xmlns=\"http://www.w3.org/2000/svg\" height=\"24px\" viewBox=\"0 -960 960 960\">\n",
              "    <path d=\"M120-120v-720h720v720H120Zm60-500h600v-160H180v160Zm220 220h160v-160H400v160Zm0 220h160v-160H400v160ZM180-400h160v-160H180v160Zm440 0h160v-160H620v160ZM180-180h160v-160H180v160Zm440 0h160v-160H620v160Z\"/>\n",
              "  </svg>\n",
              "    </button>\n",
              "\n",
              "  <style>\n",
              "    .colab-df-container {\n",
              "      display:flex;\n",
              "      gap: 12px;\n",
              "    }\n",
              "\n",
              "    .colab-df-convert {\n",
              "      background-color: #E8F0FE;\n",
              "      border: none;\n",
              "      border-radius: 50%;\n",
              "      cursor: pointer;\n",
              "      display: none;\n",
              "      fill: #1967D2;\n",
              "      height: 32px;\n",
              "      padding: 0 0 0 0;\n",
              "      width: 32px;\n",
              "    }\n",
              "\n",
              "    .colab-df-convert:hover {\n",
              "      background-color: #E2EBFA;\n",
              "      box-shadow: 0px 1px 2px rgba(60, 64, 67, 0.3), 0px 1px 3px 1px rgba(60, 64, 67, 0.15);\n",
              "      fill: #174EA6;\n",
              "    }\n",
              "\n",
              "    .colab-df-buttons div {\n",
              "      margin-bottom: 4px;\n",
              "    }\n",
              "\n",
              "    [theme=dark] .colab-df-convert {\n",
              "      background-color: #3B4455;\n",
              "      fill: #D2E3FC;\n",
              "    }\n",
              "\n",
              "    [theme=dark] .colab-df-convert:hover {\n",
              "      background-color: #434B5C;\n",
              "      box-shadow: 0px 1px 3px 1px rgba(0, 0, 0, 0.15);\n",
              "      filter: drop-shadow(0px 1px 2px rgba(0, 0, 0, 0.3));\n",
              "      fill: #FFFFFF;\n",
              "    }\n",
              "  </style>\n",
              "\n",
              "    <script>\n",
              "      const buttonEl =\n",
              "        document.querySelector('#df-91c86924-3926-4dbc-b3fe-101bb01b7c63 button.colab-df-convert');\n",
              "      buttonEl.style.display =\n",
              "        google.colab.kernel.accessAllowed ? 'block' : 'none';\n",
              "\n",
              "      async function convertToInteractive(key) {\n",
              "        const element = document.querySelector('#df-91c86924-3926-4dbc-b3fe-101bb01b7c63');\n",
              "        const dataTable =\n",
              "          await google.colab.kernel.invokeFunction('convertToInteractive',\n",
              "                                                    [key], {});\n",
              "        if (!dataTable) return;\n",
              "\n",
              "        const docLinkHtml = 'Like what you see? Visit the ' +\n",
              "          '<a target=\"_blank\" href=https://colab.research.google.com/notebooks/data_table.ipynb>data table notebook</a>'\n",
              "          + ' to learn more about interactive tables.';\n",
              "        element.innerHTML = '';\n",
              "        dataTable['output_type'] = 'display_data';\n",
              "        await google.colab.output.renderOutput(dataTable, element);\n",
              "        const docLink = document.createElement('div');\n",
              "        docLink.innerHTML = docLinkHtml;\n",
              "        element.appendChild(docLink);\n",
              "      }\n",
              "    </script>\n",
              "  </div>\n",
              "\n",
              "\n",
              "<div id=\"df-57979c85-b824-4a0f-8605-82ab3afd407c\">\n",
              "  <button class=\"colab-df-quickchart\" onclick=\"quickchart('df-57979c85-b824-4a0f-8605-82ab3afd407c')\"\n",
              "            title=\"Suggest charts\"\n",
              "            style=\"display:none;\">\n",
              "\n",
              "<svg xmlns=\"http://www.w3.org/2000/svg\" height=\"24px\"viewBox=\"0 0 24 24\"\n",
              "     width=\"24px\">\n",
              "    <g>\n",
              "        <path d=\"M19 3H5c-1.1 0-2 .9-2 2v14c0 1.1.9 2 2 2h14c1.1 0 2-.9 2-2V5c0-1.1-.9-2-2-2zM9 17H7v-7h2v7zm4 0h-2V7h2v10zm4 0h-2v-4h2v4z\"/>\n",
              "    </g>\n",
              "</svg>\n",
              "  </button>\n",
              "\n",
              "<style>\n",
              "  .colab-df-quickchart {\n",
              "      --bg-color: #E8F0FE;\n",
              "      --fill-color: #1967D2;\n",
              "      --hover-bg-color: #E2EBFA;\n",
              "      --hover-fill-color: #174EA6;\n",
              "      --disabled-fill-color: #AAA;\n",
              "      --disabled-bg-color: #DDD;\n",
              "  }\n",
              "\n",
              "  [theme=dark] .colab-df-quickchart {\n",
              "      --bg-color: #3B4455;\n",
              "      --fill-color: #D2E3FC;\n",
              "      --hover-bg-color: #434B5C;\n",
              "      --hover-fill-color: #FFFFFF;\n",
              "      --disabled-bg-color: #3B4455;\n",
              "      --disabled-fill-color: #666;\n",
              "  }\n",
              "\n",
              "  .colab-df-quickchart {\n",
              "    background-color: var(--bg-color);\n",
              "    border: none;\n",
              "    border-radius: 50%;\n",
              "    cursor: pointer;\n",
              "    display: none;\n",
              "    fill: var(--fill-color);\n",
              "    height: 32px;\n",
              "    padding: 0;\n",
              "    width: 32px;\n",
              "  }\n",
              "\n",
              "  .colab-df-quickchart:hover {\n",
              "    background-color: var(--hover-bg-color);\n",
              "    box-shadow: 0 1px 2px rgba(60, 64, 67, 0.3), 0 1px 3px 1px rgba(60, 64, 67, 0.15);\n",
              "    fill: var(--button-hover-fill-color);\n",
              "  }\n",
              "\n",
              "  .colab-df-quickchart-complete:disabled,\n",
              "  .colab-df-quickchart-complete:disabled:hover {\n",
              "    background-color: var(--disabled-bg-color);\n",
              "    fill: var(--disabled-fill-color);\n",
              "    box-shadow: none;\n",
              "  }\n",
              "\n",
              "  .colab-df-spinner {\n",
              "    border: 2px solid var(--fill-color);\n",
              "    border-color: transparent;\n",
              "    border-bottom-color: var(--fill-color);\n",
              "    animation:\n",
              "      spin 1s steps(1) infinite;\n",
              "  }\n",
              "\n",
              "  @keyframes spin {\n",
              "    0% {\n",
              "      border-color: transparent;\n",
              "      border-bottom-color: var(--fill-color);\n",
              "      border-left-color: var(--fill-color);\n",
              "    }\n",
              "    20% {\n",
              "      border-color: transparent;\n",
              "      border-left-color: var(--fill-color);\n",
              "      border-top-color: var(--fill-color);\n",
              "    }\n",
              "    30% {\n",
              "      border-color: transparent;\n",
              "      border-left-color: var(--fill-color);\n",
              "      border-top-color: var(--fill-color);\n",
              "      border-right-color: var(--fill-color);\n",
              "    }\n",
              "    40% {\n",
              "      border-color: transparent;\n",
              "      border-right-color: var(--fill-color);\n",
              "      border-top-color: var(--fill-color);\n",
              "    }\n",
              "    60% {\n",
              "      border-color: transparent;\n",
              "      border-right-color: var(--fill-color);\n",
              "    }\n",
              "    80% {\n",
              "      border-color: transparent;\n",
              "      border-right-color: var(--fill-color);\n",
              "      border-bottom-color: var(--fill-color);\n",
              "    }\n",
              "    90% {\n",
              "      border-color: transparent;\n",
              "      border-bottom-color: var(--fill-color);\n",
              "    }\n",
              "  }\n",
              "</style>\n",
              "\n",
              "  <script>\n",
              "    async function quickchart(key) {\n",
              "      const quickchartButtonEl =\n",
              "        document.querySelector('#' + key + ' button');\n",
              "      quickchartButtonEl.disabled = true;  // To prevent multiple clicks.\n",
              "      quickchartButtonEl.classList.add('colab-df-spinner');\n",
              "      try {\n",
              "        const charts = await google.colab.kernel.invokeFunction(\n",
              "            'suggestCharts', [key], {});\n",
              "      } catch (error) {\n",
              "        console.error('Error during call to suggestCharts:', error);\n",
              "      }\n",
              "      quickchartButtonEl.classList.remove('colab-df-spinner');\n",
              "      quickchartButtonEl.classList.add('colab-df-quickchart-complete');\n",
              "    }\n",
              "    (() => {\n",
              "      let quickchartButtonEl =\n",
              "        document.querySelector('#df-57979c85-b824-4a0f-8605-82ab3afd407c button');\n",
              "      quickchartButtonEl.style.display =\n",
              "        google.colab.kernel.accessAllowed ? 'block' : 'none';\n",
              "    })();\n",
              "  </script>\n",
              "</div>\n",
              "    </div>\n",
              "  </div>\n"
            ]
          },
          "metadata": {},
          "execution_count": 15
        }
      ]
    },
    {
      "cell_type": "markdown",
      "source": [
        "#### **Generate scatterplot to display clusters**"
      ],
      "metadata": {
        "id": "CKIhpH9kPXNQ"
      }
    },
    {
      "cell_type": "code",
      "source": [
        "g = sns.lmplot(x='count_orders', y='average_spend', data=segments_pd, fit_reg=False, hue='segment_id', palette='Set2', height=7, aspect=2)\n",
        "g = (g.set_axis_labels('Count Orders','Average Spend ($)', fontsize=15).set(xlim=(0,10),ylim=(0,400)))\n",
        "plt.title('Attribute Grouped by K-means Cluster', pad=20, fontsize=20)"
      ],
      "metadata": {
        "id": "WH8s_tULGyf5",
        "colab": {
          "base_uri": "https://localhost:8080/",
          "height": 649
        },
        "executionInfo": {
          "status": "ok",
          "timestamp": 1732552240333,
          "user_tz": -60,
          "elapsed": 1547,
          "user": {
            "displayName": "",
            "userId": ""
          }
        },
        "outputId": "b762c94c-2dde-4132-8931-2e18838a40e9"
      },
      "execution_count": 17,
      "outputs": [
        {
          "output_type": "execute_result",
          "data": {
            "text/plain": [
              "Text(0.5, 1.0, 'Attribute Grouped by K-means Cluster')"
            ]
          },
          "metadata": {},
          "execution_count": 17
        },
        {
          "output_type": "display_data",
          "data": {
            "text/plain": [
              "<Figure size 1491.61x700 with 1 Axes>"
            ],
            "image/png": "[encoded data removed]"
          },
          "metadata": {}
        }
      ]
    },
    {
      "cell_type": "markdown",
      "source": [
        "#### **Cluster Summary Statistics**\n",
        "\n",
        "The visualization helped us see distinct clusters. Now let's generate some summary statistics around order recency, frequency, and spend by cluster."
      ],
      "metadata": {
        "id": "yh1_PqPvIalu"
      }
    },
    {
      "cell_type": "code",
      "source": [
        "df_centroid = kmeans.cluster_centers_\n",
        "df_centroid"
      ],
      "metadata": {
        "id": "UmEsjTfeIueR",
        "colab": {
          "base_uri": "https://localhost:8080/",
          "height": 775
        },
        "executionInfo": {
          "status": "ok",
          "timestamp": 1732552304062,
          "user_tz": -60,
          "elapsed": 6117,
          "user": {
            "displayName": "",
            "userId": ""
          }
        },
        "outputId": "b25b7be4-1b0f-42b5-824b-521776904ac9"
      },
      "execution_count": 18,
      "outputs": [
        {
          "output_type": "display_data",
          "data": {
            "text/plain": [
              "<IPython.core.display.HTML object>"
            ],
            "text/html": [
              "Query job 1bd33fb5-48b0-49c7-872e-d0b5678ce556 is RUNNING. <a target=\"_blank\" href=\"https://console.cloud.google.com/bigquery?project=jrdetorre-bq-demo&j=bq:US:1bd33fb5-48b0-49c7-872e-d0b5678ce556&page=queryresults\">Open Job</a>"
            ]
          },
          "metadata": {}
        },
        {
          "output_type": "display_data",
          "data": {
            "text/plain": [
              "<IPython.core.display.HTML object>"
            ],
            "text/html": [
              "Query job c2b73e74-8e30-44b5-a9b6-86b945a3628c is DONE. 312 Bytes processed. <a target=\"_blank\" href=\"https://console.cloud.google.com/bigquery?project=jrdetorre-bq-demo&j=bq:US:c2b73e74-8e30-44b5-a9b6-86b945a3628c&page=queryresults\">Open Job</a>"
            ]
          },
          "metadata": {}
        },
        {
          "output_type": "display_data",
          "data": {
            "text/plain": [
              "<IPython.core.display.HTML object>"
            ],
            "text/html": [
              "Query job 1dad363e-4928-430a-9279-b5df2abc0592 is DONE. 0 Bytes processed. <a target=\"_blank\" href=\"https://console.cloud.google.com/bigquery?project=jrdetorre-bq-demo&j=bq:US:1dad363e-4928-430a-9279-b5df2abc0592&page=queryresults\">Open Job</a>"
            ]
          },
          "metadata": {}
        },
        {
          "output_type": "execute_result",
          "data": {
            "text/plain": [
              "    centroid_id        feature  numerical_value categorical_value\n",
              "0             1  average_spend       718.267391                []\n",
              "1             1   count_orders         1.130435                []\n",
              "2             1   return_ratio         0.086957                []\n",
              "3             1        user_id     49192.826087                []\n",
              "4             2  average_spend        56.961468                []\n",
              "5             2   count_orders         3.721459                []\n",
              "6             2   return_ratio         0.026257                []\n",
              "7             2        user_id     50815.657505                []\n",
              "8             3  average_spend       187.050676                []\n",
              "9             3   count_orders         1.242032                []\n",
              "10            3   return_ratio          0.01494                []\n",
              "11            3        user_id     50362.089641                []\n",
              "12            4  average_spend        44.919812                []\n",
              "13            4   count_orders         1.266425                []\n",
              "14            4   return_ratio             -0.0                []\n",
              "15            4        user_id     49680.942131                []\n",
              "16            5  average_spend        53.230892                []\n",
              "17            5   count_orders         1.561983                []\n",
              "18            5   return_ratio         0.940709                []\n",
              "19            5        user_id     51430.536439                []\n",
              "\n",
              "[20 rows x 4 columns]"
            ],
            "text/html": [
              "<div>\n",
              "<style scoped>\n",
              "    .dataframe tbody tr th:only-of-type {\n",
              "        vertical-align: middle;\n",
              "    }\n",
              "\n",
              "    .dataframe tbody tr th {\n",
              "        vertical-align: top;\n",
              "    }\n",
              "\n",
              "    .dataframe thead th {\n",
              "        text-align: right;\n",
              "    }\n",
              "</style>\n",
              "<table border=\"1\" class=\"dataframe\">\n",
              "  <thead>\n",
              "    <tr style=\"text-align: right;\">\n",
              "      <th></th>\n",
              "      <th>centroid_id</th>\n",
              "      <th>feature</th>\n",
              "      <th>numerical_value</th>\n",
              "      <th>categorical_value</th>\n",
              "    </tr>\n",
              "  </thead>\n",
              "  <tbody>\n",
              "    <tr>\n",
              "      <th>0</th>\n",
              "      <td>1</td>\n",
              "      <td>average_spend</td>\n",
              "      <td>718.267391</td>\n",
              "      <td>[]</td>\n",
              "    </tr>\n",
              "    <tr>\n",
              "      <th>1</th>\n",
              "      <td>1</td>\n",
              "      <td>count_orders</td>\n",
              "      <td>1.130435</td>\n",
              "      <td>[]</td>\n",
              "    </tr>\n",
              "    <tr>\n",
              "      <th>2</th>\n",
              "      <td>1</td>\n",
              "      <td>return_ratio</td>\n",
              "      <td>0.086957</td>\n",
              "      <td>[]</td>\n",
              "    </tr>\n",
              "    <tr>\n",
              "      <th>3</th>\n",
              "      <td>1</td>\n",
              "      <td>user_id</td>\n",
              "      <td>49192.826087</td>\n",
              "      <td>[]</td>\n",
              "    </tr>\n",
              "    <tr>\n",
              "      <th>4</th>\n",
              "      <td>2</td>\n",
              "      <td>average_spend</td>\n",
              "      <td>56.961468</td>\n",
              "      <td>[]</td>\n",
              "    </tr>\n",
              "    <tr>\n",
              "      <th>5</th>\n",
              "      <td>2</td>\n",
              "      <td>count_orders</td>\n",
              "      <td>3.721459</td>\n",
              "      <td>[]</td>\n",
              "    </tr>\n",
              "    <tr>\n",
              "      <th>6</th>\n",
              "      <td>2</td>\n",
              "      <td>return_ratio</td>\n",
              "      <td>0.026257</td>\n",
              "      <td>[]</td>\n",
              "    </tr>\n",
              "    <tr>\n",
              "      <th>7</th>\n",
              "      <td>2</td>\n",
              "      <td>user_id</td>\n",
              "      <td>50815.657505</td>\n",
              "      <td>[]</td>\n",
              "    </tr>\n",
              "    <tr>\n",
              "      <th>8</th>\n",
              "      <td>3</td>\n",
              "      <td>average_spend</td>\n",
              "      <td>187.050676</td>\n",
              "      <td>[]</td>\n",
              "    </tr>\n",
              "    <tr>\n",
              "      <th>9</th>\n",
              "      <td>3</td>\n",
              "      <td>count_orders</td>\n",
              "      <td>1.242032</td>\n",
              "      <td>[]</td>\n",
              "    </tr>\n",
              "    <tr>\n",
              "      <th>10</th>\n",
              "      <td>3</td>\n",
              "      <td>return_ratio</td>\n",
              "      <td>0.01494</td>\n",
              "      <td>[]</td>\n",
              "    </tr>\n",
              "    <tr>\n",
              "      <th>11</th>\n",
              "      <td>3</td>\n",
              "      <td>user_id</td>\n",
              "      <td>50362.089641</td>\n",
              "      <td>[]</td>\n",
              "    </tr>\n",
              "    <tr>\n",
              "      <th>12</th>\n",
              "      <td>4</td>\n",
              "      <td>average_spend</td>\n",
              "      <td>44.919812</td>\n",
              "      <td>[]</td>\n",
              "    </tr>\n",
              "    <tr>\n",
              "      <th>13</th>\n",
              "      <td>4</td>\n",
              "      <td>count_orders</td>\n",
              "      <td>1.266425</td>\n",
              "      <td>[]</td>\n",
              "    </tr>\n",
              "    <tr>\n",
              "      <th>14</th>\n",
              "      <td>4</td>\n",
              "      <td>return_ratio</td>\n",
              "      <td>-0.0</td>\n",
              "      <td>[]</td>\n",
              "    </tr>\n",
              "    <tr>\n",
              "      <th>15</th>\n",
              "      <td>4</td>\n",
              "      <td>user_id</td>\n",
              "      <td>49680.942131</td>\n",
              "      <td>[]</td>\n",
              "    </tr>\n",
              "    <tr>\n",
              "      <th>16</th>\n",
              "      <td>5</td>\n",
              "      <td>average_spend</td>\n",
              "      <td>53.230892</td>\n",
              "      <td>[]</td>\n",
              "    </tr>\n",
              "    <tr>\n",
              "      <th>17</th>\n",
              "      <td>5</td>\n",
              "      <td>count_orders</td>\n",
              "      <td>1.561983</td>\n",
              "      <td>[]</td>\n",
              "    </tr>\n",
              "    <tr>\n",
              "      <th>18</th>\n",
              "      <td>5</td>\n",
              "      <td>return_ratio</td>\n",
              "      <td>0.940709</td>\n",
              "      <td>[]</td>\n",
              "    </tr>\n",
              "    <tr>\n",
              "      <th>19</th>\n",
              "      <td>5</td>\n",
              "      <td>user_id</td>\n",
              "      <td>51430.536439</td>\n",
              "      <td>[]</td>\n",
              "    </tr>\n",
              "  </tbody>\n",
              "</table>\n",
              "<p>20 rows × 4 columns</p>\n",
              "</div>[20 rows x 4 columns in total]"
            ]
          },
          "metadata": {},
          "execution_count": 18
        }
      ]
    },
    {
      "cell_type": "code",
      "source": [
        "df_centroid_pivot = df_centroid.pivot(index='centroid_id', columns='feature', values='numerical_value')\n",
        "df_centroid_pivot"
      ],
      "metadata": {
        "id": "FzVxofIPJ5zQ",
        "colab": {
          "base_uri": "https://localhost:8080/",
          "height": 336
        },
        "executionInfo": {
          "status": "ok",
          "timestamp": 1732552364790,
          "user_tz": -60,
          "elapsed": 8020,
          "user": {
            "displayName": "",
            "userId": ""
          }
        },
        "outputId": "d70e11fa-9250-4dff-f030-2fec21e1d20b"
      },
      "execution_count": 19,
      "outputs": [
        {
          "output_type": "display_data",
          "data": {
            "text/plain": [
              "<IPython.core.display.HTML object>"
            ],
            "text/html": [
              "Query job b0661422-89ff-4870-bd77-4377303d9826 is DONE. 0 Bytes processed. <a target=\"_blank\" href=\"https://console.cloud.google.com/bigquery?project=jrdetorre-bq-demo&j=bq:US:b0661422-89ff-4870-bd77-4377303d9826&page=queryresults\">Open Job</a>"
            ]
          },
          "metadata": {}
        },
        {
          "output_type": "display_data",
          "data": {
            "text/plain": [
              "<IPython.core.display.HTML object>"
            ],
            "text/html": [
              "Query job 4c94e04d-7475-4bbd-a889-01d5e8af06d1 is DONE. 0 Bytes processed. <a target=\"_blank\" href=\"https://console.cloud.google.com/bigquery?project=jrdetorre-bq-demo&j=bq:US:4c94e04d-7475-4bbd-a889-01d5e8af06d1&page=queryresults\">Open Job</a>"
            ]
          },
          "metadata": {}
        },
        {
          "output_type": "display_data",
          "data": {
            "text/plain": [
              "<IPython.core.display.HTML object>"
            ],
            "text/html": [
              "Query job 03f62777-642e-4ba5-b852-cc5c83c250b2 is DONE. 240 Bytes processed. <a target=\"_blank\" href=\"https://console.cloud.google.com/bigquery?project=jrdetorre-bq-demo&j=bq:US:03f62777-642e-4ba5-b852-cc5c83c250b2&page=queryresults\">Open Job</a>"
            ]
          },
          "metadata": {}
        },
        {
          "output_type": "execute_result",
          "data": {
            "text/plain": [
              "feature      average_spend  count_orders  return_ratio       user_id\n",
              "centroid_id                                                         \n",
              "1               718.267391      1.130435      0.086957  49192.826087\n",
              "2                56.961468      3.721459      0.026257  50815.657505\n",
              "3               187.050676      1.242032       0.01494  50362.089641\n",
              "4                44.919812      1.266425          -0.0  49680.942131\n",
              "5                53.230892      1.561983      0.940709  51430.536439\n",
              "\n",
              "[5 rows x 4 columns]"
            ],
            "text/html": [
              "<div>\n",
              "<style scoped>\n",
              "    .dataframe tbody tr th:only-of-type {\n",
              "        vertical-align: middle;\n",
              "    }\n",
              "\n",
              "    .dataframe tbody tr th {\n",
              "        vertical-align: top;\n",
              "    }\n",
              "\n",
              "    .dataframe thead th {\n",
              "        text-align: right;\n",
              "    }\n",
              "</style>\n",
              "<table border=\"1\" class=\"dataframe\">\n",
              "  <thead>\n",
              "    <tr style=\"text-align: right;\">\n",
              "      <th>feature</th>\n",
              "      <th>average_spend</th>\n",
              "      <th>count_orders</th>\n",
              "      <th>return_ratio</th>\n",
              "      <th>user_id</th>\n",
              "    </tr>\n",
              "    <tr>\n",
              "      <th>centroid_id</th>\n",
              "      <th></th>\n",
              "      <th></th>\n",
              "      <th></th>\n",
              "      <th></th>\n",
              "    </tr>\n",
              "  </thead>\n",
              "  <tbody>\n",
              "    <tr>\n",
              "      <th>1</th>\n",
              "      <td>718.267391</td>\n",
              "      <td>1.130435</td>\n",
              "      <td>0.086957</td>\n",
              "      <td>49192.826087</td>\n",
              "    </tr>\n",
              "    <tr>\n",
              "      <th>2</th>\n",
              "      <td>56.961468</td>\n",
              "      <td>3.721459</td>\n",
              "      <td>0.026257</td>\n",
              "      <td>50815.657505</td>\n",
              "    </tr>\n",
              "    <tr>\n",
              "      <th>3</th>\n",
              "      <td>187.050676</td>\n",
              "      <td>1.242032</td>\n",
              "      <td>0.01494</td>\n",
              "      <td>50362.089641</td>\n",
              "    </tr>\n",
              "    <tr>\n",
              "      <th>4</th>\n",
              "      <td>44.919812</td>\n",
              "      <td>1.266425</td>\n",
              "      <td>-0.0</td>\n",
              "      <td>49680.942131</td>\n",
              "    </tr>\n",
              "    <tr>\n",
              "      <th>5</th>\n",
              "      <td>53.230892</td>\n",
              "      <td>1.561983</td>\n",
              "      <td>0.940709</td>\n",
              "      <td>51430.536439</td>\n",
              "    </tr>\n",
              "  </tbody>\n",
              "</table>\n",
              "<p>5 rows × 4 columns</p>\n",
              "</div>[5 rows x 4 columns in total]"
            ]
          },
          "metadata": {},
          "execution_count": 19
        }
      ]
    },
    {
      "cell_type": "markdown",
      "source": [
        "#### **Summary Statistics**\n",
        "Whew! That's a lot of metrics and cluster info. How about we explain this to our colleagues using the magic of LLMs.\n",
        "\n",
        "Let's begin by creating a string with the summary statistics from the last cell."
      ],
      "metadata": {
        "id": "9Ey4aZIEMykc"
      }
    },
    {
      "cell_type": "code",
      "source": [
        "pd_df = df_centroid_pivot.reset_index().to_pandas()\n",
        "pd_df.to_string(header=False, index=False)\n",
        "\n",
        "cluster_info = []\n",
        "for i, row in pd_df.iterrows():\n",
        "  cluster_info.append(\"{0}, average spend ${2}, count of orders per person {1}, return ratio {3}\"\n",
        "    .format(row[\"centroid_id\"], row[\"count_orders\"], row[\"average_spend\"], row[\"return_ratio\"]) )\n",
        "\n",
        "print(str.join(\"\\n\", cluster_info))"
      ],
      "metadata": {
        "id": "XB8SdzclMxUx",
        "colab": {
          "base_uri": "https://localhost:8080/",
          "height": 121
        },
        "executionInfo": {
          "status": "ok",
          "timestamp": 1732552404389,
          "user_tz": -60,
          "elapsed": 2217,
          "user": {
            "displayName": "",
            "userId": ""
          }
        },
        "outputId": "cd96fd96-8b0b-45f3-c5e4-9a817c85bcb7"
      },
      "execution_count": 20,
      "outputs": [
        {
          "output_type": "display_data",
          "data": {
            "text/plain": [
              "<IPython.core.display.HTML object>"
            ],
            "text/html": [
              "Query job 41c3f9f1-dae9-4cac-8afc-f9d96cf91463 is DONE. 240 Bytes processed. <a target=\"_blank\" href=\"https://console.cloud.google.com/bigquery?project=jrdetorre-bq-demo&j=bq:US:41c3f9f1-dae9-4cac-8afc-f9d96cf91463&page=queryresults\">Open Job</a>"
            ]
          },
          "metadata": {}
        },
        {
          "output_type": "stream",
          "name": "stdout",
          "text": [
            "1, average spend $718.2673913706902, count of orders per person 1.1304347826086958, return ratio 0.08695652173913042\n",
            "2, average spend $56.961467976083114, count of orders per person 3.7214587737843416, return ratio 0.026257382798078474\n",
            "3, average spend $187.0506757136836, count of orders per person 1.2420318725099662, return ratio 0.014940239043824632\n",
            "4, average spend $44.91981225750675, count of orders per person 1.2664246000227157, return ratio -5.204170427930421e-15\n",
            "5, average spend $53.230892368197544, count of orders per person 1.561983471074379, return ratio 0.9407087402955121\n"
          ]
        }
      ]
    },
    {
      "cell_type": "markdown",
      "source": [
        "## Step 4 : Generative AI - Explain customer segments with Vertex AI PaLM API\n",
        "\n",
        "To leverage Large Language Models directly from BigQuery, we will specify a [BigQuery connection](https://cloud.google.com/bigquery/docs/working-with-connections). If you already have a connection, you can simplify provide the name and skip the following creation steps"
      ],
      "metadata": {
        "id": "7Na0_rVVLhOk"
      }
    },
    {
      "cell_type": "code",
      "source": [
        "# Please fill in these values.\n",
        "CONNECTION = \"bq-llm\"  # @param {type:\"string\"}\n",
        "\n",
        "connection_name = f\"{PROJECT_ID}.{LOCATION}.{CONNECTION}\""
      ],
      "metadata": {
        "id": "W13HyzWX0I-F",
        "executionInfo": {
          "status": "ok",
          "timestamp": 1732552591940,
          "user_tz": -60,
          "elapsed": 288,
          "user": {
            "displayName": "",
            "userId": ""
          }
        }
      },
      "execution_count": 23,
      "outputs": []
    },
    {
      "cell_type": "markdown",
      "source": [
        "#### **BigQuery Connection Setup**\n",
        "BigQuery lets you interact with services outside of BigQuery in Google Cloud services like Cloud Storage or Cloud Spanner, or in third-party sources like AWS or Azure. These external connections use the BigQuery Connection API.\n",
        "\n",
        "In this case, we interact with Vertex AI Large Language models using Connection API.\n",
        "\n",
        "In following cell, we try to use the provided connection, and if it doesn't exist, create a new one. We will also print the service account used.\n",
        "\n",
        "Note : You may require additional permissions as [documented here](https://cloud.google.com/bigquery/docs/working-with-connections#expandable-1) to perform following step."
      ],
      "metadata": {
        "id": "EtiHiulOEd8R"
      }
    },
    {
      "cell_type": "code",
      "source": [
        "from google.cloud import bigquery_connection_v1 as bq_connection\n",
        "from bigframes.ml.llm import GeminiTextGenerator\n",
        "session = bpd.get_global_session()"
      ],
      "metadata": {
        "id": "sIqdPAl44JQc",
        "executionInfo": {
          "status": "ok",
          "timestamp": 1732552559095,
          "user_tz": -60,
          "elapsed": 312,
          "user": {
            "displayName": "",
            "userId": ""
          }
        }
      },
      "execution_count": 21,
      "outputs": []
    },
    {
      "cell_type": "code",
      "source": [
        "# Initialize client and set request parameters\n",
        "client = bq_connection.ConnectionServiceClient()\n",
        "new_conn_parent = f\"projects/{PROJECT_ID}/locations/{LOCATION}\"\n",
        "exists_conn_parent = f\"projects/{PROJECT_ID}/locations/{LOCATION}/connections/{CONNECTION}\"\n",
        "cloud_resource_properties = bq_connection.CloudResourceProperties({})\n",
        "\n",
        "# Try to connect using provided connection\n",
        "try:\n",
        "    request = client.get_connection(\n",
        "        request=bq_connection.GetConnectionRequest(name=exists_conn_parent)\n",
        "    )\n",
        "    CONN_SERVICE_ACCOUNT = f\"serviceAccount:{request.cloud_resource.service_account_id}\"\n",
        "# Create a new connection on error\n",
        "except Exception:\n",
        "    connection = bq_connection.types.Connection(\n",
        "        {\"friendly_name\": CONNECTION, \"cloud_resource\": cloud_resource_properties}\n",
        "    )\n",
        "    request = bq_connection.CreateConnectionRequest(\n",
        "        {\n",
        "            \"parent\": new_conn_parent,\n",
        "            \"connection_id\": CONNECTION,\n",
        "            \"connection\": connection,\n",
        "        }\n",
        "    )\n",
        "    response = client.create_connection(request)\n",
        "    CONN_SERVICE_ACCOUNT = (\n",
        "        f\"serviceAccount:{response.cloud_resource.service_account_id}\"\n",
        "    )\n",
        "# Set service account permissions\n",
        "!gcloud projects add-iam-policy-binding {PROJECT_ID} --condition=None --no-user-output-enabled --member={CONN_SERVICE_ACCOUNT} --role='roles/bigquery.connectionUser'\n",
        "!gcloud projects add-iam-policy-binding {PROJECT_ID} --condition=None --no-user-output-enabled --member={CONN_SERVICE_ACCOUNT} --role='roles/aiplatform.user'\n",
        "!gcloud projects add-iam-policy-binding {PROJECT_ID} --condition=None --no-user-output-enabled --member={CONN_SERVICE_ACCOUNT} --role='roles/run.invoker'\n",
        "\n",
        "print(CONN_SERVICE_ACCOUNT)"
      ],
      "metadata": {
        "id": "V8iLYPrX3opw",
        "colab": {
          "base_uri": "https://localhost:8080/"
        },
        "executionInfo": {
          "status": "ok",
          "timestamp": 1732552601519,
          "user_tz": -60,
          "elapsed": 6831,
          "user": {
            "displayName": "",
            "userId": ""
          }
        },
        "outputId": "b539cbca-adef-4459-867d-89561976e1b4"
      },
      "execution_count": 24,
      "outputs": [
        {
          "output_type": "stream",
          "name": "stdout",
          "text": [
            "serviceAccount:bqcx-852604332884-2s3d@gcp-sa-bigquery-condel.iam.gserviceaccount.com\n"
          ]
        }
      ]
    },
    {
      "cell_type": "markdown",
      "source": [
        "The resource connection service account requires certain project-level permissions:\n",
        "\n",
        "`roles/aiplatform.user` and `roles/bigquery.connectionUser`: These roles are required for the connection to create a model definition using the LLM model in Vertex AI ([documentation](https://cloud.google.com/bigquery/docs/generate-text#give_the_service_account_access)).\n",
        "roles/run.invoker: This role is required for the connection to have read-only access to Cloud Run services that back custom/remote functions ([documentation](https://cloud.google.com/bigquery/docs/remote-functions#grant_permission_on_function))."
      ],
      "metadata": {
        "id": "j2x4dhJ8Fhtc"
      }
    },
    {
      "cell_type": "markdown",
      "source": [
        "#### **Define the Large Language model using BigFrames**\n",
        "\n",
        "Use bigframes.ml.llm to define the model and get BigFrames session\n"
      ],
      "metadata": {
        "id": "-ay0KygzF_Q1"
      }
    },
    {
      "cell_type": "markdown",
      "source": [
        "#### **Create a Prompt**\n",
        "For each cluster, ask the LLM to act as a brand strategist and generate the following:\n",
        "* Title\n",
        "* Persona\n",
        "* Next Marketing Step"
      ],
      "metadata": {
        "id": "tdoRB7RjLso6"
      }
    },
    {
      "cell_type": "code",
      "source": [
        "model = GeminiTextGenerator(session=session, connection_name=connection_name)"
      ],
      "metadata": {
        "id": "7J22pFpewG-M",
        "colab": {
          "base_uri": "https://localhost:8080/",
          "height": 34
        },
        "executionInfo": {
          "status": "ok",
          "timestamp": 1732552676122,
          "user_tz": -60,
          "elapsed": 2911,
          "user": {
            "displayName": "",
            "userId": ""
          }
        },
        "outputId": "2b521a5c-f6aa-4b67-f86b-e75685edf12d"
      },
      "execution_count": 25,
      "outputs": [
        {
          "output_type": "display_data",
          "data": {
            "text/plain": [
              "<IPython.core.display.HTML object>"
            ],
            "text/html": [
              "Query job 0198948d-1270-436c-b750-9f79e205cf51 is DONE. 0 Bytes processed. <a target=\"_blank\" href=\"https://console.cloud.google.com/bigquery?project=jrdetorre-bq-demo&j=bq:US:0198948d-1270-436c-b750-9f79e205cf51&page=queryresults\">Open Job</a>"
            ]
          },
          "metadata": {}
        }
      ]
    },
    {
      "cell_type": "code",
      "source": [
        "clusters = str.join(\"\\n\", cluster_info)\n",
        "\n",
        "prompt = f\"\"\"\n",
        "You're a creative brand strategist, given the following clusters, come up with \\\n",
        "creative brand persona, a catchy title, and next marketing action, \\\n",
        "explained step by step.\n",
        "\n",
        "Clusters:\n",
        "{clusters}\n",
        "\n",
        "For each Cluster:\n",
        "* Title:\n",
        "* Persona:\n",
        "* Next Marketing Step:\n",
        "\"\"\"\n",
        "\n"
      ],
      "metadata": {
        "id": "MYwQNH0ELu9y",
        "executionInfo": {
          "status": "ok",
          "timestamp": 1732552682418,
          "user_tz": -60,
          "elapsed": 307,
          "user": {
            "displayName": "",
            "userId": ""
          }
        }
      },
      "execution_count": 26,
      "outputs": []
    },
    {
      "cell_type": "markdown",
      "source": [
        "#### **Prediction using Large Language model**"
      ],
      "metadata": {
        "id": "X7wyE30HP4-U"
      }
    },
    {
      "cell_type": "code",
      "source": [
        "prompt_df = bpd.read_pandas(pd.DataFrame({'prompt': [prompt]}))\n",
        "pred = model.predict(prompt_df, max_output_tokens=1024, temperature=0.55, top_p=0.8, top_k=40)\n",
        "print(pred.iloc[0,0])"
      ],
      "metadata": {
        "id": "wumJXJv2Qqg_",
        "colab": {
          "base_uri": "https://localhost:8080/",
          "height": 1000
        },
        "executionInfo": {
          "status": "ok",
          "timestamp": 1732552722454,
          "user_tz": -60,
          "elapsed": 19534,
          "user": {
            "displayName": "",
            "userId": ""
          }
        },
        "outputId": "e2943264-6fae-4d9c-fbee-d7432c388202"
      },
      "execution_count": 27,
      "outputs": [
        {
          "output_type": "display_data",
          "data": {
            "text/plain": [
              "<IPython.core.display.HTML object>"
            ],
            "text/html": [
              "Query job 2eaf8ea8-7e73-49b8-969d-c4ba6ff12f3b is DONE. 0 Bytes processed. <a target=\"_blank\" href=\"https://console.cloud.google.com/bigquery?project=jrdetorre-bq-demo&j=bq:US:2eaf8ea8-7e73-49b8-969d-c4ba6ff12f3b&page=queryresults\">Open Job</a>"
            ]
          },
          "metadata": {}
        },
        {
          "output_type": "stream",
          "name": "stderr",
          "text": [
            "/usr/local/lib/python3.10/dist-packages/bigframes/core/__init__.py:112: PreviewWarning: Interpreting JSON column(s) as StringDtype. This behavior may change in future versions.\n",
            "  warnings.warn(\n"
          ]
        },
        {
          "output_type": "display_data",
          "data": {
            "text/plain": [
              "<IPython.core.display.HTML object>"
            ],
            "text/html": [
              "Query job 57969935-c620-4281-9267-6047e5779d58 is DONE. 2 Bytes processed. <a target=\"_blank\" href=\"https://console.cloud.google.com/bigquery?project=jrdetorre-bq-demo&j=bq:US:57969935-c620-4281-9267-6047e5779d58&page=queryresults\">Open Job</a>"
            ]
          },
          "metadata": {}
        },
        {
          "output_type": "display_data",
          "data": {
            "text/plain": [
              "<IPython.core.display.HTML object>"
            ],
            "text/html": [
              "Query job 31b264b9-be6d-4b13-bef9-a933b09a1200 is DONE. 3.3 kB processed. <a target=\"_blank\" href=\"https://console.cloud.google.com/bigquery?project=jrdetorre-bq-demo&j=bq:US:31b264b9-be6d-4b13-bef9-a933b09a1200&page=queryresults\">Open Job</a>"
            ]
          },
          "metadata": {}
        },
        {
          "output_type": "stream",
          "name": "stdout",
          "text": [
            "## Creative Brand Persona, Titles, and Next Marketing Actions for Each Cluster:\n",
            "\n",
            "## Cluster 1:\n",
            "\n",
            "**Title:** The Loyalists\n",
            "\n",
            "**Persona:** These customers are high spenders who make infrequent purchases but rarely return items. They are likely loyal to your brand and appreciate the quality of your products.\n",
            "\n",
            "**Next Marketing Step:** \n",
            "* **Offer exclusive benefits:** Reward their loyalty with exclusive discounts, early access to new products, and personalized recommendations.\n",
            "* **Build a community:** Create a VIP program or online forum where they can connect with other loyal customers and the brand.\n",
            "* **Personalize their experience:** Leverage their purchase history and preferences to offer tailored product recommendations and content.\n",
            "\n",
            "## Cluster 2:\n",
            "\n",
            "**Title:** The Bargain Hunters\n",
            "\n",
            "**Persona:** These customers are price-conscious and make frequent, smaller purchases. They are likely to compare prices and look for deals before buying.\n",
            "\n",
            "**Next Marketing Step:**\n",
            "* **Highlight value and promotions:** Emphasize the affordability of your products and promote special offers and discounts.\n",
            "* **Offer bundle deals:** Create bundles of complementary products at a discounted price to encourage larger purchases.\n",
            "* **Free shipping:** Offer free shipping for orders above a certain amount to incentivize larger basket sizes.\n",
            "\n",
            "## Cluster 3:\n",
            "\n",
            "**Title:** The Considered Shoppers\n",
            "\n",
            "**Persona:** These customers spend a moderate amount and make infrequent purchases. They are likely to research products carefully before buying and may be influenced by reviews and recommendations.\n",
            "\n",
            "**Next Marketing Step:**\n",
            "* **Provide detailed product information:** Offer comprehensive descriptions, high-quality images, and customer reviews to help them make informed decisions.\n",
            "* **Create educational content:** Develop blog posts, videos, or guides that address their pain points and educate them about your products.\n",
            "* **Leverage social proof:** Showcase positive customer testimonials and reviews to build trust and encourage purchase.\n",
            "\n",
            "## Cluster 4:\n",
            "\n",
            "**Title:** The Impulse Buyers\n",
            "\n",
            "**Persona:** These customers make quick, unplanned purchases and have a high return rate. They are likely to be influenced by emotional triggers and social media trends.\n",
            "\n",
            "**Next Marketing Step:**\n",
            "* **Create urgency and scarcity:** Use limited-time offers and limited-edition products to encourage immediate purchase.\n",
            "* **Optimize product pages for impulse buys:** Use high-quality visuals, clear calls to action, and easy checkout processes.\n",
            "* **Retargeting campaigns:** Target customers who have abandoned their carts or shown interest in specific products with personalized ads and offers.\n",
            "\n",
            "## Cluster 5:\n",
            "\n",
            "**Title:** The Returners\n",
            "\n",
            "**Persona:** These customers make frequent purchases but have a very high return rate. They may be unsure about sizing, fit, or product quality.\n",
            "\n",
            "**Next Marketing Step:**\n",
            "* **Improve product descriptions and images:** Ensure product descriptions are accurate and detailed, and images accurately reflect the product.\n",
            "* **Offer free returns and exchanges:** Make the return process as easy and convenient as possible to encourage customers to keep their purchases.\n",
            "* **Personalize size and fit recommendations:** Utilize AI-powered tools or fit guides to help customers choose the right size and avoid returns. \n",
            "\n"
          ]
        }
      ]
    },
    {
      "cell_type": "markdown",
      "source": [
        "**Voila! We've now used k-Means clustering to create groups of spenders and explain their profiles.**"
      ],
      "metadata": {
        "id": "jqC5uUguaunY"
      }
    },
    {
      "cell_type": "markdown",
      "source": [
        "**Congratulations**! You have learned how to use **BigFrames** and manage each step of the process, including gathering data, data manipulation, and querying the LLM."
      ],
      "metadata": {
        "id": "bi8SGY4__aEI"
      }
    },
    {
      "cell_type": "markdown",
      "source": [
        "\n",
        "\n",
        "---\n",
        "\n"
      ],
      "metadata": {
        "id": "oFVRAN2wckHC"
      }
    },
    {
      "cell_type": "markdown",
      "source": [
        "#### **BONUS #1: LLM Prompt Engineering**\n",
        "\n",
        "Sometimes, though, you want a little bit extra.\n",
        "\n",
        "#### **Personalized marketing emails**\n",
        "Think about using Generative AI to also generate personalized marketing emails using witty e-mail headline for marketing campaign targeted to their clusters of customers\n",
        "\n",
        "Reference: [Prompt Generation with Generative AI](https://cloud.google.com/blog/transform/prompt-debunking-five-generative-ai-misconceptions)."
      ],
      "metadata": {
        "id": "5HEVHGmmRyGW"
      }
    },
    {
      "cell_type": "code",
      "source": [
        "cluster_info = str.join('\\n', cluster_info)\n",
        "\n",
        "prompt = f\"\"\"\n",
        "Pretend you're a creative strategist, analyze the following clusters and come up with \\\n",
        "creative brand persona for each that includes the detail of which Taylor Swift song is \\\n",
        "likely to be their favorite, a summary of how this relates to their purchasing behavior, \\\n",
        "and a witty e-mail headline for marketing campaign targeted to their group using \\\n",
        "their predicted favorite song title.\n",
        "\n",
        "Clusters:\n",
        "{cluster_info}\n",
        "\n",
        "\n",
        "For each Cluster:\n",
        "* Cluster:\n",
        "* Interests:\n",
        "* Favorite Taylor Swift Song:\n",
        "* Witty email headline:\n",
        "* Email body:\n",
        "\n",
        "\"\"\"\n"
      ],
      "metadata": {
        "id": "3HgwtN1tR3xQ",
        "executionInfo": {
          "status": "ok",
          "timestamp": 1732552759359,
          "user_tz": -60,
          "elapsed": 271,
          "user": {
            "displayName": "",
            "userId": ""
          }
        }
      },
      "execution_count": 28,
      "outputs": []
    },
    {
      "cell_type": "code",
      "source": [
        "prompt_df = bpd.read_pandas(pd.DataFrame({'prompt': [prompt]}))\n",
        "pred = model.predict(prompt_df, max_output_tokens=1024, temperature=0.55, top_p=0.8, top_k=40)\n",
        "print(pred.iloc[0,0])"
      ],
      "metadata": {
        "id": "PqkskS625o7y",
        "colab": {
          "base_uri": "https://localhost:8080/",
          "height": 852
        },
        "executionInfo": {
          "status": "ok",
          "timestamp": 1732552779885,
          "user_tz": -60,
          "elapsed": 17684,
          "user": {
            "displayName": "",
            "userId": ""
          }
        },
        "outputId": "04984ab6-bb78-4f94-fda1-2b9e7f55ba35"
      },
      "execution_count": 29,
      "outputs": [
        {
          "output_type": "display_data",
          "data": {
            "text/plain": [
              "<IPython.core.display.HTML object>"
            ],
            "text/html": [
              "Query job 020db622-24d3-498c-8564-d231a50d31e2 is DONE. 0 Bytes processed. <a target=\"_blank\" href=\"https://console.cloud.google.com/bigquery?project=jrdetorre-bq-demo&j=bq:US:020db622-24d3-498c-8564-d231a50d31e2&page=queryresults\">Open Job</a>"
            ]
          },
          "metadata": {}
        },
        {
          "output_type": "stream",
          "name": "stderr",
          "text": [
            "/usr/local/lib/python3.10/dist-packages/bigframes/core/__init__.py:112: PreviewWarning: Interpreting JSON column(s) as StringDtype. This behavior may change in future versions.\n",
            "  warnings.warn(\n"
          ]
        },
        {
          "output_type": "display_data",
          "data": {
            "text/plain": [
              "<IPython.core.display.HTML object>"
            ],
            "text/html": [
              "Query job e680ab9b-2992-49ad-ac89-09552907fd3f is DONE. 2 Bytes processed. <a target=\"_blank\" href=\"https://console.cloud.google.com/bigquery?project=jrdetorre-bq-demo&j=bq:US:e680ab9b-2992-49ad-ac89-09552907fd3f&page=queryresults\">Open Job</a>"
            ]
          },
          "metadata": {}
        },
        {
          "output_type": "display_data",
          "data": {
            "text/plain": [
              "<IPython.core.display.HTML object>"
            ],
            "text/html": [
              "Query job e67291ee-f7ce-4b32-a96c-07b297af9e35 is DONE. 2.7 kB processed. <a target=\"_blank\" href=\"https://console.cloud.google.com/bigquery?project=jrdetorre-bq-demo&j=bq:US:e67291ee-f7ce-4b32-a96c-07b297af9e35&page=queryresults\">Open Job</a>"
            ]
          },
          "metadata": {}
        },
        {
          "output_type": "stream",
          "name": "stdout",
          "text": [
            "## Creative Brand Persona Analysis for Taylor Swift Fan Clusters:\n",
            "\n",
            "**Cluster 1:**\n",
            "\n",
            "* **Cluster:** High Spenders, Low Frequency, Low Return\n",
            "* **Interests:** Luxury goods, experiences, exclusivity\n",
            "* **Favorite Taylor Swift Song:** \"The Man\" - This song resonates with their desire for power, success, and breaking barriers.\n",
            "* **Witty email headline:** \"Shake it Off, We've Got Your Next Big Purchase\"\n",
            "* **Email body:** \"Feeling like the man? Treat yourself to the finer things in life with our exclusive offers on luxury items and unforgettable experiences. You deserve it.\"\n",
            "\n",
            "**Cluster 2:**\n",
            "\n",
            "* **Cluster:** Low Spenders, High Frequency, Low Return\n",
            "* **Interests:** Value, convenience, practicality\n",
            "* **Favorite Taylor Swift Song:** \"Blank Space\" - This song reflects their desire for a perfect relationship, even if it's just a fantasy.\n",
            "* **Witty email headline:** \"We're Not Looking for Trouble, Just Your Repeat Business\"\n",
            "* **Email body:** \"We know you love a good deal, and we've got plenty! Shop our latest offers on everyday essentials and keep coming back for more.\"\n",
            "\n",
            "**Cluster 3:**\n",
            "\n",
            "* **Cluster:** Moderate Spenders, Low Frequency, Very Low Return\n",
            "* **Interests:** Quality, craftsmanship, unique experiences\n",
            "* **Favorite Taylor Swift Song:** \"All Too Well\" - This song speaks to their nostalgia for the past and their appreciation for beautiful things.\n",
            "* **Witty email headline:** \"Our Products Are Like Your Favorite Red Scarf: Timeless and Unforgettable\"\n",
            "* **Email body:** \"Invest in pieces that will last a lifetime with our curated collection of high-quality items. Each one tells a story, just like your favorite Taylor Swift song.\"\n",
            "\n",
            "**Cluster 4:**\n",
            "\n",
            "* **Cluster:** Very Low Spenders, Low Frequency, No Returns\n",
            "* **Interests:** Freebies, deals, low-cost entertainment\n",
            "* **Favorite Taylor Swift Song:** \"Shake It Off\" - This song reflects their carefree attitude and their ability to let go of negativity.\n",
            "* **Witty email headline:** \"We're So Cheap, You'll Think We're Out of Our Minds\"\n",
            "* **Email body:** \"Looking for a good time without breaking the bank? Check out our amazing deals on fun and affordable products. You'll be singing our praises in no time.\"\n",
            "\n",
            "**Cluster 5:**\n",
            "\n",
            "* **Cluster:** Moderate Spenders, Moderate Frequency, High Return\n",
            "* **Interests:** Fashion, trends, social media\n",
            "* **Favorite Taylor Swift Song:** \"Style\" - This song reflects their love of experimentation and their desire to express themselves through fashion.\n",
            "* **Witty email headline:** \"You Need to See What We're Wearing This Season\"\n",
            "* **Email body:** \"Stay ahead of the curve with our latest fashion finds. We've got everything you need to look and feel your best, just like your idol Taylor Swift.\" \n",
            "\n"
          ]
        }
      ]
    }
  ]
}