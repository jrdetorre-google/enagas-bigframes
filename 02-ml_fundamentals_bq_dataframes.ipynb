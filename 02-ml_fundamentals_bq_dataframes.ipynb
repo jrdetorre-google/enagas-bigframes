{
  "cells": [
    {
      "cell_type": "code",
      "execution_count": null,
      "metadata": {
        "id": "ur8xi4C7S06n"
      },
      "outputs": [],
      "source": [
        "# Copyright 2024 Google LLC\n",
        "#\n",
        "# Licensed under the Apache License, Version 2.0 (the \"License\");\n",
        "# you may not use this file except in compliance with the License.\n",
        "# You may obtain a copy of the License at\n",
        "#\n",
        "#     https://www.apache.org/licenses/LICENSE-2.0\n",
        "#\n",
        "# Unless required by applicable law or agreed to in writing, software\n",
        "# distributed under the License is distributed on an \"AS IS\" BASIS,\n",
        "# WITHOUT WARRANTIES OR CONDITIONS OF ANY KIND, either express or implied.\n",
        "# See the License for the specific language governing permissions and\n",
        "# limitations under the License."
      ]
    },
    {
      "cell_type": "markdown",
      "metadata": {
        "id": "JAPoU8Sm5E6e"
      },
      "source": [
        "# Machine Learning Fundamentals with BigQuery DataFrames\n",
        "\n",
        "<table align=\"left\">\n",
        "\n",
        "   <td>\n",
        "    <a href=\"https://github.com/googleapis/python-bigquery-dataframes/blob/main/notebooks/getting_started/ml_fundamentals_bq_dataframes.ipynb\">\n",
        "      <img src=\"https://cloud.google.com/ml-engine/images/github-logo-32px.png\" alt=\"GitHub logo\">\n",
        "      View on GitHub\n",
        "    </a>\n",
        "  </td>\n",
        "                                                                                       \n",
        "</table>"
      ]
    },
    {
      "cell_type": "markdown",
      "metadata": {
        "id": "24743cf4a1e1"
      },
      "source": [
        "**_NOTE_**: This notebook has been tested in the following environment:\n",
        "\n",
        "* Python version = 3.10"
      ]
    },
    {
      "cell_type": "markdown",
      "metadata": {
        "id": "tvgnzT1CKxrO"
      },
      "source": [
        "## Overview\n",
        "\n",
        "The `bigframes.ml` module implements Scikit-Learn's machine learning API in\n",
        "BigQuery DataFrames. It exposes BigQuery's ML capabilities in a simple, popular\n",
        "API that works seamlessly with the rest of the BigQuery DataFrames API.\n",
        "\n",
        "Learn more about [BigQuery DataFrames](https://cloud.google.com/python/docs/reference/bigframes/latest)."
      ]
    },
    {
      "cell_type": "markdown",
      "metadata": {
        "id": "d975e698c9a4"
      },
      "source": [
        "### Objective\n",
        "\n",
        "In this tutorial, you will walk through an end-to-end machine learning workflow using BigQuery DataFrames. You will load data, manipulate and prepare it for model training, build supervised and unsupervised models, and evaluate and save a model for future use; all using built-in BigQuery DataFrames functionality."
      ]
    },
    {
      "cell_type": "markdown",
      "metadata": {
        "id": "08d289fa873f"
      },
      "source": [
        "### Dataset\n",
        "\n",
        "This tutorial uses the [```penguins``` table](https://console.cloud.google.com/bigquery?p=bigquery-public-data&d=ml_datasets&t=penguins) (a BigQuery public dataset), which contains data on a set of penguins including species, island of residence, weight, culmen length and depth, flipper length, and sex."
      ]
    },
    {
      "cell_type": "markdown",
      "metadata": {
        "id": "aed92deeb4a0"
      },
      "source": [
        "### Costs\n",
        "\n",
        "This tutorial uses billable components of Google Cloud:\n",
        "\n",
        "* BigQuery (storage and compute)\n",
        "* BigQuery ML\n",
        "\n",
        "Learn about [BigQuery storage pricing](https://cloud.google.com/bigquery/pricing#storage),\n",
        "[BigQuery compute pricing](https://cloud.google.com/bigquery/pricing#analysis_pricing_models),\n",
        "and [BigQuery ML pricing](https://cloud.google.com/bigquery/pricing#bqml),\n",
        "and use the [Pricing Calculator](https://cloud.google.com/products/calculator/)\n",
        "to generate a cost estimate based on your projected usage."
      ]
    },
    {
      "cell_type": "markdown",
      "metadata": {
        "id": "i7EUnXsZhAGF"
      },
      "source": [
        "## Installation\n",
        "\n",
        "Depending on your Jupyter environment, you might have to install packages."
      ]
    },
    {
      "cell_type": "markdown",
      "metadata": {
        "id": "NRTcBQPZpKWd"
      },
      "source": [
        "**Vertex AI Workbench or Colab**\n",
        "\n",
        "Do nothing, BigQuery DataFrames package is already installed."
      ]
    },
    {
      "cell_type": "markdown",
      "metadata": {
        "id": "bdOJtFo1pRnc"
      },
      "source": [
        "**Local JupyterLab instance**\n",
        "\n",
        "Uncomment and run the following cell:"
      ]
    },
    {
      "cell_type": "code",
      "execution_count": null,
      "metadata": {
        "id": "mfPoOwPLGpSr"
      },
      "outputs": [],
      "source": [
        "# !pip install bigframes"
      ]
    },
    {
      "cell_type": "markdown",
      "metadata": {
        "id": "BF1j6f9HApxa"
      },
      "source": [
        "## Before you begin\n",
        "\n",
        "Complete the tasks in this section to set up your environment."
      ]
    },
    {
      "cell_type": "markdown",
      "metadata": {
        "id": "Yq7zKYWelRQP"
      },
      "source": [
        "### Set up your Google Cloud project\n",
        "\n",
        "**The following steps are required, regardless of your notebook environment.**\n",
        "\n",
        "1. [Select or create a Google Cloud project](https://console.cloud.google.com/cloud-resource-manager). When you first create an account, you get a $300 credit towards your compute/storage costs.\n",
        "\n",
        "2. [Make sure that billing is enabled for your project](https://cloud.google.com/billing/docs/how-to/modify-project).\n",
        "\n",
        "3. [Click here](https://console.cloud.google.com/flows/enableapi?apiid=bigquery.googleapis.com) to enable the BigQuery API.\n",
        "\n",
        "4. If you are running this notebook locally, install the [Cloud SDK](https://cloud.google.com/sdk)."
      ]
    },
    {
      "cell_type": "markdown",
      "metadata": {
        "id": "WReHDGG5g0XY"
      },
      "source": [
        "#### Set your project ID\n",
        "\n",
        "If you don't know your project ID, try the following:\n",
        "* Run `gcloud config list`.\n",
        "* Run `gcloud projects list`.\n",
        "* See the support page: [Locate the project ID](https://support.google.com/googleapi/answer/7014113)."
      ]
    },
    {
      "cell_type": "code",
      "execution_count": 1,
      "metadata": {
        "id": "oM1iC_MfAts1",
        "colab": {
          "base_uri": "https://localhost:8080/"
        },
        "executionInfo": {
          "status": "ok",
          "timestamp": 1732546383986,
          "user_tz": -60,
          "elapsed": 1118,
          "user": {
            "displayName": "",
            "userId": ""
          }
        },
        "outputId": "6dea7b9d-c3a8-48b7-938d-c2bd4b479935"
      },
      "outputs": [
        {
          "output_type": "stream",
          "name": "stdout",
          "text": [
            "Updated property [core/project].\n"
          ]
        }
      ],
      "source": [
        "PROJECT_ID = \"jrdetorre-bq-demo\"  # @param {type:\"string\"}\n",
        "\n",
        "# Set the project id\n",
        "! gcloud config set project {PROJECT_ID}"
      ]
    },
    {
      "cell_type": "markdown",
      "metadata": {
        "id": "region"
      },
      "source": [
        "#### Set the region\n",
        "\n",
        "You can also change the `REGION` variable used by BigQuery. Learn more about [BigQuery regions](https://cloud.google.com/bigquery/docs/locations#supported_locations)."
      ]
    },
    {
      "cell_type": "code",
      "execution_count": 2,
      "metadata": {
        "id": "eF-Twtc4XGem",
        "executionInfo": {
          "status": "ok",
          "timestamp": 1732546385099,
          "user_tz": -60,
          "elapsed": 287,
          "user": {
            "displayName": "",
            "userId": ""
          }
        }
      },
      "outputs": [],
      "source": [
        "REGION = \"US\"  # @param {type: \"string\"}"
      ]
    },
    {
      "cell_type": "markdown",
      "metadata": {
        "id": "XcW9adriUQRc"
      },
      "source": [
        "#### Set the dataset ID\n",
        "\n",
        "As part of this notebook, you will save BigQuery ML models to your Google Cloud project, which requires a dataset. Create the dataset, if needed, and provide the ID here as the `DATASET` variable used by BigQuery. Learn how to create a [BigQuery dataset](https://cloud.google.com/bigquery/docs/datasets)."
      ]
    },
    {
      "cell_type": "code",
      "execution_count": 3,
      "metadata": {
        "id": "BbMh9JHvUHAn",
        "executionInfo": {
          "status": "ok",
          "timestamp": 1732546386159,
          "user_tz": -60,
          "elapsed": 1,
          "user": {
            "displayName": "",
            "userId": ""
          }
        }
      },
      "outputs": [],
      "source": [
        "DATASET = \"birds\"  # @param {type: \"string\"}"
      ]
    },
    {
      "cell_type": "markdown",
      "metadata": {
        "id": "NwxfWoR5UGwO"
      },
      "source": []
    },
    {
      "cell_type": "markdown",
      "metadata": {
        "id": "960505627ddf"
      },
      "source": [
        "### Import libraries"
      ]
    },
    {
      "cell_type": "code",
      "execution_count": 4,
      "metadata": {
        "id": "PyQmSRbKA8r-",
        "executionInfo": {
          "status": "ok",
          "timestamp": 1732546408543,
          "user_tz": -60,
          "elapsed": 2470,
          "user": {
            "displayName": "",
            "userId": ""
          }
        }
      },
      "outputs": [],
      "source": [
        "import bigframes.pandas as bpd"
      ]
    },
    {
      "cell_type": "markdown",
      "metadata": {
        "id": "init_aip:mbsdk,all"
      },
      "source": [
        "\n",
        "### Set BigQuery DataFrames options"
      ]
    },
    {
      "cell_type": "code",
      "execution_count": 6,
      "metadata": {
        "id": "NPPMuw2PXGeo",
        "executionInfo": {
          "status": "ok",
          "timestamp": 1732546414211,
          "user_tz": -60,
          "elapsed": 278,
          "user": {
            "displayName": "",
            "userId": ""
          }
        }
      },
      "outputs": [],
      "source": [
        "# Note: The project option is not required in all environments.\n",
        "# On BigQuery Studio, the project ID is automatically detected.\n",
        "bpd.options.bigquery.project = PROJECT_ID\n",
        "\n",
        "# Note: The location option is not required.\n",
        "# It defaults to the location of the first table or query\n",
        "# passed to read_gbq(). For APIs where a location can't be\n",
        "# auto-detected, the location defaults to the \"US\" location.\n",
        "bpd.options.bigquery.location = REGION"
      ]
    },
    {
      "cell_type": "markdown",
      "metadata": {
        "id": "pDfrKwMKE_dK"
      },
      "source": [
        "If you want to reset the location of the created DataFrame or Series objects, reset the session by executing `bpd.reset_session()`. After that, you can reuse `bpd.options.bigquery.location` to specify another location."
      ]
    },
    {
      "cell_type": "markdown",
      "metadata": {
        "id": "LjfRpSruzg5j"
      },
      "source": [
        "## Import data into BigQuery DataFrames\n",
        "\n",
        "You can create a DataFrame by reading data from a BigQuery table."
      ]
    },
    {
      "cell_type": "code",
      "execution_count": 7,
      "metadata": {
        "id": "d86W4hNqzZJb",
        "colab": {
          "base_uri": "https://localhost:8080/"
        },
        "executionInfo": {
          "status": "ok",
          "timestamp": 1732546419061,
          "user_tz": -60,
          "elapsed": 2092,
          "user": {
            "displayName": "",
            "userId": ""
          }
        },
        "outputId": "2c596b88-1788-4e69-9d2d-cb62a5814c7b"
      },
      "outputs": [
        {
          "output_type": "stream",
          "name": "stdout",
          "text": [
            "WARNING: google.colab.auth.authenticate_user() is not supported in Colab Enterprise.\n"
          ]
        }
      ],
      "source": [
        "df = bpd.read_gbq(\"bigquery-public-data.ml_datasets.penguins\")\n",
        "df = df.dropna()\n",
        "\n",
        "# BigQuery DataFrames creates a default numbered index, which we can give a name\n",
        "df.index.name = \"penguin_id\""
      ]
    },
    {
      "cell_type": "markdown",
      "metadata": {
        "id": "pDfCJ6-LkRB1"
      },
      "source": [
        "Take a look at a few rows of the DataFrame:"
      ]
    },
    {
      "cell_type": "code",
      "execution_count": 8,
      "metadata": {
        "id": "arGaUZVWkSwT",
        "colab": {
          "base_uri": "https://localhost:8080/",
          "height": 319
        },
        "executionInfo": {
          "status": "ok",
          "timestamp": 1732546426543,
          "user_tz": -60,
          "elapsed": 6646,
          "user": {
            "displayName": "",
            "userId": ""
          }
        },
        "outputId": "35bffaec-1d57-4488-8d2a-ea149ac81d3d"
      },
      "outputs": [
        {
          "output_type": "display_data",
          "data": {
            "text/plain": [
              "<IPython.core.display.HTML object>"
            ],
            "text/html": [
              "Query job 8ee1811b-1cd7-4a43-95b2-373bb4173e8b is DONE. 28.9 kB processed. <a target=\"_blank\" href=\"https://console.cloud.google.com/bigquery?project=jrdetorre-bq-demo&j=bq:US:8ee1811b-1cd7-4a43-95b2-373bb4173e8b&page=queryresults\">Open Job</a>"
            ]
          },
          "metadata": {}
        },
        {
          "output_type": "display_data",
          "data": {
            "text/plain": [
              "<IPython.core.display.HTML object>"
            ],
            "text/html": [
              "Query job 1e720e44-3909-43de-9546-f84be3f5daf6 is DONE. 501 Bytes processed. <a target=\"_blank\" href=\"https://console.cloud.google.com/bigquery?project=jrdetorre-bq-demo&j=bq:US:1e720e44-3909-43de-9546-f84be3f5daf6&page=queryresults\">Open Job</a>"
            ]
          },
          "metadata": {}
        },
        {
          "output_type": "execute_result",
          "data": {
            "text/plain": [
              "                                        species     island  culmen_length_mm  \\\n",
              "penguin_id                                                                     \n",
              "0             Gentoo penguin (Pygoscelis papua)     Biscoe              50.5   \n",
              "1             Gentoo penguin (Pygoscelis papua)     Biscoe              45.1   \n",
              "2           Adelie Penguin (Pygoscelis adeliae)  Torgersen              41.4   \n",
              "3           Adelie Penguin (Pygoscelis adeliae)  Torgersen              38.6   \n",
              "4             Gentoo penguin (Pygoscelis papua)     Biscoe              46.5   \n",
              "\n",
              "            culmen_depth_mm  flipper_length_mm  body_mass_g     sex  \n",
              "penguin_id                                                           \n",
              "0                      15.9              225.0       5400.0    MALE  \n",
              "1                      14.5              215.0       5000.0  FEMALE  \n",
              "2                      18.5              202.0       3875.0    MALE  \n",
              "3                      17.0              188.0       2900.0  FEMALE  \n",
              "4                      14.8              217.0       5200.0  FEMALE  \n",
              "\n",
              "[5 rows x 7 columns]"
            ],
            "text/html": [
              "<div>\n",
              "<style scoped>\n",
              "    .dataframe tbody tr th:only-of-type {\n",
              "        vertical-align: middle;\n",
              "    }\n",
              "\n",
              "    .dataframe tbody tr th {\n",
              "        vertical-align: top;\n",
              "    }\n",
              "\n",
              "    .dataframe thead th {\n",
              "        text-align: right;\n",
              "    }\n",
              "</style>\n",
              "<table border=\"1\" class=\"dataframe\">\n",
              "  <thead>\n",
              "    <tr style=\"text-align: right;\">\n",
              "      <th></th>\n",
              "      <th>species</th>\n",
              "      <th>island</th>\n",
              "      <th>culmen_length_mm</th>\n",
              "      <th>culmen_depth_mm</th>\n",
              "      <th>flipper_length_mm</th>\n",
              "      <th>body_mass_g</th>\n",
              "      <th>sex</th>\n",
              "    </tr>\n",
              "    <tr>\n",
              "      <th>penguin_id</th>\n",
              "      <th></th>\n",
              "      <th></th>\n",
              "      <th></th>\n",
              "      <th></th>\n",
              "      <th></th>\n",
              "      <th></th>\n",
              "      <th></th>\n",
              "    </tr>\n",
              "  </thead>\n",
              "  <tbody>\n",
              "    <tr>\n",
              "      <th>0</th>\n",
              "      <td>Gentoo penguin (Pygoscelis papua)</td>\n",
              "      <td>Biscoe</td>\n",
              "      <td>50.5</td>\n",
              "      <td>15.9</td>\n",
              "      <td>225.0</td>\n",
              "      <td>5400.0</td>\n",
              "      <td>MALE</td>\n",
              "    </tr>\n",
              "    <tr>\n",
              "      <th>1</th>\n",
              "      <td>Gentoo penguin (Pygoscelis papua)</td>\n",
              "      <td>Biscoe</td>\n",
              "      <td>45.1</td>\n",
              "      <td>14.5</td>\n",
              "      <td>215.0</td>\n",
              "      <td>5000.0</td>\n",
              "      <td>FEMALE</td>\n",
              "    </tr>\n",
              "    <tr>\n",
              "      <th>2</th>\n",
              "      <td>Adelie Penguin (Pygoscelis adeliae)</td>\n",
              "      <td>Torgersen</td>\n",
              "      <td>41.4</td>\n",
              "      <td>18.5</td>\n",
              "      <td>202.0</td>\n",
              "      <td>3875.0</td>\n",
              "      <td>MALE</td>\n",
              "    </tr>\n",
              "    <tr>\n",
              "      <th>3</th>\n",
              "      <td>Adelie Penguin (Pygoscelis adeliae)</td>\n",
              "      <td>Torgersen</td>\n",
              "      <td>38.6</td>\n",
              "      <td>17.0</td>\n",
              "      <td>188.0</td>\n",
              "      <td>2900.0</td>\n",
              "      <td>FEMALE</td>\n",
              "    </tr>\n",
              "    <tr>\n",
              "      <th>4</th>\n",
              "      <td>Gentoo penguin (Pygoscelis papua)</td>\n",
              "      <td>Biscoe</td>\n",
              "      <td>46.5</td>\n",
              "      <td>14.8</td>\n",
              "      <td>217.0</td>\n",
              "      <td>5200.0</td>\n",
              "      <td>FEMALE</td>\n",
              "    </tr>\n",
              "  </tbody>\n",
              "</table>\n",
              "<p>5 rows × 7 columns</p>\n",
              "</div>[5 rows x 7 columns in total]"
            ]
          },
          "metadata": {},
          "execution_count": 8
        }
      ],
      "source": [
        "df.head()"
      ]
    },
    {
      "cell_type": "markdown",
      "metadata": {
        "id": "WkUIcMXPkahu"
      },
      "source": [
        "## Clean and prepare data"
      ]
    },
    {
      "cell_type": "markdown",
      "metadata": {
        "id": "DScncEoDkiTG"
      },
      "source": [
        "We're are going to start with supervised learning, where a Linear Regression model will learn to predict the body mass (output variable `y`) using input features such as flipper length, sex, species, and more (features `X`)."
      ]
    },
    {
      "cell_type": "code",
      "execution_count": 9,
      "metadata": {
        "id": "B9mW93o9z_-L",
        "executionInfo": {
          "status": "ok",
          "timestamp": 1732546434037,
          "user_tz": -60,
          "elapsed": 265,
          "user": {
            "displayName": "",
            "userId": ""
          }
        }
      },
      "outputs": [],
      "source": [
        "# Isolate input features and output variable into DataFrames\n",
        "X = df[['island', 'culmen_length_mm', 'culmen_depth_mm', 'flipper_length_mm', 'sex', 'species']]\n",
        "y = df[['body_mass_g']]"
      ]
    },
    {
      "cell_type": "markdown",
      "metadata": {
        "id": "wkw0Cs62k_cl"
      },
      "source": [
        "Part of preparing data for a machine learning task is splitting it into subsets for training and testing to ensure that the solution is not overfitting. By default, BQML will automatically manage splitting the data for you. However, BQML also supports manually splitting out your training data.\n",
        "\n",
        "Performing a manual data split can be done with `bigframes.ml.model_selection.train_test_split` like so:"
      ]
    },
    {
      "cell_type": "code",
      "execution_count": 10,
      "metadata": {
        "id": "NysWAWmvlAxB",
        "colab": {
          "base_uri": "https://localhost:8080/",
          "height": 173
        },
        "executionInfo": {
          "status": "ok",
          "timestamp": 1732546469106,
          "user_tz": -60,
          "elapsed": 14354,
          "user": {
            "displayName": "",
            "userId": ""
          }
        },
        "outputId": "7e2e13f6-e824-460a-ca80-ff6822b65e9e"
      },
      "outputs": [
        {
          "output_type": "display_data",
          "data": {
            "text/plain": [
              "<IPython.core.display.HTML object>"
            ],
            "text/html": [
              "Query job 166a7fd1-992f-4943-88c6-268146532ff4 is DONE. 28.9 kB processed. <a target=\"_blank\" href=\"https://console.cloud.google.com/bigquery?project=jrdetorre-bq-demo&j=bq:US:166a7fd1-992f-4943-88c6-268146532ff4&page=queryresults\">Open Job</a>"
            ]
          },
          "metadata": {}
        },
        {
          "output_type": "display_data",
          "data": {
            "text/plain": [
              "<IPython.core.display.HTML object>"
            ],
            "text/html": [
              "Query job 614ef858-b412-4df7-a3b9-6aece88da080 is DONE. 28.9 kB processed. <a target=\"_blank\" href=\"https://console.cloud.google.com/bigquery?project=jrdetorre-bq-demo&j=bq:US:614ef858-b412-4df7-a3b9-6aece88da080&page=queryresults\">Open Job</a>"
            ]
          },
          "metadata": {}
        },
        {
          "output_type": "display_data",
          "data": {
            "text/plain": [
              "<IPython.core.display.HTML object>"
            ],
            "text/html": [
              "Query job eb821b17-b647-4885-9d7f-e5a52b716f3f is DONE. 28.9 kB processed. <a target=\"_blank\" href=\"https://console.cloud.google.com/bigquery?project=jrdetorre-bq-demo&j=bq:US:eb821b17-b647-4885-9d7f-e5a52b716f3f&page=queryresults\">Open Job</a>"
            ]
          },
          "metadata": {}
        },
        {
          "output_type": "display_data",
          "data": {
            "text/plain": [
              "<IPython.core.display.HTML object>"
            ],
            "text/html": [
              "Query job f67ddcfb-99c2-445e-b969-821f22b74054 is DONE. 28.9 kB processed. <a target=\"_blank\" href=\"https://console.cloud.google.com/bigquery?project=jrdetorre-bq-demo&j=bq:US:f67ddcfb-99c2-445e-b969-821f22b74054&page=queryresults\">Open Job</a>"
            ]
          },
          "metadata": {}
        },
        {
          "output_type": "display_data",
          "data": {
            "text/plain": [
              "<IPython.core.display.HTML object>"
            ],
            "text/html": [
              "Query job cb067525-8f4b-4624-b152-804f2f1da02a is DONE. 28.9 kB processed. <a target=\"_blank\" href=\"https://console.cloud.google.com/bigquery?project=jrdetorre-bq-demo&j=bq:US:cb067525-8f4b-4624-b152-804f2f1da02a&page=queryresults\">Open Job</a>"
            ]
          },
          "metadata": {}
        },
        {
          "output_type": "stream",
          "name": "stdout",
          "text": [
            "X_train shape: (267, 6)\n",
            "X_test shape: (67, 6)\n",
            "y_train shape: (267, 1)\n",
            "y_test shape: (67, 1)\n"
          ]
        }
      ],
      "source": [
        "from bigframes.ml.model_selection import train_test_split\n",
        "\n",
        "# This will split X and y into test and training sets, with 20% of the rows in the test set,\n",
        "# and the rest in the training set\n",
        "X_train, X_test, y_train, y_test = train_test_split(\n",
        "  X, y, test_size=0.2)\n",
        "\n",
        "# Show the shape of the data after the split\n",
        "print(f\"\"\"X_train shape: {X_train.shape}\n",
        "X_test shape: {X_test.shape}\n",
        "y_train shape: {y_train.shape}\n",
        "y_test shape: {y_test.shape}\"\"\")"
      ]
    },
    {
      "cell_type": "markdown",
      "metadata": {
        "id": "faFnVnNolydu"
      },
      "source": [
        "If we look at the data, we can see that random rows were selected for\n",
        "each side of the split:"
      ]
    },
    {
      "cell_type": "code",
      "execution_count": 11,
      "metadata": {
        "id": "f8bz1HwLlyLP",
        "colab": {
          "base_uri": "https://localhost:8080/",
          "height": 319
        },
        "executionInfo": {
          "status": "ok",
          "timestamp": 1732546476830,
          "user_tz": -60,
          "elapsed": 7727,
          "user": {
            "displayName": "",
            "userId": ""
          }
        },
        "outputId": "9cdee691-7619-475a-b02f-c059652d273f"
      },
      "outputs": [
        {
          "output_type": "display_data",
          "data": {
            "text/plain": [
              "<IPython.core.display.HTML object>"
            ],
            "text/html": [
              "Query job b99e1a27-4eed-4f06-8761-8489ab6a2080 is DONE. 28.9 kB processed. <a target=\"_blank\" href=\"https://console.cloud.google.com/bigquery?project=jrdetorre-bq-demo&j=bq:US:b99e1a27-4eed-4f06-8761-8489ab6a2080&page=queryresults\">Open Job</a>"
            ]
          },
          "metadata": {}
        },
        {
          "output_type": "display_data",
          "data": {
            "text/plain": [
              "<IPython.core.display.HTML object>"
            ],
            "text/html": [
              "Query job 2e571a56-647b-4e2f-a1af-7ffb7b1dc67a is DONE. 450 Bytes processed. <a target=\"_blank\" href=\"https://console.cloud.google.com/bigquery?project=jrdetorre-bq-demo&j=bq:US:2e571a56-647b-4e2f-a1af-7ffb7b1dc67a&page=queryresults\">Open Job</a>"
            ]
          },
          "metadata": {}
        },
        {
          "output_type": "execute_result",
          "data": {
            "text/plain": [
              "            island  culmen_length_mm  culmen_depth_mm  flipper_length_mm  \\\n",
              "penguin_id                                                                 \n",
              "47           Dream              37.5             18.5              199.0   \n",
              "144         Biscoe              46.5             14.5              213.0   \n",
              "75          Biscoe              37.8             20.0              190.0   \n",
              "67          Biscoe              47.6             14.5              215.0   \n",
              "172         Biscoe              48.2             15.6              221.0   \n",
              "\n",
              "               sex                              species  \n",
              "penguin_id                                               \n",
              "47            MALE  Adelie Penguin (Pygoscelis adeliae)  \n",
              "144         FEMALE    Gentoo penguin (Pygoscelis papua)  \n",
              "75            MALE  Adelie Penguin (Pygoscelis adeliae)  \n",
              "67            MALE    Gentoo penguin (Pygoscelis papua)  \n",
              "172           MALE    Gentoo penguin (Pygoscelis papua)  \n",
              "\n",
              "[5 rows x 6 columns]"
            ],
            "text/html": [
              "<div>\n",
              "<style scoped>\n",
              "    .dataframe tbody tr th:only-of-type {\n",
              "        vertical-align: middle;\n",
              "    }\n",
              "\n",
              "    .dataframe tbody tr th {\n",
              "        vertical-align: top;\n",
              "    }\n",
              "\n",
              "    .dataframe thead th {\n",
              "        text-align: right;\n",
              "    }\n",
              "</style>\n",
              "<table border=\"1\" class=\"dataframe\">\n",
              "  <thead>\n",
              "    <tr style=\"text-align: right;\">\n",
              "      <th></th>\n",
              "      <th>island</th>\n",
              "      <th>culmen_length_mm</th>\n",
              "      <th>culmen_depth_mm</th>\n",
              "      <th>flipper_length_mm</th>\n",
              "      <th>sex</th>\n",
              "      <th>species</th>\n",
              "    </tr>\n",
              "    <tr>\n",
              "      <th>penguin_id</th>\n",
              "      <th></th>\n",
              "      <th></th>\n",
              "      <th></th>\n",
              "      <th></th>\n",
              "      <th></th>\n",
              "      <th></th>\n",
              "    </tr>\n",
              "  </thead>\n",
              "  <tbody>\n",
              "    <tr>\n",
              "      <th>47</th>\n",
              "      <td>Dream</td>\n",
              "      <td>37.5</td>\n",
              "      <td>18.5</td>\n",
              "      <td>199.0</td>\n",
              "      <td>MALE</td>\n",
              "      <td>Adelie Penguin (Pygoscelis adeliae)</td>\n",
              "    </tr>\n",
              "    <tr>\n",
              "      <th>144</th>\n",
              "      <td>Biscoe</td>\n",
              "      <td>46.5</td>\n",
              "      <td>14.5</td>\n",
              "      <td>213.0</td>\n",
              "      <td>FEMALE</td>\n",
              "      <td>Gentoo penguin (Pygoscelis papua)</td>\n",
              "    </tr>\n",
              "    <tr>\n",
              "      <th>75</th>\n",
              "      <td>Biscoe</td>\n",
              "      <td>37.8</td>\n",
              "      <td>20.0</td>\n",
              "      <td>190.0</td>\n",
              "      <td>MALE</td>\n",
              "      <td>Adelie Penguin (Pygoscelis adeliae)</td>\n",
              "    </tr>\n",
              "    <tr>\n",
              "      <th>67</th>\n",
              "      <td>Biscoe</td>\n",
              "      <td>47.6</td>\n",
              "      <td>14.5</td>\n",
              "      <td>215.0</td>\n",
              "      <td>MALE</td>\n",
              "      <td>Gentoo penguin (Pygoscelis papua)</td>\n",
              "    </tr>\n",
              "    <tr>\n",
              "      <th>172</th>\n",
              "      <td>Biscoe</td>\n",
              "      <td>48.2</td>\n",
              "      <td>15.6</td>\n",
              "      <td>221.0</td>\n",
              "      <td>MALE</td>\n",
              "      <td>Gentoo penguin (Pygoscelis papua)</td>\n",
              "    </tr>\n",
              "  </tbody>\n",
              "</table>\n",
              "<p>5 rows × 6 columns</p>\n",
              "</div>[5 rows x 6 columns in total]"
            ]
          },
          "metadata": {},
          "execution_count": 11
        }
      ],
      "source": [
        "X_test.head(5)"
      ]
    },
    {
      "cell_type": "markdown",
      "metadata": {
        "id": "v4ic7GQEl67Y"
      },
      "source": [
        "Note that the `y_test` data matches the same rows in `X_test`:"
      ]
    },
    {
      "cell_type": "code",
      "execution_count": 12,
      "metadata": {
        "id": "PflbhKGkl8v2",
        "colab": {
          "base_uri": "https://localhost:8080/",
          "height": 319
        },
        "executionInfo": {
          "status": "ok",
          "timestamp": 1732546483961,
          "user_tz": -60,
          "elapsed": 7133,
          "user": {
            "displayName": "",
            "userId": ""
          }
        },
        "outputId": "22af1bf5-d94d-48ae-a93a-8c7009577bd5"
      },
      "outputs": [
        {
          "output_type": "display_data",
          "data": {
            "text/plain": [
              "<IPython.core.display.HTML object>"
            ],
            "text/html": [
              "Query job c2f1921d-0974-459e-829b-97a7f3cd2086 is DONE. 28.9 kB processed. <a target=\"_blank\" href=\"https://console.cloud.google.com/bigquery?project=jrdetorre-bq-demo&j=bq:US:c2f1921d-0974-459e-829b-97a7f3cd2086&page=queryresults\">Open Job</a>"
            ]
          },
          "metadata": {}
        },
        {
          "output_type": "display_data",
          "data": {
            "text/plain": [
              "<IPython.core.display.HTML object>"
            ],
            "text/html": [
              "Query job b8e53f69-8e4a-4d64-b0f1-50e337280f4b is DONE. 120 Bytes processed. <a target=\"_blank\" href=\"https://console.cloud.google.com/bigquery?project=jrdetorre-bq-demo&j=bq:US:b8e53f69-8e4a-4d64-b0f1-50e337280f4b&page=queryresults\">Open Job</a>"
            ]
          },
          "metadata": {}
        },
        {
          "output_type": "execute_result",
          "data": {
            "text/plain": [
              "            body_mass_g\n",
              "penguin_id             \n",
              "47               4475.0\n",
              "144              4400.0\n",
              "75               4250.0\n",
              "67               5400.0\n",
              "172              5100.0\n",
              "\n",
              "[5 rows x 1 columns]"
            ],
            "text/html": [
              "<div>\n",
              "<style scoped>\n",
              "    .dataframe tbody tr th:only-of-type {\n",
              "        vertical-align: middle;\n",
              "    }\n",
              "\n",
              "    .dataframe tbody tr th {\n",
              "        vertical-align: top;\n",
              "    }\n",
              "\n",
              "    .dataframe thead th {\n",
              "        text-align: right;\n",
              "    }\n",
              "</style>\n",
              "<table border=\"1\" class=\"dataframe\">\n",
              "  <thead>\n",
              "    <tr style=\"text-align: right;\">\n",
              "      <th></th>\n",
              "      <th>body_mass_g</th>\n",
              "    </tr>\n",
              "    <tr>\n",
              "      <th>penguin_id</th>\n",
              "      <th></th>\n",
              "    </tr>\n",
              "  </thead>\n",
              "  <tbody>\n",
              "    <tr>\n",
              "      <th>47</th>\n",
              "      <td>4475.0</td>\n",
              "    </tr>\n",
              "    <tr>\n",
              "      <th>144</th>\n",
              "      <td>4400.0</td>\n",
              "    </tr>\n",
              "    <tr>\n",
              "      <th>75</th>\n",
              "      <td>4250.0</td>\n",
              "    </tr>\n",
              "    <tr>\n",
              "      <th>67</th>\n",
              "      <td>5400.0</td>\n",
              "    </tr>\n",
              "    <tr>\n",
              "      <th>172</th>\n",
              "      <td>5100.0</td>\n",
              "    </tr>\n",
              "  </tbody>\n",
              "</table>\n",
              "<p>5 rows × 1 columns</p>\n",
              "</div>[5 rows x 1 columns in total]"
            ]
          },
          "metadata": {},
          "execution_count": 12
        }
      ],
      "source": [
        "y_test.head(5)"
      ]
    },
    {
      "cell_type": "markdown",
      "metadata": {
        "id": "Dkf52IdvmSaj"
      },
      "source": [
        "## Estimators\n",
        "\n",
        "Following scikit-learn, all learning components are \"estimators\"; objects that can learn from training data and then apply themselves to new data. Estimators share the following patterns:\n",
        "\n",
        "- a constructor that takes a list of parameters\n",
        "- a standard string representation that shows the class name and all non-default parameters, e.g. `LinearRegression(fit_intercept=False)`\n",
        "- a `.fit(..)` method to fit the estimator to training data\n",
        "\n",
        "There estimators can be further broken down into two main subtypes:\n",
        " 1. Transformers\n",
        " 2. Predictors\n",
        "\n",
        "Let's walk through each of these with our example model."
      ]
    },
    {
      "cell_type": "markdown",
      "metadata": {
        "id": "55oNSWQ2Q5te"
      },
      "source": [
        "### Transformers\n",
        "\n",
        "Transformers are estimators that are used to prepare data for consumption by other estimators ('preprocessing'). In addition to `.fit(...)`, the transformer implements a `.transform(...)` method, which will apply a transformation based on what was computed during `.fit(..)`. With this pattern dynamic preprocessing steps can be applied to both training and test/production data consistently.\n",
        "\n",
        "An example of a transformer is `bigframes.ml.preprocessing.StandardScaler`, which rescales a dataset to have a mean of zero and a standard deviation of one:"
      ]
    },
    {
      "cell_type": "code",
      "execution_count": 16,
      "metadata": {
        "id": "yhATDMR-mkdF",
        "colab": {
          "base_uri": "https://localhost:8080/",
          "height": 69
        },
        "executionInfo": {
          "status": "ok",
          "timestamp": 1732547938162,
          "user_tz": -60,
          "elapsed": 11757,
          "user": {
            "displayName": "",
            "userId": ""
          }
        },
        "outputId": "cc53d417-4328-4efa-94d2-6d38b1ed3b41"
      },
      "outputs": [
        {
          "output_type": "display_data",
          "data": {
            "text/plain": [
              "<IPython.core.display.HTML object>"
            ],
            "text/html": [
              "Query job cf265300-3bf3-4831-bb62-db2bc69ee4bb is DONE. 10.7 kB processed. <a target=\"_blank\" href=\"https://console.cloud.google.com/bigquery?project=jrdetorre-bq-demo&j=bq:US:cf265300-3bf3-4831-bb62-db2bc69ee4bb&page=queryresults\">Open Job</a>"
            ]
          },
          "metadata": {}
        },
        {
          "output_type": "display_data",
          "data": {
            "text/plain": [
              "<IPython.core.display.HTML object>"
            ],
            "text/html": [
              "Query job 6d7bd686-2e58-4c4e-ba3e-93489f41422b is DONE. 0 Bytes processed. <a target=\"_blank\" href=\"https://console.cloud.google.com/bigquery?project=jrdetorre-bq-demo&j=bq:US:6d7bd686-2e58-4c4e-ba3e-93489f41422b&page=queryresults\">Open Job</a>"
            ]
          },
          "metadata": {}
        },
        {
          "output_type": "execute_result",
          "data": {
            "text/plain": [
              "StandardScaler()"
            ]
          },
          "metadata": {},
          "execution_count": 16
        }
      ],
      "source": [
        "from bigframes.ml.preprocessing import StandardScaler\n",
        "\n",
        "# StandardScaler will only work on numeric columns\n",
        "numeric_columns = [\"culmen_length_mm\", \"culmen_depth_mm\", \"flipper_length_mm\"]\n",
        "\n",
        "scaler = StandardScaler()\n",
        "scaler.fit(X_train[numeric_columns])\n",
        "\n",
        "# Now, standardscaler should transform the numbers to have mean of zero\n",
        "# and standard deviation of one:\n",
        "scaler.transform(X_train[numeric_columns])"
      ]
    },
    {
      "cell_type": "markdown",
      "metadata": {
        "id": "vhywHzH-ml-W"
      },
      "source": [
        "We can then repeat this transformation on the test data:"
      ]
    },
    {
      "cell_type": "code",
      "execution_count": 15,
      "metadata": {
        "id": "TfwSLOTXmspI",
        "colab": {
          "base_uri": "https://localhost:8080/",
          "height": 963
        },
        "executionInfo": {
          "status": "ok",
          "timestamp": 1732547912017,
          "user_tz": -60,
          "elapsed": 12645,
          "user": {
            "displayName": "",
            "userId": ""
          }
        },
        "outputId": "d2f42096-af4e-4df1-c3da-c5bb29c408a6"
      },
      "outputs": [
        {
          "output_type": "display_data",
          "data": {
            "text/plain": [
              "<IPython.core.display.HTML object>"
            ],
            "text/html": [
              "Query job 72e21a68-2de7-4fd4-91f3-5def2cfb991d is DONE. 28.9 kB processed. <a target=\"_blank\" href=\"https://console.cloud.google.com/bigquery?project=jrdetorre-bq-demo&j=bq:US:72e21a68-2de7-4fd4-91f3-5def2cfb991d&page=queryresults\">Open Job</a>"
            ]
          },
          "metadata": {}
        },
        {
          "output_type": "display_data",
          "data": {
            "text/plain": [
              "<IPython.core.display.HTML object>"
            ],
            "text/html": [
              "Query job cf3bf510-1c9e-4e24-826e-1a2f980abf13 is DONE. 2.1 kB processed. <a target=\"_blank\" href=\"https://console.cloud.google.com/bigquery?project=jrdetorre-bq-demo&j=bq:US:cf3bf510-1c9e-4e24-826e-1a2f980abf13&page=queryresults\">Open Job</a>"
            ]
          },
          "metadata": {}
        },
        {
          "output_type": "display_data",
          "data": {
            "text/plain": [
              "<IPython.core.display.HTML object>"
            ],
            "text/html": [
              "Query job 8e5c97ff-6788-4d45-8948-0c7747194012 is DONE. 2.7 kB processed. <a target=\"_blank\" href=\"https://console.cloud.google.com/bigquery?project=jrdetorre-bq-demo&j=bq:US:8e5c97ff-6788-4d45-8948-0c7747194012&page=queryresults\">Open Job</a>"
            ]
          },
          "metadata": {}
        },
        {
          "output_type": "execute_result",
          "data": {
            "text/plain": [
              "            standard_scaled_culmen_length_mm  standard_scaled_culmen_depth_mm  \\\n",
              "penguin_id                                                                      \n",
              "2                                  -0.499551                         0.668843   \n",
              "8                                    0.79789                        -1.547704   \n",
              "14                                  0.505509                        -0.288302   \n",
              "16                                  0.925806                        -0.993567   \n",
              "20                                 -0.243718                        -1.497328   \n",
              "22                                 -1.248778                         0.316211   \n",
              "41                                 -0.718837                        -0.086798   \n",
              "45                                  1.437473                         1.777116   \n",
              "47                                  -1.21223                         0.668843   \n",
              "49                                  -0.59092                         0.870347   \n",
              "57                                 -1.011218                         0.013954   \n",
              "62                                   0.94408                        -0.741687   \n",
              "66                                 -0.627468                        -0.086798   \n",
              "67                                  0.633425                        -1.346199   \n",
              "69                                  0.907533                        -1.346199   \n",
              "72                                 -1.394968                         0.416963   \n",
              "75                                 -1.157409                         1.424484   \n",
              "77                                  0.998902                        -0.590559   \n",
              "78                                  1.035449                          0.06433   \n",
              "91                                  -0.82848                         0.265834   \n",
              "92                                 -0.846754                         0.316211   \n",
              "96                                 -0.353361                         0.668843   \n",
              "100                                -0.956397                         0.819971   \n",
              "102                                -0.170623                         0.668843   \n",
              "114                                -1.267052                         0.467339   \n",
              "\n",
              "            standard_scaled_flipper_length_mm  \n",
              "penguin_id                                     \n",
              "2                                    0.054287  \n",
              "8                                    1.340038  \n",
              "14                                  -0.660019  \n",
              "16                                   1.411469  \n",
              "20                                   0.554302  \n",
              "22                                  -0.731449  \n",
              "41                                  -1.802909  \n",
              "45                                   0.625732  \n",
              "47                                  -0.160005  \n",
              "49                                  -1.231464  \n",
              "57                                  -0.160005  \n",
              "62                                   1.125746  \n",
              "66                                   -0.80288  \n",
              "67                                   0.982885  \n",
              "69                                   0.768593  \n",
              "72                                  -1.374325  \n",
              "75                                   -0.80288  \n",
              "77                                   1.697191  \n",
              "78                                  -0.231435  \n",
              "91                                  -1.088603  \n",
              "92                                  -0.945741  \n",
              "96                                  -1.517186  \n",
              "100                                  -0.80288  \n",
              "102                                 -0.660019  \n",
              "114                                 -1.660047  \n",
              "...\n",
              "\n",
              "[67 rows x 3 columns]"
            ],
            "text/html": [
              "<div>\n",
              "<style scoped>\n",
              "    .dataframe tbody tr th:only-of-type {\n",
              "        vertical-align: middle;\n",
              "    }\n",
              "\n",
              "    .dataframe tbody tr th {\n",
              "        vertical-align: top;\n",
              "    }\n",
              "\n",
              "    .dataframe thead th {\n",
              "        text-align: right;\n",
              "    }\n",
              "</style>\n",
              "<table border=\"1\" class=\"dataframe\">\n",
              "  <thead>\n",
              "    <tr style=\"text-align: right;\">\n",
              "      <th></th>\n",
              "      <th>standard_scaled_culmen_length_mm</th>\n",
              "      <th>standard_scaled_culmen_depth_mm</th>\n",
              "      <th>standard_scaled_flipper_length_mm</th>\n",
              "    </tr>\n",
              "    <tr>\n",
              "      <th>penguin_id</th>\n",
              "      <th></th>\n",
              "      <th></th>\n",
              "      <th></th>\n",
              "    </tr>\n",
              "  </thead>\n",
              "  <tbody>\n",
              "    <tr>\n",
              "      <th>2</th>\n",
              "      <td>-0.499551</td>\n",
              "      <td>0.668843</td>\n",
              "      <td>0.054287</td>\n",
              "    </tr>\n",
              "    <tr>\n",
              "      <th>8</th>\n",
              "      <td>0.79789</td>\n",
              "      <td>-1.547704</td>\n",
              "      <td>1.340038</td>\n",
              "    </tr>\n",
              "    <tr>\n",
              "      <th>14</th>\n",
              "      <td>0.505509</td>\n",
              "      <td>-0.288302</td>\n",
              "      <td>-0.660019</td>\n",
              "    </tr>\n",
              "    <tr>\n",
              "      <th>16</th>\n",
              "      <td>0.925806</td>\n",
              "      <td>-0.993567</td>\n",
              "      <td>1.411469</td>\n",
              "    </tr>\n",
              "    <tr>\n",
              "      <th>20</th>\n",
              "      <td>-0.243718</td>\n",
              "      <td>-1.497328</td>\n",
              "      <td>0.554302</td>\n",
              "    </tr>\n",
              "    <tr>\n",
              "      <th>22</th>\n",
              "      <td>-1.248778</td>\n",
              "      <td>0.316211</td>\n",
              "      <td>-0.731449</td>\n",
              "    </tr>\n",
              "    <tr>\n",
              "      <th>41</th>\n",
              "      <td>-0.718837</td>\n",
              "      <td>-0.086798</td>\n",
              "      <td>-1.802909</td>\n",
              "    </tr>\n",
              "    <tr>\n",
              "      <th>45</th>\n",
              "      <td>1.437473</td>\n",
              "      <td>1.777116</td>\n",
              "      <td>0.625732</td>\n",
              "    </tr>\n",
              "    <tr>\n",
              "      <th>47</th>\n",
              "      <td>-1.21223</td>\n",
              "      <td>0.668843</td>\n",
              "      <td>-0.160005</td>\n",
              "    </tr>\n",
              "    <tr>\n",
              "      <th>49</th>\n",
              "      <td>-0.59092</td>\n",
              "      <td>0.870347</td>\n",
              "      <td>-1.231464</td>\n",
              "    </tr>\n",
              "    <tr>\n",
              "      <th>57</th>\n",
              "      <td>-1.011218</td>\n",
              "      <td>0.013954</td>\n",
              "      <td>-0.160005</td>\n",
              "    </tr>\n",
              "    <tr>\n",
              "      <th>62</th>\n",
              "      <td>0.94408</td>\n",
              "      <td>-0.741687</td>\n",
              "      <td>1.125746</td>\n",
              "    </tr>\n",
              "    <tr>\n",
              "      <th>66</th>\n",
              "      <td>-0.627468</td>\n",
              "      <td>-0.086798</td>\n",
              "      <td>-0.80288</td>\n",
              "    </tr>\n",
              "    <tr>\n",
              "      <th>67</th>\n",
              "      <td>0.633425</td>\n",
              "      <td>-1.346199</td>\n",
              "      <td>0.982885</td>\n",
              "    </tr>\n",
              "    <tr>\n",
              "      <th>69</th>\n",
              "      <td>0.907533</td>\n",
              "      <td>-1.346199</td>\n",
              "      <td>0.768593</td>\n",
              "    </tr>\n",
              "    <tr>\n",
              "      <th>72</th>\n",
              "      <td>-1.394968</td>\n",
              "      <td>0.416963</td>\n",
              "      <td>-1.374325</td>\n",
              "    </tr>\n",
              "    <tr>\n",
              "      <th>75</th>\n",
              "      <td>-1.157409</td>\n",
              "      <td>1.424484</td>\n",
              "      <td>-0.80288</td>\n",
              "    </tr>\n",
              "    <tr>\n",
              "      <th>77</th>\n",
              "      <td>0.998902</td>\n",
              "      <td>-0.590559</td>\n",
              "      <td>1.697191</td>\n",
              "    </tr>\n",
              "    <tr>\n",
              "      <th>78</th>\n",
              "      <td>1.035449</td>\n",
              "      <td>0.06433</td>\n",
              "      <td>-0.231435</td>\n",
              "    </tr>\n",
              "    <tr>\n",
              "      <th>91</th>\n",
              "      <td>-0.82848</td>\n",
              "      <td>0.265834</td>\n",
              "      <td>-1.088603</td>\n",
              "    </tr>\n",
              "    <tr>\n",
              "      <th>92</th>\n",
              "      <td>-0.846754</td>\n",
              "      <td>0.316211</td>\n",
              "      <td>-0.945741</td>\n",
              "    </tr>\n",
              "    <tr>\n",
              "      <th>96</th>\n",
              "      <td>-0.353361</td>\n",
              "      <td>0.668843</td>\n",
              "      <td>-1.517186</td>\n",
              "    </tr>\n",
              "    <tr>\n",
              "      <th>100</th>\n",
              "      <td>-0.956397</td>\n",
              "      <td>0.819971</td>\n",
              "      <td>-0.80288</td>\n",
              "    </tr>\n",
              "    <tr>\n",
              "      <th>102</th>\n",
              "      <td>-0.170623</td>\n",
              "      <td>0.668843</td>\n",
              "      <td>-0.660019</td>\n",
              "    </tr>\n",
              "    <tr>\n",
              "      <th>114</th>\n",
              "      <td>-1.267052</td>\n",
              "      <td>0.467339</td>\n",
              "      <td>-1.660047</td>\n",
              "    </tr>\n",
              "  </tbody>\n",
              "</table>\n",
              "<p>25 rows × 3 columns</p>\n",
              "</div>[67 rows x 3 columns in total]"
            ]
          },
          "metadata": {},
          "execution_count": 15
        }
      ],
      "source": [
        "scaler.transform(X_test[numeric_columns])"
      ]
    },
    {
      "cell_type": "markdown",
      "metadata": {
        "id": "9enAdjzPmwmv"
      },
      "source": [
        "#### Composing transformers\n",
        "\n",
        "To process data where different columns need different preprocessors, `bigframes.composition.ColumnTransformer` can be employed.\n",
        "\n",
        "Let's create an aggregate transform that applies `StandardScalar` to the numeric columns and `OneHotEncoder` to the string columns."
      ]
    },
    {
      "cell_type": "code",
      "execution_count": 17,
      "metadata": {
        "id": "I8Wwx3emmz2J",
        "colab": {
          "base_uri": "https://localhost:8080/",
          "height": 1000
        },
        "executionInfo": {
          "status": "ok",
          "timestamp": 1732548172512,
          "user_tz": -60,
          "elapsed": 39697,
          "user": {
            "displayName": "",
            "userId": ""
          }
        },
        "outputId": "285d7219-0d79-4669-e83b-06178aa5a092"
      },
      "outputs": [
        {
          "output_type": "display_data",
          "data": {
            "text/plain": [
              "<IPython.core.display.HTML object>"
            ],
            "text/html": [
              "Query job 2b9b139d-14ff-448b-a8cd-ef0018107ba9 is DONE. 28.9 kB processed. <a target=\"_blank\" href=\"https://console.cloud.google.com/bigquery?project=jrdetorre-bq-demo&j=bq:US:2b9b139d-14ff-448b-a8cd-ef0018107ba9&page=queryresults\">Open Job</a>"
            ]
          },
          "metadata": {}
        },
        {
          "output_type": "display_data",
          "data": {
            "text/plain": [
              "<IPython.core.display.HTML object>"
            ],
            "text/html": [
              "Query job 8c895cb6-e858-4aac-895c-b05cdd7f8203 is DONE. 0 Bytes processed. <a target=\"_blank\" href=\"https://console.cloud.google.com/bigquery?project=jrdetorre-bq-demo&j=bq:US:8c895cb6-e858-4aac-895c-b05cdd7f8203&page=queryresults\">Open Job</a>"
            ]
          },
          "metadata": {}
        },
        {
          "output_type": "display_data",
          "data": {
            "text/plain": [
              "<IPython.core.display.HTML object>"
            ],
            "text/html": [
              "Query job c9500082-7dfd-41d6-b799-45c5405a75e8 is DONE. 22.9 kB processed. <a target=\"_blank\" href=\"https://console.cloud.google.com/bigquery?project=jrdetorre-bq-demo&j=bq:US:c9500082-7dfd-41d6-b799-45c5405a75e8&page=queryresults\">Open Job</a>"
            ]
          },
          "metadata": {}
        },
        {
          "output_type": "display_data",
          "data": {
            "text/plain": [
              "<IPython.core.display.HTML object>"
            ],
            "text/html": [
              "Query job 90deb574-754f-4a0d-8f4f-05a5dae9d430 is DONE. 29.2 kB processed. <a target=\"_blank\" href=\"https://console.cloud.google.com/bigquery?project=jrdetorre-bq-demo&j=bq:US:90deb574-754f-4a0d-8f4f-05a5dae9d430&page=queryresults\">Open Job</a>"
            ]
          },
          "metadata": {}
        },
        {
          "output_type": "display_data",
          "data": {
            "text/plain": [
              "<IPython.core.display.HTML object>"
            ],
            "text/html": [
              "Query job a8416f6b-52d7-4311-95a1-6fd21113bf00 is DONE. 21.4 kB processed. <a target=\"_blank\" href=\"https://console.cloud.google.com/bigquery?project=jrdetorre-bq-demo&j=bq:US:a8416f6b-52d7-4311-95a1-6fd21113bf00&page=queryresults\">Open Job</a>"
            ]
          },
          "metadata": {}
        },
        {
          "output_type": "display_data",
          "data": {
            "text/plain": [
              "<IPython.core.display.HTML object>"
            ],
            "text/html": [
              "Query job 68a4be92-4148-4d74-8cfc-bfd38445736d is DONE. 23.5 kB processed. <a target=\"_blank\" href=\"https://console.cloud.google.com/bigquery?project=jrdetorre-bq-demo&j=bq:US:68a4be92-4148-4d74-8cfc-bfd38445736d&page=queryresults\">Open Job</a>"
            ]
          },
          "metadata": {}
        },
        {
          "output_type": "execute_result",
          "data": {
            "text/plain": [
              "            standard_scaled_culmen_length_mm  standard_scaled_culmen_depth_mm  \\\n",
              "penguin_id                                                                      \n",
              "0                                   1.163366                        -0.640935   \n",
              "1                                    0.17658                        -1.346199   \n",
              "3                                  -1.011218                        -0.086798   \n",
              "4                                   0.432413                        -1.195071   \n",
              "5                                  -1.669076                         0.366587   \n",
              "7                                  -0.389908                         -1.84996   \n",
              "9                                   0.304497                         0.870347   \n",
              "10                                  0.889259                          1.22298   \n",
              "11                                 -1.504611                        -0.288302   \n",
              "12                                  1.273009                         -0.43943   \n",
              "13                                 -0.280266                        -1.749208   \n",
              "15                                 -0.554373                         0.165082   \n",
              "17                                 -1.102587                        -0.338678   \n",
              "18                                  1.309557                        -1.497328   \n",
              "19                                 -0.097527                        -1.648456   \n",
              "21                                  1.108545                         0.769595   \n",
              "24                                  -0.82848                         1.777116   \n",
              "25                                 -0.883302                          1.72674   \n",
              "26                                 -0.664016                         0.366587   \n",
              "27                                  0.286223                        -0.086798   \n",
              "28                                 -1.102587                         0.719219   \n",
              "29                                  2.150152                        -0.086798   \n",
              "30                                  0.450687                         0.316211   \n",
              "31                                  0.249675                        -1.749208   \n",
              "32                                    1.4192                         1.172603   \n",
              "\n",
              "            standard_scaled_flipper_length_mm         onehotencoded_species  \\\n",
              "penguin_id                                                                    \n",
              "0                                    1.697191  [{'index': 3, 'value': 1.0}]   \n",
              "1                                    0.982885  [{'index': 3, 'value': 1.0}]   \n",
              "3                                   -0.945741  [{'index': 1, 'value': 1.0}]   \n",
              "4                                    1.125746  [{'index': 3, 'value': 1.0}]   \n",
              "5                                   -0.660019  [{'index': 1, 'value': 1.0}]   \n",
              "7                                    0.625732  [{'index': 3, 'value': 1.0}]   \n",
              "9                                   -0.302866  [{'index': 1, 'value': 1.0}]   \n",
              "10                                   0.768593  [{'index': 2, 'value': 1.0}]   \n",
              "11                                   -0.80288  [{'index': 1, 'value': 1.0}]   \n",
              "12                                   1.340038  [{'index': 3, 'value': 1.0}]   \n",
              "13                                   0.840024  [{'index': 3, 'value': 1.0}]   \n",
              "15                                   -0.80288  [{'index': 1, 'value': 1.0}]   \n",
              "17                                  -0.231435  [{'index': 1, 'value': 1.0}]   \n",
              "18                                   1.197177  [{'index': 3, 'value': 1.0}]   \n",
              "19                                   1.125746  [{'index': 3, 'value': 1.0}]   \n",
              "21                                  -0.231435  [{'index': 2, 'value': 1.0}]   \n",
              "24                                  -0.731449  [{'index': 1, 'value': 1.0}]   \n",
              "25                                   -0.80288  [{'index': 1, 'value': 1.0}]   \n",
              "26                                  -1.017172  [{'index': 1, 'value': 1.0}]   \n",
              "27                                  -0.445727  [{'index': 2, 'value': 1.0}]   \n",
              "28                                   -0.80288  [{'index': 1, 'value': 1.0}]   \n",
              "29                                   1.911483  [{'index': 3, 'value': 1.0}]   \n",
              "30                                  -0.588588  [{'index': 2, 'value': 1.0}]   \n",
              "31                                   0.911455  [{'index': 3, 'value': 1.0}]   \n",
              "32                                    0.34001  [{'index': 2, 'value': 1.0}]   \n",
              "\n",
              "                       onehotencoded_sex          onehotencoded_island  \n",
              "penguin_id                                                              \n",
              "0           [{'index': 3, 'value': 1.0}]  [{'index': 1, 'value': 1.0}]  \n",
              "1           [{'index': 2, 'value': 1.0}]  [{'index': 1, 'value': 1.0}]  \n",
              "3           [{'index': 2, 'value': 1.0}]  [{'index': 3, 'value': 1.0}]  \n",
              "4           [{'index': 2, 'value': 1.0}]  [{'index': 1, 'value': 1.0}]  \n",
              "5           [{'index': 2, 'value': 1.0}]  [{'index': 1, 'value': 1.0}]  \n",
              "7           [{'index': 2, 'value': 1.0}]  [{'index': 1, 'value': 1.0}]  \n",
              "9           [{'index': 3, 'value': 1.0}]  [{'index': 3, 'value': 1.0}]  \n",
              "10          [{'index': 3, 'value': 1.0}]  [{'index': 2, 'value': 1.0}]  \n",
              "11          [{'index': 2, 'value': 1.0}]  [{'index': 3, 'value': 1.0}]  \n",
              "12          [{'index': 3, 'value': 1.0}]  [{'index': 1, 'value': 1.0}]  \n",
              "13          [{'index': 2, 'value': 1.0}]  [{'index': 1, 'value': 1.0}]  \n",
              "15          [{'index': 3, 'value': 1.0}]  [{'index': 2, 'value': 1.0}]  \n",
              "17          [{'index': 2, 'value': 1.0}]  [{'index': 1, 'value': 1.0}]  \n",
              "18          [{'index': 3, 'value': 1.0}]  [{'index': 1, 'value': 1.0}]  \n",
              "19          [{'index': 2, 'value': 1.0}]  [{'index': 1, 'value': 1.0}]  \n",
              "21          [{'index': 2, 'value': 1.0}]  [{'index': 2, 'value': 1.0}]  \n",
              "24          [{'index': 2, 'value': 1.0}]  [{'index': 1, 'value': 1.0}]  \n",
              "25          [{'index': 3, 'value': 1.0}]  [{'index': 3, 'value': 1.0}]  \n",
              "26          [{'index': 2, 'value': 1.0}]  [{'index': 1, 'value': 1.0}]  \n",
              "27          [{'index': 2, 'value': 1.0}]  [{'index': 2, 'value': 1.0}]  \n",
              "28          [{'index': 2, 'value': 1.0}]  [{'index': 2, 'value': 1.0}]  \n",
              "29          [{'index': 3, 'value': 1.0}]  [{'index': 1, 'value': 1.0}]  \n",
              "30          [{'index': 2, 'value': 1.0}]  [{'index': 2, 'value': 1.0}]  \n",
              "31          [{'index': 2, 'value': 1.0}]  [{'index': 1, 'value': 1.0}]  \n",
              "32          [{'index': 3, 'value': 1.0}]  [{'index': 2, 'value': 1.0}]  \n",
              "...\n",
              "\n",
              "[267 rows x 6 columns]"
            ],
            "text/html": [
              "<div>\n",
              "<style scoped>\n",
              "    .dataframe tbody tr th:only-of-type {\n",
              "        vertical-align: middle;\n",
              "    }\n",
              "\n",
              "    .dataframe tbody tr th {\n",
              "        vertical-align: top;\n",
              "    }\n",
              "\n",
              "    .dataframe thead th {\n",
              "        text-align: right;\n",
              "    }\n",
              "</style>\n",
              "<table border=\"1\" class=\"dataframe\">\n",
              "  <thead>\n",
              "    <tr style=\"text-align: right;\">\n",
              "      <th></th>\n",
              "      <th>standard_scaled_culmen_length_mm</th>\n",
              "      <th>standard_scaled_culmen_depth_mm</th>\n",
              "      <th>standard_scaled_flipper_length_mm</th>\n",
              "      <th>onehotencoded_species</th>\n",
              "      <th>onehotencoded_sex</th>\n",
              "      <th>onehotencoded_island</th>\n",
              "    </tr>\n",
              "    <tr>\n",
              "      <th>penguin_id</th>\n",
              "      <th></th>\n",
              "      <th></th>\n",
              "      <th></th>\n",
              "      <th></th>\n",
              "      <th></th>\n",
              "      <th></th>\n",
              "    </tr>\n",
              "  </thead>\n",
              "  <tbody>\n",
              "    <tr>\n",
              "      <th>0</th>\n",
              "      <td>1.163366</td>\n",
              "      <td>-0.640935</td>\n",
              "      <td>1.697191</td>\n",
              "      <td>[{'index': 3, 'value': 1.0}]</td>\n",
              "      <td>[{'index': 3, 'value': 1.0}]</td>\n",
              "      <td>[{'index': 1, 'value': 1.0}]</td>\n",
              "    </tr>\n",
              "    <tr>\n",
              "      <th>1</th>\n",
              "      <td>0.17658</td>\n",
              "      <td>-1.346199</td>\n",
              "      <td>0.982885</td>\n",
              "      <td>[{'index': 3, 'value': 1.0}]</td>\n",
              "      <td>[{'index': 2, 'value': 1.0}]</td>\n",
              "      <td>[{'index': 1, 'value': 1.0}]</td>\n",
              "    </tr>\n",
              "    <tr>\n",
              "      <th>3</th>\n",
              "      <td>-1.011218</td>\n",
              "      <td>-0.086798</td>\n",
              "      <td>-0.945741</td>\n",
              "      <td>[{'index': 1, 'value': 1.0}]</td>\n",
              "      <td>[{'index': 2, 'value': 1.0}]</td>\n",
              "      <td>[{'index': 3, 'value': 1.0}]</td>\n",
              "    </tr>\n",
              "    <tr>\n",
              "      <th>4</th>\n",
              "      <td>0.432413</td>\n",
              "      <td>-1.195071</td>\n",
              "      <td>1.125746</td>\n",
              "      <td>[{'index': 3, 'value': 1.0}]</td>\n",
              "      <td>[{'index': 2, 'value': 1.0}]</td>\n",
              "      <td>[{'index': 1, 'value': 1.0}]</td>\n",
              "    </tr>\n",
              "    <tr>\n",
              "      <th>5</th>\n",
              "      <td>-1.669076</td>\n",
              "      <td>0.366587</td>\n",
              "      <td>-0.660019</td>\n",
              "      <td>[{'index': 1, 'value': 1.0}]</td>\n",
              "      <td>[{'index': 2, 'value': 1.0}]</td>\n",
              "      <td>[{'index': 1, 'value': 1.0}]</td>\n",
              "    </tr>\n",
              "    <tr>\n",
              "      <th>7</th>\n",
              "      <td>-0.389908</td>\n",
              "      <td>-1.84996</td>\n",
              "      <td>0.625732</td>\n",
              "      <td>[{'index': 3, 'value': 1.0}]</td>\n",
              "      <td>[{'index': 2, 'value': 1.0}]</td>\n",
              "      <td>[{'index': 1, 'value': 1.0}]</td>\n",
              "    </tr>\n",
              "    <tr>\n",
              "      <th>9</th>\n",
              "      <td>0.304497</td>\n",
              "      <td>0.870347</td>\n",
              "      <td>-0.302866</td>\n",
              "      <td>[{'index': 1, 'value': 1.0}]</td>\n",
              "      <td>[{'index': 3, 'value': 1.0}]</td>\n",
              "      <td>[{'index': 3, 'value': 1.0}]</td>\n",
              "    </tr>\n",
              "    <tr>\n",
              "      <th>10</th>\n",
              "      <td>0.889259</td>\n",
              "      <td>1.22298</td>\n",
              "      <td>0.768593</td>\n",
              "      <td>[{'index': 2, 'value': 1.0}]</td>\n",
              "      <td>[{'index': 3, 'value': 1.0}]</td>\n",
              "      <td>[{'index': 2, 'value': 1.0}]</td>\n",
              "    </tr>\n",
              "    <tr>\n",
              "      <th>11</th>\n",
              "      <td>-1.504611</td>\n",
              "      <td>-0.288302</td>\n",
              "      <td>-0.80288</td>\n",
              "      <td>[{'index': 1, 'value': 1.0}]</td>\n",
              "      <td>[{'index': 2, 'value': 1.0}]</td>\n",
              "      <td>[{'index': 3, 'value': 1.0}]</td>\n",
              "    </tr>\n",
              "    <tr>\n",
              "      <th>12</th>\n",
              "      <td>1.273009</td>\n",
              "      <td>-0.43943</td>\n",
              "      <td>1.340038</td>\n",
              "      <td>[{'index': 3, 'value': 1.0}]</td>\n",
              "      <td>[{'index': 3, 'value': 1.0}]</td>\n",
              "      <td>[{'index': 1, 'value': 1.0}]</td>\n",
              "    </tr>\n",
              "    <tr>\n",
              "      <th>13</th>\n",
              "      <td>-0.280266</td>\n",
              "      <td>-1.749208</td>\n",
              "      <td>0.840024</td>\n",
              "      <td>[{'index': 3, 'value': 1.0}]</td>\n",
              "      <td>[{'index': 2, 'value': 1.0}]</td>\n",
              "      <td>[{'index': 1, 'value': 1.0}]</td>\n",
              "    </tr>\n",
              "    <tr>\n",
              "      <th>15</th>\n",
              "      <td>-0.554373</td>\n",
              "      <td>0.165082</td>\n",
              "      <td>-0.80288</td>\n",
              "      <td>[{'index': 1, 'value': 1.0}]</td>\n",
              "      <td>[{'index': 3, 'value': 1.0}]</td>\n",
              "      <td>[{'index': 2, 'value': 1.0}]</td>\n",
              "    </tr>\n",
              "    <tr>\n",
              "      <th>17</th>\n",
              "      <td>-1.102587</td>\n",
              "      <td>-0.338678</td>\n",
              "      <td>-0.231435</td>\n",
              "      <td>[{'index': 1, 'value': 1.0}]</td>\n",
              "      <td>[{'index': 2, 'value': 1.0}]</td>\n",
              "      <td>[{'index': 1, 'value': 1.0}]</td>\n",
              "    </tr>\n",
              "    <tr>\n",
              "      <th>18</th>\n",
              "      <td>1.309557</td>\n",
              "      <td>-1.497328</td>\n",
              "      <td>1.197177</td>\n",
              "      <td>[{'index': 3, 'value': 1.0}]</td>\n",
              "      <td>[{'index': 3, 'value': 1.0}]</td>\n",
              "      <td>[{'index': 1, 'value': 1.0}]</td>\n",
              "    </tr>\n",
              "    <tr>\n",
              "      <th>19</th>\n",
              "      <td>-0.097527</td>\n",
              "      <td>-1.648456</td>\n",
              "      <td>1.125746</td>\n",
              "      <td>[{'index': 3, 'value': 1.0}]</td>\n",
              "      <td>[{'index': 2, 'value': 1.0}]</td>\n",
              "      <td>[{'index': 1, 'value': 1.0}]</td>\n",
              "    </tr>\n",
              "    <tr>\n",
              "      <th>21</th>\n",
              "      <td>1.108545</td>\n",
              "      <td>0.769595</td>\n",
              "      <td>-0.231435</td>\n",
              "      <td>[{'index': 2, 'value': 1.0}]</td>\n",
              "      <td>[{'index': 2, 'value': 1.0}]</td>\n",
              "      <td>[{'index': 2, 'value': 1.0}]</td>\n",
              "    </tr>\n",
              "    <tr>\n",
              "      <th>24</th>\n",
              "      <td>-0.82848</td>\n",
              "      <td>1.777116</td>\n",
              "      <td>-0.731449</td>\n",
              "      <td>[{'index': 1, 'value': 1.0}]</td>\n",
              "      <td>[{'index': 2, 'value': 1.0}]</td>\n",
              "      <td>[{'index': 1, 'value': 1.0}]</td>\n",
              "    </tr>\n",
              "    <tr>\n",
              "      <th>25</th>\n",
              "      <td>-0.883302</td>\n",
              "      <td>1.72674</td>\n",
              "      <td>-0.80288</td>\n",
              "      <td>[{'index': 1, 'value': 1.0}]</td>\n",
              "      <td>[{'index': 3, 'value': 1.0}]</td>\n",
              "      <td>[{'index': 3, 'value': 1.0}]</td>\n",
              "    </tr>\n",
              "    <tr>\n",
              "      <th>26</th>\n",
              "      <td>-0.664016</td>\n",
              "      <td>0.366587</td>\n",
              "      <td>-1.017172</td>\n",
              "      <td>[{'index': 1, 'value': 1.0}]</td>\n",
              "      <td>[{'index': 2, 'value': 1.0}]</td>\n",
              "      <td>[{'index': 1, 'value': 1.0}]</td>\n",
              "    </tr>\n",
              "    <tr>\n",
              "      <th>27</th>\n",
              "      <td>0.286223</td>\n",
              "      <td>-0.086798</td>\n",
              "      <td>-0.445727</td>\n",
              "      <td>[{'index': 2, 'value': 1.0}]</td>\n",
              "      <td>[{'index': 2, 'value': 1.0}]</td>\n",
              "      <td>[{'index': 2, 'value': 1.0}]</td>\n",
              "    </tr>\n",
              "    <tr>\n",
              "      <th>28</th>\n",
              "      <td>-1.102587</td>\n",
              "      <td>0.719219</td>\n",
              "      <td>-0.80288</td>\n",
              "      <td>[{'index': 1, 'value': 1.0}]</td>\n",
              "      <td>[{'index': 2, 'value': 1.0}]</td>\n",
              "      <td>[{'index': 2, 'value': 1.0}]</td>\n",
              "    </tr>\n",
              "    <tr>\n",
              "      <th>29</th>\n",
              "      <td>2.150152</td>\n",
              "      <td>-0.086798</td>\n",
              "      <td>1.911483</td>\n",
              "      <td>[{'index': 3, 'value': 1.0}]</td>\n",
              "      <td>[{'index': 3, 'value': 1.0}]</td>\n",
              "      <td>[{'index': 1, 'value': 1.0}]</td>\n",
              "    </tr>\n",
              "    <tr>\n",
              "      <th>30</th>\n",
              "      <td>0.450687</td>\n",
              "      <td>0.316211</td>\n",
              "      <td>-0.588588</td>\n",
              "      <td>[{'index': 2, 'value': 1.0}]</td>\n",
              "      <td>[{'index': 2, 'value': 1.0}]</td>\n",
              "      <td>[{'index': 2, 'value': 1.0}]</td>\n",
              "    </tr>\n",
              "    <tr>\n",
              "      <th>31</th>\n",
              "      <td>0.249675</td>\n",
              "      <td>-1.749208</td>\n",
              "      <td>0.911455</td>\n",
              "      <td>[{'index': 3, 'value': 1.0}]</td>\n",
              "      <td>[{'index': 2, 'value': 1.0}]</td>\n",
              "      <td>[{'index': 1, 'value': 1.0}]</td>\n",
              "    </tr>\n",
              "    <tr>\n",
              "      <th>32</th>\n",
              "      <td>1.4192</td>\n",
              "      <td>1.172603</td>\n",
              "      <td>0.34001</td>\n",
              "      <td>[{'index': 2, 'value': 1.0}]</td>\n",
              "      <td>[{'index': 3, 'value': 1.0}]</td>\n",
              "      <td>[{'index': 2, 'value': 1.0}]</td>\n",
              "    </tr>\n",
              "  </tbody>\n",
              "</table>\n",
              "<p>25 rows × 6 columns</p>\n",
              "</div>[267 rows x 6 columns in total]"
            ]
          },
          "metadata": {},
          "execution_count": 17
        }
      ],
      "source": [
        "from bigframes.ml.compose import ColumnTransformer\n",
        "from bigframes.ml.preprocessing import OneHotEncoder\n",
        "\n",
        "# Create an aggregate transform that applies StandardScaler to the numeric columns,\n",
        "# and OneHotEncoder to the string columns\n",
        "preproc = ColumnTransformer([\n",
        "    (\"scale\", StandardScaler(), [\"culmen_length_mm\", \"culmen_depth_mm\", \"flipper_length_mm\"]),\n",
        "    (\"encode\", OneHotEncoder(), [\"species\", \"sex\", \"island\"])])\n",
        "\n",
        "# Now we can fit all columns of the training data\n",
        "preproc.fit(X_train)\n",
        "\n",
        "processed_X_train = preproc.transform(X_train)\n",
        "processed_X_test = preproc.transform(X_test)\n",
        "\n",
        "# View the processed training data\n",
        "processed_X_train"
      ]
    },
    {
      "cell_type": "markdown",
      "metadata": {
        "id": "JhoO4fctm4Q5"
      },
      "source": [
        "### Predictors\n",
        "\n",
        "Predictors are estimators that learn and make predictions. In addition to `.fit(...)`, the predictor implements a `.predict(...)` method, which will use what was learned during `.fit(...)` to predict some output.\n",
        "\n",
        "Predictors can be further broken down into two categories:\n",
        "* Supervised predictors\n",
        "* Unsupervised predictors"
      ]
    },
    {
      "cell_type": "markdown",
      "metadata": {
        "id": "TqLItVyjslP8"
      },
      "source": [
        "#### Supervised predictors\n",
        "\n",
        "Supervised learning is when we train a model on input-output pairs, and then ask it to predict the output for new inputs. An example of such a predictor is `bigframes.ml.linear_models.LinearRegression`."
      ]
    },
    {
      "cell_type": "code",
      "execution_count": 18,
      "metadata": {
        "id": "ZeloMmopm8KI",
        "colab": {
          "base_uri": "https://localhost:8080/",
          "height": 998
        },
        "executionInfo": {
          "status": "ok",
          "timestamp": 1732548319064,
          "user_tz": -60,
          "elapsed": 35627,
          "user": {
            "displayName": "",
            "userId": ""
          }
        },
        "outputId": "c2e6dc64-32be-41bc-9356-d78a4c0c823f"
      },
      "outputs": [
        {
          "output_type": "display_data",
          "data": {
            "text/plain": [
              "<IPython.core.display.HTML object>"
            ],
            "text/html": [
              "Query job 6353f2b2-a35f-4df4-8ff2-80cd4195f8ba is DONE. 52.4 kB processed. <a target=\"_blank\" href=\"https://console.cloud.google.com/bigquery?project=jrdetorre-bq-demo&j=bq:US:6353f2b2-a35f-4df4-8ff2-80cd4195f8ba&page=queryresults\">Open Job</a>"
            ]
          },
          "metadata": {}
        },
        {
          "output_type": "display_data",
          "data": {
            "text/plain": [
              "<IPython.core.display.HTML object>"
            ],
            "text/html": [
              "Query job 56aa5ff3-b597-4331-b508-cd98bbd3ffcc is DONE. 23.5 kB processed. <a target=\"_blank\" href=\"https://console.cloud.google.com/bigquery?project=jrdetorre-bq-demo&j=bq:US:56aa5ff3-b597-4331-b508-cd98bbd3ffcc&page=queryresults\">Open Job</a>"
            ]
          },
          "metadata": {}
        },
        {
          "output_type": "display_data",
          "data": {
            "text/plain": [
              "<IPython.core.display.HTML object>"
            ],
            "text/html": [
              "Query job e3743230-9183-40ab-87ad-62323d338fd7 is DONE. 6.0 kB processed. <a target=\"_blank\" href=\"https://console.cloud.google.com/bigquery?project=jrdetorre-bq-demo&j=bq:US:e3743230-9183-40ab-87ad-62323d338fd7&page=queryresults\">Open Job</a>"
            ]
          },
          "metadata": {}
        },
        {
          "output_type": "display_data",
          "data": {
            "text/plain": [
              "<IPython.core.display.HTML object>"
            ],
            "text/html": [
              "Query job ad1984ac-b393-47b3-b6ba-1c071330a620 is DONE. 5.9 kB processed. <a target=\"_blank\" href=\"https://console.cloud.google.com/bigquery?project=jrdetorre-bq-demo&j=bq:US:ad1984ac-b393-47b3-b6ba-1c071330a620&page=queryresults\">Open Job</a>"
            ]
          },
          "metadata": {}
        },
        {
          "output_type": "display_data",
          "data": {
            "text/plain": [
              "<IPython.core.display.HTML object>"
            ],
            "text/html": [
              "Query job 2583fe6f-2f83-4fa9-8d3c-e4630ca6af69 is DONE. 6.4 kB processed. <a target=\"_blank\" href=\"https://console.cloud.google.com/bigquery?project=jrdetorre-bq-demo&j=bq:US:2583fe6f-2f83-4fa9-8d3c-e4630ca6af69&page=queryresults\">Open Job</a>"
            ]
          },
          "metadata": {}
        },
        {
          "output_type": "execute_result",
          "data": {
            "text/plain": [
              "            predicted_body_mass_g  standard_scaled_culmen_length_mm  \\\n",
              "penguin_id                                                            \n",
              "2                     4173.408558                         -0.499551   \n",
              "8                     5286.011999                           0.79789   \n",
              "14                    3366.800859                          0.505509   \n",
              "16                    5385.634381                          0.925806   \n",
              "20                    4644.566555                         -0.243718   \n",
              "22                    3531.908843                         -1.248778   \n",
              "41                     3260.88653                         -0.718837   \n",
              "45                    4376.494231                          1.437473   \n",
              "47                    4063.330129                          -1.21223   \n",
              "49                    3905.130661                          -0.59092   \n",
              "57                    3665.731208                         -1.011218   \n",
              "62                    5345.084893                           0.94408   \n",
              "66                    3874.816924                         -0.627468   \n",
              "67                    5200.896097                          0.633425   \n",
              "69                    4825.191397                          0.907533   \n",
              "72                    3371.103195                         -1.394968   \n",
              "75                     4033.20678                         -1.157409   \n",
              "77                     5500.11398                          0.998902   \n",
              "78                    3555.242973                          1.035449   \n",
              "91                     3495.36847                          -0.82848   \n",
              "92                    3511.361999                         -0.846754   \n",
              "96                    3474.875241                         -0.353361   \n",
              "100                   3596.235478                         -0.956397   \n",
              "102                   4046.160244                         -0.170623   \n",
              "114                   3671.184224                         -1.267052   \n",
              "\n",
              "            standard_scaled_culmen_depth_mm  \\\n",
              "penguin_id                                    \n",
              "2                                  0.668843   \n",
              "8                                 -1.547704   \n",
              "14                                -0.288302   \n",
              "16                                -0.993567   \n",
              "20                                -1.497328   \n",
              "22                                 0.316211   \n",
              "41                                -0.086798   \n",
              "45                                 1.777116   \n",
              "47                                 0.668843   \n",
              "49                                 0.870347   \n",
              "57                                 0.013954   \n",
              "62                                -0.741687   \n",
              "66                                -0.086798   \n",
              "67                                -1.346199   \n",
              "69                                -1.346199   \n",
              "72                                 0.416963   \n",
              "75                                 1.424484   \n",
              "77                                -0.590559   \n",
              "78                                  0.06433   \n",
              "91                                 0.265834   \n",
              "92                                 0.316211   \n",
              "96                                 0.668843   \n",
              "100                                0.819971   \n",
              "102                                0.668843   \n",
              "114                                0.467339   \n",
              "\n",
              "            standard_scaled_flipper_length_mm         onehotencoded_species  \\\n",
              "penguin_id                                                                    \n",
              "2                                    0.054287  [{'index': 1, 'value': 1.0}]   \n",
              "8                                    1.340038  [{'index': 3, 'value': 1.0}]   \n",
              "14                                  -0.660019  [{'index': 2, 'value': 1.0}]   \n",
              "16                                   1.411469  [{'index': 3, 'value': 1.0}]   \n",
              "20                                   0.554302  [{'index': 3, 'value': 1.0}]   \n",
              "22                                  -0.731449  [{'index': 1, 'value': 1.0}]   \n",
              "41                                  -1.802909  [{'index': 1, 'value': 1.0}]   \n",
              "45                                   0.625732  [{'index': 2, 'value': 1.0}]   \n",
              "47                                  -0.160005  [{'index': 1, 'value': 1.0}]   \n",
              "49                                  -1.231464  [{'index': 1, 'value': 1.0}]   \n",
              "57                                  -0.160005  [{'index': 1, 'value': 1.0}]   \n",
              "62                                   1.125746  [{'index': 3, 'value': 1.0}]   \n",
              "66                                   -0.80288  [{'index': 1, 'value': 1.0}]   \n",
              "67                                   0.982885  [{'index': 3, 'value': 1.0}]   \n",
              "69                                   0.768593  [{'index': 3, 'value': 1.0}]   \n",
              "72                                  -1.374325  [{'index': 1, 'value': 1.0}]   \n",
              "75                                   -0.80288  [{'index': 1, 'value': 1.0}]   \n",
              "77                                   1.697191  [{'index': 3, 'value': 1.0}]   \n",
              "78                                  -0.231435  [{'index': 2, 'value': 1.0}]   \n",
              "91                                  -1.088603  [{'index': 1, 'value': 1.0}]   \n",
              "92                                  -0.945741  [{'index': 1, 'value': 1.0}]   \n",
              "96                                  -1.517186  [{'index': 1, 'value': 1.0}]   \n",
              "100                                  -0.80288  [{'index': 1, 'value': 1.0}]   \n",
              "102                                 -0.660019  [{'index': 1, 'value': 1.0}]   \n",
              "114                                 -1.660047  [{'index': 1, 'value': 1.0}]   \n",
              "\n",
              "                       onehotencoded_sex          onehotencoded_island  \n",
              "penguin_id                                                              \n",
              "2           [{'index': 3, 'value': 1.0}]  [{'index': 3, 'value': 1.0}]  \n",
              "8           [{'index': 3, 'value': 1.0}]  [{'index': 1, 'value': 1.0}]  \n",
              "14          [{'index': 2, 'value': 1.0}]  [{'index': 2, 'value': 1.0}]  \n",
              "16          [{'index': 3, 'value': 1.0}]  [{'index': 1, 'value': 1.0}]  \n",
              "20          [{'index': 2, 'value': 1.0}]  [{'index': 1, 'value': 1.0}]  \n",
              "22          [{'index': 2, 'value': 1.0}]  [{'index': 2, 'value': 1.0}]  \n",
              "41          [{'index': 2, 'value': 1.0}]  [{'index': 3, 'value': 1.0}]  \n",
              "45          [{'index': 3, 'value': 1.0}]  [{'index': 2, 'value': 1.0}]  \n",
              "47          [{'index': 3, 'value': 1.0}]  [{'index': 2, 'value': 1.0}]  \n",
              "49          [{'index': 3, 'value': 1.0}]  [{'index': 2, 'value': 1.0}]  \n",
              "57          [{'index': 2, 'value': 1.0}]  [{'index': 1, 'value': 1.0}]  \n",
              "62          [{'index': 3, 'value': 1.0}]  [{'index': 1, 'value': 1.0}]  \n",
              "66          [{'index': 3, 'value': 1.0}]  [{'index': 2, 'value': 1.0}]  \n",
              "67          [{'index': 3, 'value': 1.0}]  [{'index': 1, 'value': 1.0}]  \n",
              "69          [{'index': 2, 'value': 1.0}]  [{'index': 1, 'value': 1.0}]  \n",
              "72          [{'index': 2, 'value': 1.0}]  [{'index': 2, 'value': 1.0}]  \n",
              "75          [{'index': 3, 'value': 1.0}]  [{'index': 1, 'value': 1.0}]  \n",
              "77          [{'index': 3, 'value': 1.0}]  [{'index': 1, 'value': 1.0}]  \n",
              "78          [{'index': 2, 'value': 1.0}]  [{'index': 2, 'value': 1.0}]  \n",
              "91          [{'index': 2, 'value': 1.0}]  [{'index': 1, 'value': 1.0}]  \n",
              "92          [{'index': 2, 'value': 1.0}]  [{'index': 2, 'value': 1.0}]  \n",
              "96          [{'index': 2, 'value': 1.0}]  [{'index': 2, 'value': 1.0}]  \n",
              "100         [{'index': 2, 'value': 1.0}]  [{'index': 2, 'value': 1.0}]  \n",
              "102         [{'index': 3, 'value': 1.0}]  [{'index': 2, 'value': 1.0}]  \n",
              "114         [{'index': 3, 'value': 1.0}]  [{'index': 2, 'value': 1.0}]  \n",
              "\n",
              "[67 rows x 7 columns]"
            ],
            "text/html": [
              "<div>\n",
              "<style scoped>\n",
              "    .dataframe tbody tr th:only-of-type {\n",
              "        vertical-align: middle;\n",
              "    }\n",
              "\n",
              "    .dataframe tbody tr th {\n",
              "        vertical-align: top;\n",
              "    }\n",
              "\n",
              "    .dataframe thead th {\n",
              "        text-align: right;\n",
              "    }\n",
              "</style>\n",
              "<table border=\"1\" class=\"dataframe\">\n",
              "  <thead>\n",
              "    <tr style=\"text-align: right;\">\n",
              "      <th></th>\n",
              "      <th>predicted_body_mass_g</th>\n",
              "      <th>standard_scaled_culmen_length_mm</th>\n",
              "      <th>standard_scaled_culmen_depth_mm</th>\n",
              "      <th>standard_scaled_flipper_length_mm</th>\n",
              "      <th>onehotencoded_species</th>\n",
              "      <th>onehotencoded_sex</th>\n",
              "      <th>onehotencoded_island</th>\n",
              "    </tr>\n",
              "    <tr>\n",
              "      <th>penguin_id</th>\n",
              "      <th></th>\n",
              "      <th></th>\n",
              "      <th></th>\n",
              "      <th></th>\n",
              "      <th></th>\n",
              "      <th></th>\n",
              "      <th></th>\n",
              "    </tr>\n",
              "  </thead>\n",
              "  <tbody>\n",
              "    <tr>\n",
              "      <th>2</th>\n",
              "      <td>4173.408558</td>\n",
              "      <td>-0.499551</td>\n",
              "      <td>0.668843</td>\n",
              "      <td>0.054287</td>\n",
              "      <td>[{'index': 1, 'value': 1.0}]</td>\n",
              "      <td>[{'index': 3, 'value': 1.0}]</td>\n",
              "      <td>[{'index': 3, 'value': 1.0}]</td>\n",
              "    </tr>\n",
              "    <tr>\n",
              "      <th>8</th>\n",
              "      <td>5286.011999</td>\n",
              "      <td>0.79789</td>\n",
              "      <td>-1.547704</td>\n",
              "      <td>1.340038</td>\n",
              "      <td>[{'index': 3, 'value': 1.0}]</td>\n",
              "      <td>[{'index': 3, 'value': 1.0}]</td>\n",
              "      <td>[{'index': 1, 'value': 1.0}]</td>\n",
              "    </tr>\n",
              "    <tr>\n",
              "      <th>14</th>\n",
              "      <td>3366.800859</td>\n",
              "      <td>0.505509</td>\n",
              "      <td>-0.288302</td>\n",
              "      <td>-0.660019</td>\n",
              "      <td>[{'index': 2, 'value': 1.0}]</td>\n",
              "      <td>[{'index': 2, 'value': 1.0}]</td>\n",
              "      <td>[{'index': 2, 'value': 1.0}]</td>\n",
              "    </tr>\n",
              "    <tr>\n",
              "      <th>16</th>\n",
              "      <td>5385.634381</td>\n",
              "      <td>0.925806</td>\n",
              "      <td>-0.993567</td>\n",
              "      <td>1.411469</td>\n",
              "      <td>[{'index': 3, 'value': 1.0}]</td>\n",
              "      <td>[{'index': 3, 'value': 1.0}]</td>\n",
              "      <td>[{'index': 1, 'value': 1.0}]</td>\n",
              "    </tr>\n",
              "    <tr>\n",
              "      <th>20</th>\n",
              "      <td>4644.566555</td>\n",
              "      <td>-0.243718</td>\n",
              "      <td>-1.497328</td>\n",
              "      <td>0.554302</td>\n",
              "      <td>[{'index': 3, 'value': 1.0}]</td>\n",
              "      <td>[{'index': 2, 'value': 1.0}]</td>\n",
              "      <td>[{'index': 1, 'value': 1.0}]</td>\n",
              "    </tr>\n",
              "    <tr>\n",
              "      <th>22</th>\n",
              "      <td>3531.908843</td>\n",
              "      <td>-1.248778</td>\n",
              "      <td>0.316211</td>\n",
              "      <td>-0.731449</td>\n",
              "      <td>[{'index': 1, 'value': 1.0}]</td>\n",
              "      <td>[{'index': 2, 'value': 1.0}]</td>\n",
              "      <td>[{'index': 2, 'value': 1.0}]</td>\n",
              "    </tr>\n",
              "    <tr>\n",
              "      <th>41</th>\n",
              "      <td>3260.88653</td>\n",
              "      <td>-0.718837</td>\n",
              "      <td>-0.086798</td>\n",
              "      <td>-1.802909</td>\n",
              "      <td>[{'index': 1, 'value': 1.0}]</td>\n",
              "      <td>[{'index': 2, 'value': 1.0}]</td>\n",
              "      <td>[{'index': 3, 'value': 1.0}]</td>\n",
              "    </tr>\n",
              "    <tr>\n",
              "      <th>45</th>\n",
              "      <td>4376.494231</td>\n",
              "      <td>1.437473</td>\n",
              "      <td>1.777116</td>\n",
              "      <td>0.625732</td>\n",
              "      <td>[{'index': 2, 'value': 1.0}]</td>\n",
              "      <td>[{'index': 3, 'value': 1.0}]</td>\n",
              "      <td>[{'index': 2, 'value': 1.0}]</td>\n",
              "    </tr>\n",
              "    <tr>\n",
              "      <th>47</th>\n",
              "      <td>4063.330129</td>\n",
              "      <td>-1.21223</td>\n",
              "      <td>0.668843</td>\n",
              "      <td>-0.160005</td>\n",
              "      <td>[{'index': 1, 'value': 1.0}]</td>\n",
              "      <td>[{'index': 3, 'value': 1.0}]</td>\n",
              "      <td>[{'index': 2, 'value': 1.0}]</td>\n",
              "    </tr>\n",
              "    <tr>\n",
              "      <th>49</th>\n",
              "      <td>3905.130661</td>\n",
              "      <td>-0.59092</td>\n",
              "      <td>0.870347</td>\n",
              "      <td>-1.231464</td>\n",
              "      <td>[{'index': 1, 'value': 1.0}]</td>\n",
              "      <td>[{'index': 3, 'value': 1.0}]</td>\n",
              "      <td>[{'index': 2, 'value': 1.0}]</td>\n",
              "    </tr>\n",
              "    <tr>\n",
              "      <th>57</th>\n",
              "      <td>3665.731208</td>\n",
              "      <td>-1.011218</td>\n",
              "      <td>0.013954</td>\n",
              "      <td>-0.160005</td>\n",
              "      <td>[{'index': 1, 'value': 1.0}]</td>\n",
              "      <td>[{'index': 2, 'value': 1.0}]</td>\n",
              "      <td>[{'index': 1, 'value': 1.0}]</td>\n",
              "    </tr>\n",
              "    <tr>\n",
              "      <th>62</th>\n",
              "      <td>5345.084893</td>\n",
              "      <td>0.94408</td>\n",
              "      <td>-0.741687</td>\n",
              "      <td>1.125746</td>\n",
              "      <td>[{'index': 3, 'value': 1.0}]</td>\n",
              "      <td>[{'index': 3, 'value': 1.0}]</td>\n",
              "      <td>[{'index': 1, 'value': 1.0}]</td>\n",
              "    </tr>\n",
              "    <tr>\n",
              "      <th>66</th>\n",
              "      <td>3874.816924</td>\n",
              "      <td>-0.627468</td>\n",
              "      <td>-0.086798</td>\n",
              "      <td>-0.80288</td>\n",
              "      <td>[{'index': 1, 'value': 1.0}]</td>\n",
              "      <td>[{'index': 3, 'value': 1.0}]</td>\n",
              "      <td>[{'index': 2, 'value': 1.0}]</td>\n",
              "    </tr>\n",
              "    <tr>\n",
              "      <th>67</th>\n",
              "      <td>5200.896097</td>\n",
              "      <td>0.633425</td>\n",
              "      <td>-1.346199</td>\n",
              "      <td>0.982885</td>\n",
              "      <td>[{'index': 3, 'value': 1.0}]</td>\n",
              "      <td>[{'index': 3, 'value': 1.0}]</td>\n",
              "      <td>[{'index': 1, 'value': 1.0}]</td>\n",
              "    </tr>\n",
              "    <tr>\n",
              "      <th>69</th>\n",
              "      <td>4825.191397</td>\n",
              "      <td>0.907533</td>\n",
              "      <td>-1.346199</td>\n",
              "      <td>0.768593</td>\n",
              "      <td>[{'index': 3, 'value': 1.0}]</td>\n",
              "      <td>[{'index': 2, 'value': 1.0}]</td>\n",
              "      <td>[{'index': 1, 'value': 1.0}]</td>\n",
              "    </tr>\n",
              "    <tr>\n",
              "      <th>72</th>\n",
              "      <td>3371.103195</td>\n",
              "      <td>-1.394968</td>\n",
              "      <td>0.416963</td>\n",
              "      <td>-1.374325</td>\n",
              "      <td>[{'index': 1, 'value': 1.0}]</td>\n",
              "      <td>[{'index': 2, 'value': 1.0}]</td>\n",
              "      <td>[{'index': 2, 'value': 1.0}]</td>\n",
              "    </tr>\n",
              "    <tr>\n",
              "      <th>75</th>\n",
              "      <td>4033.20678</td>\n",
              "      <td>-1.157409</td>\n",
              "      <td>1.424484</td>\n",
              "      <td>-0.80288</td>\n",
              "      <td>[{'index': 1, 'value': 1.0}]</td>\n",
              "      <td>[{'index': 3, 'value': 1.0}]</td>\n",
              "      <td>[{'index': 1, 'value': 1.0}]</td>\n",
              "    </tr>\n",
              "    <tr>\n",
              "      <th>77</th>\n",
              "      <td>5500.11398</td>\n",
              "      <td>0.998902</td>\n",
              "      <td>-0.590559</td>\n",
              "      <td>1.697191</td>\n",
              "      <td>[{'index': 3, 'value': 1.0}]</td>\n",
              "      <td>[{'index': 3, 'value': 1.0}]</td>\n",
              "      <td>[{'index': 1, 'value': 1.0}]</td>\n",
              "    </tr>\n",
              "    <tr>\n",
              "      <th>78</th>\n",
              "      <td>3555.242973</td>\n",
              "      <td>1.035449</td>\n",
              "      <td>0.06433</td>\n",
              "      <td>-0.231435</td>\n",
              "      <td>[{'index': 2, 'value': 1.0}]</td>\n",
              "      <td>[{'index': 2, 'value': 1.0}]</td>\n",
              "      <td>[{'index': 2, 'value': 1.0}]</td>\n",
              "    </tr>\n",
              "    <tr>\n",
              "      <th>91</th>\n",
              "      <td>3495.36847</td>\n",
              "      <td>-0.82848</td>\n",
              "      <td>0.265834</td>\n",
              "      <td>-1.088603</td>\n",
              "      <td>[{'index': 1, 'value': 1.0}]</td>\n",
              "      <td>[{'index': 2, 'value': 1.0}]</td>\n",
              "      <td>[{'index': 1, 'value': 1.0}]</td>\n",
              "    </tr>\n",
              "    <tr>\n",
              "      <th>92</th>\n",
              "      <td>3511.361999</td>\n",
              "      <td>-0.846754</td>\n",
              "      <td>0.316211</td>\n",
              "      <td>-0.945741</td>\n",
              "      <td>[{'index': 1, 'value': 1.0}]</td>\n",
              "      <td>[{'index': 2, 'value': 1.0}]</td>\n",
              "      <td>[{'index': 2, 'value': 1.0}]</td>\n",
              "    </tr>\n",
              "    <tr>\n",
              "      <th>96</th>\n",
              "      <td>3474.875241</td>\n",
              "      <td>-0.353361</td>\n",
              "      <td>0.668843</td>\n",
              "      <td>-1.517186</td>\n",
              "      <td>[{'index': 1, 'value': 1.0}]</td>\n",
              "      <td>[{'index': 2, 'value': 1.0}]</td>\n",
              "      <td>[{'index': 2, 'value': 1.0}]</td>\n",
              "    </tr>\n",
              "    <tr>\n",
              "      <th>100</th>\n",
              "      <td>3596.235478</td>\n",
              "      <td>-0.956397</td>\n",
              "      <td>0.819971</td>\n",
              "      <td>-0.80288</td>\n",
              "      <td>[{'index': 1, 'value': 1.0}]</td>\n",
              "      <td>[{'index': 2, 'value': 1.0}]</td>\n",
              "      <td>[{'index': 2, 'value': 1.0}]</td>\n",
              "    </tr>\n",
              "    <tr>\n",
              "      <th>102</th>\n",
              "      <td>4046.160244</td>\n",
              "      <td>-0.170623</td>\n",
              "      <td>0.668843</td>\n",
              "      <td>-0.660019</td>\n",
              "      <td>[{'index': 1, 'value': 1.0}]</td>\n",
              "      <td>[{'index': 3, 'value': 1.0}]</td>\n",
              "      <td>[{'index': 2, 'value': 1.0}]</td>\n",
              "    </tr>\n",
              "    <tr>\n",
              "      <th>114</th>\n",
              "      <td>3671.184224</td>\n",
              "      <td>-1.267052</td>\n",
              "      <td>0.467339</td>\n",
              "      <td>-1.660047</td>\n",
              "      <td>[{'index': 1, 'value': 1.0}]</td>\n",
              "      <td>[{'index': 3, 'value': 1.0}]</td>\n",
              "      <td>[{'index': 2, 'value': 1.0}]</td>\n",
              "    </tr>\n",
              "  </tbody>\n",
              "</table>\n",
              "<p>25 rows × 7 columns</p>\n",
              "</div>[67 rows x 7 columns in total]"
            ]
          },
          "metadata": {},
          "execution_count": 18
        }
      ],
      "source": [
        "from bigframes.ml.linear_model import LinearRegression\n",
        "\n",
        "linreg = LinearRegression()\n",
        "\n",
        "# Learn from the training data how to predict output y\n",
        "linreg.fit(processed_X_train, y_train)\n",
        "\n",
        "# Predict y for the test data\n",
        "predicted_y_test = linreg.predict(processed_X_test)\n",
        "\n",
        "# View predictions\n",
        "predicted_y_test"
      ]
    },
    {
      "cell_type": "markdown",
      "source": [
        "Quick check of the quality of the estimator"
      ],
      "metadata": {
        "id": "JRRVgXIP777K"
      }
    },
    {
      "cell_type": "code",
      "source": [
        "y_y=predicted_y_test\n",
        "y_y['real_value']=y_test['body_mass_g']\n",
        "y_y['error']=100*((y_test['body_mass_g']-predicted_y_test['predicted_body_mass_g']).abs())/y_test['body_mass_g']\n",
        "y_y[[\"predicted_body_mass_g\",\"real_value\",\"error\"]].head(5)"
      ],
      "metadata": {
        "colab": {
          "base_uri": "https://localhost:8080/",
          "height": 319
        },
        "id": "b85UtmTbE2cw",
        "executionInfo": {
          "status": "ok",
          "timestamp": 1732548511860,
          "user_tz": -60,
          "elapsed": 11978,
          "user": {
            "displayName": "",
            "userId": ""
          }
        },
        "outputId": "fefdaf07-af7c-403f-f77d-418784a07e80"
      },
      "execution_count": 24,
      "outputs": [
        {
          "output_type": "display_data",
          "data": {
            "text/plain": [
              "<IPython.core.display.HTML object>"
            ],
            "text/html": [
              "Query job cd898446-1cc3-4a99-b392-8b38ad7a750c is DONE. 30.6 kB processed. <a target=\"_blank\" href=\"https://console.cloud.google.com/bigquery?project=jrdetorre-bq-demo&j=bq:US:cd898446-1cc3-4a99-b392-8b38ad7a750c&page=queryresults\">Open Job</a>"
            ]
          },
          "metadata": {}
        },
        {
          "output_type": "display_data",
          "data": {
            "text/plain": [
              "<IPython.core.display.HTML object>"
            ],
            "text/html": [
              "Query job 54e62225-3f35-48cf-99c9-9cf57ea717b4 is DONE. 200 Bytes processed. <a target=\"_blank\" href=\"https://console.cloud.google.com/bigquery?project=jrdetorre-bq-demo&j=bq:US:54e62225-3f35-48cf-99c9-9cf57ea717b4&page=queryresults\">Open Job</a>"
            ]
          },
          "metadata": {}
        },
        {
          "output_type": "execute_result",
          "data": {
            "text/plain": [
              "            predicted_body_mass_g  real_value      error\n",
              "penguin_id                                              \n",
              "2                     4173.408558      3875.0   7.700866\n",
              "8                     5286.011999      5300.0   0.263925\n",
              "14                    3366.800859      2700.0  24.696328\n",
              "16                    5385.634381      6300.0   14.51374\n",
              "20                    4644.566555      4700.0   1.179435\n",
              "\n",
              "[5 rows x 3 columns]"
            ],
            "text/html": [
              "<div>\n",
              "<style scoped>\n",
              "    .dataframe tbody tr th:only-of-type {\n",
              "        vertical-align: middle;\n",
              "    }\n",
              "\n",
              "    .dataframe tbody tr th {\n",
              "        vertical-align: top;\n",
              "    }\n",
              "\n",
              "    .dataframe thead th {\n",
              "        text-align: right;\n",
              "    }\n",
              "</style>\n",
              "<table border=\"1\" class=\"dataframe\">\n",
              "  <thead>\n",
              "    <tr style=\"text-align: right;\">\n",
              "      <th></th>\n",
              "      <th>predicted_body_mass_g</th>\n",
              "      <th>real_value</th>\n",
              "      <th>error</th>\n",
              "    </tr>\n",
              "    <tr>\n",
              "      <th>penguin_id</th>\n",
              "      <th></th>\n",
              "      <th></th>\n",
              "      <th></th>\n",
              "    </tr>\n",
              "  </thead>\n",
              "  <tbody>\n",
              "    <tr>\n",
              "      <th>2</th>\n",
              "      <td>4173.408558</td>\n",
              "      <td>3875.0</td>\n",
              "      <td>7.700866</td>\n",
              "    </tr>\n",
              "    <tr>\n",
              "      <th>8</th>\n",
              "      <td>5286.011999</td>\n",
              "      <td>5300.0</td>\n",
              "      <td>0.263925</td>\n",
              "    </tr>\n",
              "    <tr>\n",
              "      <th>14</th>\n",
              "      <td>3366.800859</td>\n",
              "      <td>2700.0</td>\n",
              "      <td>24.696328</td>\n",
              "    </tr>\n",
              "    <tr>\n",
              "      <th>16</th>\n",
              "      <td>5385.634381</td>\n",
              "      <td>6300.0</td>\n",
              "      <td>14.51374</td>\n",
              "    </tr>\n",
              "    <tr>\n",
              "      <th>20</th>\n",
              "      <td>4644.566555</td>\n",
              "      <td>4700.0</td>\n",
              "      <td>1.179435</td>\n",
              "    </tr>\n",
              "  </tbody>\n",
              "</table>\n",
              "<p>5 rows × 3 columns</p>\n",
              "</div>[5 rows x 3 columns in total]"
            ]
          },
          "metadata": {},
          "execution_count": 24
        }
      ]
    },
    {
      "cell_type": "markdown",
      "metadata": {
        "id": "z42qesW_nAIf"
      },
      "source": [
        "#### Unsupervised predictors\n",
        "\n",
        "In unsupervised learning, there are no known outputs in the training data, instead the model learns on input data alone and predicts something else. An example of an unsupervised predictor is `bigframes.ml.cluster.KMeans`, which learns how to fit input data to a target number of clusters."
      ]
    },
    {
      "cell_type": "code",
      "execution_count": 25,
      "metadata": {
        "id": "M13zd02znCIg",
        "colab": {
          "base_uri": "https://localhost:8080/",
          "height": 998
        },
        "executionInfo": {
          "status": "ok",
          "timestamp": 1732548616371,
          "user_tz": -60,
          "elapsed": 104513,
          "user": {
            "displayName": "",
            "userId": ""
          }
        },
        "outputId": "6fc5e591-5723-497e-95f0-5dc6f26415a8"
      },
      "outputs": [
        {
          "output_type": "display_data",
          "data": {
            "text/plain": [
              "<IPython.core.display.HTML object>"
            ],
            "text/html": [
              "Query job 24466647-d351-4cdf-8f8d-0b97730b93d8 is DONE. 23.5 kB processed. <a target=\"_blank\" href=\"https://console.cloud.google.com/bigquery?project=jrdetorre-bq-demo&j=bq:US:24466647-d351-4cdf-8f8d-0b97730b93d8&page=queryresults\">Open Job</a>"
            ]
          },
          "metadata": {}
        },
        {
          "output_type": "display_data",
          "data": {
            "text/plain": [
              "<IPython.core.display.HTML object>"
            ],
            "text/html": [
              "Query job f92a2014-85f1-4343-9b7d-a236a18e1fb3 is DONE. 21.4 kB processed. <a target=\"_blank\" href=\"https://console.cloud.google.com/bigquery?project=jrdetorre-bq-demo&j=bq:US:f92a2014-85f1-4343-9b7d-a236a18e1fb3&page=queryresults\">Open Job</a>"
            ]
          },
          "metadata": {}
        },
        {
          "output_type": "display_data",
          "data": {
            "text/plain": [
              "<IPython.core.display.HTML object>"
            ],
            "text/html": [
              "Query job a2ac7855-e3f4-40cc-b8d1-a89fda4dc306 is DONE. 6.6 kB processed. <a target=\"_blank\" href=\"https://console.cloud.google.com/bigquery?project=jrdetorre-bq-demo&j=bq:US:a2ac7855-e3f4-40cc-b8d1-a89fda4dc306&page=queryresults\">Open Job</a>"
            ]
          },
          "metadata": {}
        },
        {
          "output_type": "display_data",
          "data": {
            "text/plain": [
              "<IPython.core.display.HTML object>"
            ],
            "text/html": [
              "Query job da485f3d-c33b-4287-90fe-69be9ac7948e is DONE. 10.2 kB processed. <a target=\"_blank\" href=\"https://console.cloud.google.com/bigquery?project=jrdetorre-bq-demo&j=bq:US:da485f3d-c33b-4287-90fe-69be9ac7948e&page=queryresults\">Open Job</a>"
            ]
          },
          "metadata": {}
        },
        {
          "output_type": "display_data",
          "data": {
            "text/plain": [
              "<IPython.core.display.HTML object>"
            ],
            "text/html": [
              "Query job 06c08e9f-a26c-4fdb-aab9-6e89a3aaaff3 is DONE. 10.7 kB processed. <a target=\"_blank\" href=\"https://console.cloud.google.com/bigquery?project=jrdetorre-bq-demo&j=bq:US:06c08e9f-a26c-4fdb-aab9-6e89a3aaaff3&page=queryresults\">Open Job</a>"
            ]
          },
          "metadata": {}
        },
        {
          "output_type": "execute_result",
          "data": {
            "text/plain": [
              "            CENTROID_ID                         NEAREST_CENTROIDS_DISTANCE  \\\n",
              "penguin_id                                                                   \n",
              "2                     4  [{'CENTROID_ID': 4, 'DISTANCE': 1.610888069891...   \n",
              "8                     2  [{'CENTROID_ID': 2, 'DISTANCE': 1.880800394823...   \n",
              "14                    1  [{'CENTROID_ID': 1, 'DISTANCE': 2.039159413717...   \n",
              "16                    2  [{'CENTROID_ID': 2, 'DISTANCE': 1.779245110306...   \n",
              "20                    2  [{'CENTROID_ID': 2, 'DISTANCE': 2.030063115528...   \n",
              "22                    4  [{'CENTROID_ID': 4, 'DISTANCE': 1.583547035187...   \n",
              "41                    4  [{'CENTROID_ID': 4, 'DISTANCE': 1.916057303822...   \n",
              "45                    1  [{'CENTROID_ID': 1, 'DISTANCE': 1.998768779704...   \n",
              "47                    4  [{'CENTROID_ID': 4, 'DISTANCE': 1.294346426101...   \n",
              "49                    4  [{'CENTROID_ID': 4, 'DISTANCE': 1.178539501865...   \n",
              "57                    4  [{'CENTROID_ID': 4, 'DISTANCE': 1.671296702023...   \n",
              "62                    2  [{'CENTROID_ID': 2, 'DISTANCE': 1.400053321870...   \n",
              "66                    4  [{'CENTROID_ID': 4, 'DISTANCE': 1.350758016671...   \n",
              "67                    2  [{'CENTROID_ID': 2, 'DISTANCE': 1.312058250809...   \n",
              "69                    2  [{'CENTROID_ID': 2, 'DISTANCE': 1.367924197580...   \n",
              "72                    4  [{'CENTROID_ID': 4, 'DISTANCE': 1.550524202571...   \n",
              "75                    4  [{'CENTROID_ID': 4, 'DISTANCE': 1.216160416760...   \n",
              "77                    2  [{'CENTROID_ID': 2, 'DISTANCE': 1.456711191489...   \n",
              "78                    1  [{'CENTROID_ID': 1, 'DISTANCE': 1.328931531727...   \n",
              "91                    4  [{'CENTROID_ID': 4, 'DISTANCE': 1.409796223741...   \n",
              "92                    4  [{'CENTROID_ID': 4, 'DISTANCE': 1.342445868461...   \n",
              "96                    4  [{'CENTROID_ID': 4, 'DISTANCE': 1.527082017143...   \n",
              "100                   4  [{'CENTROID_ID': 4, 'DISTANCE': 1.243936795263...   \n",
              "102                   4  [{'CENTROID_ID': 4, 'DISTANCE': 1.171099163333...   \n",
              "114                   4  [{'CENTROID_ID': 4, 'DISTANCE': 1.409758570840...   \n",
              "\n",
              "            standard_scaled_culmen_length_mm  standard_scaled_culmen_depth_mm  \\\n",
              "penguin_id                                                                      \n",
              "2                                  -0.499551                         0.668843   \n",
              "8                                    0.79789                        -1.547704   \n",
              "14                                  0.505509                        -0.288302   \n",
              "16                                  0.925806                        -0.993567   \n",
              "20                                 -0.243718                        -1.497328   \n",
              "22                                 -1.248778                         0.316211   \n",
              "41                                 -0.718837                        -0.086798   \n",
              "45                                  1.437473                         1.777116   \n",
              "47                                  -1.21223                         0.668843   \n",
              "49                                  -0.59092                         0.870347   \n",
              "57                                 -1.011218                         0.013954   \n",
              "62                                   0.94408                        -0.741687   \n",
              "66                                 -0.627468                        -0.086798   \n",
              "67                                  0.633425                        -1.346199   \n",
              "69                                  0.907533                        -1.346199   \n",
              "72                                 -1.394968                         0.416963   \n",
              "75                                 -1.157409                         1.424484   \n",
              "77                                  0.998902                        -0.590559   \n",
              "78                                  1.035449                          0.06433   \n",
              "91                                  -0.82848                         0.265834   \n",
              "92                                 -0.846754                         0.316211   \n",
              "96                                 -0.353361                         0.668843   \n",
              "100                                -0.956397                         0.819971   \n",
              "102                                -0.170623                         0.668843   \n",
              "114                                -1.267052                         0.467339   \n",
              "\n",
              "            standard_scaled_flipper_length_mm         onehotencoded_species  \\\n",
              "penguin_id                                                                    \n",
              "2                                    0.054287  [{'index': 1, 'value': 1.0}]   \n",
              "8                                    1.340038  [{'index': 3, 'value': 1.0}]   \n",
              "14                                  -0.660019  [{'index': 2, 'value': 1.0}]   \n",
              "16                                   1.411469  [{'index': 3, 'value': 1.0}]   \n",
              "20                                   0.554302  [{'index': 3, 'value': 1.0}]   \n",
              "22                                  -0.731449  [{'index': 1, 'value': 1.0}]   \n",
              "41                                  -1.802909  [{'index': 1, 'value': 1.0}]   \n",
              "45                                   0.625732  [{'index': 2, 'value': 1.0}]   \n",
              "47                                  -0.160005  [{'index': 1, 'value': 1.0}]   \n",
              "49                                  -1.231464  [{'index': 1, 'value': 1.0}]   \n",
              "57                                  -0.160005  [{'index': 1, 'value': 1.0}]   \n",
              "62                                   1.125746  [{'index': 3, 'value': 1.0}]   \n",
              "66                                   -0.80288  [{'index': 1, 'value': 1.0}]   \n",
              "67                                   0.982885  [{'index': 3, 'value': 1.0}]   \n",
              "69                                   0.768593  [{'index': 3, 'value': 1.0}]   \n",
              "72                                  -1.374325  [{'index': 1, 'value': 1.0}]   \n",
              "75                                   -0.80288  [{'index': 1, 'value': 1.0}]   \n",
              "77                                   1.697191  [{'index': 3, 'value': 1.0}]   \n",
              "78                                  -0.231435  [{'index': 2, 'value': 1.0}]   \n",
              "91                                  -1.088603  [{'index': 1, 'value': 1.0}]   \n",
              "92                                  -0.945741  [{'index': 1, 'value': 1.0}]   \n",
              "96                                  -1.517186  [{'index': 1, 'value': 1.0}]   \n",
              "100                                  -0.80288  [{'index': 1, 'value': 1.0}]   \n",
              "102                                 -0.660019  [{'index': 1, 'value': 1.0}]   \n",
              "114                                 -1.660047  [{'index': 1, 'value': 1.0}]   \n",
              "\n",
              "                       onehotencoded_sex          onehotencoded_island  \n",
              "penguin_id                                                              \n",
              "2           [{'index': 3, 'value': 1.0}]  [{'index': 3, 'value': 1.0}]  \n",
              "8           [{'index': 3, 'value': 1.0}]  [{'index': 1, 'value': 1.0}]  \n",
              "14          [{'index': 2, 'value': 1.0}]  [{'index': 2, 'value': 1.0}]  \n",
              "16          [{'index': 3, 'value': 1.0}]  [{'index': 1, 'value': 1.0}]  \n",
              "20          [{'index': 2, 'value': 1.0}]  [{'index': 1, 'value': 1.0}]  \n",
              "22          [{'index': 2, 'value': 1.0}]  [{'index': 2, 'value': 1.0}]  \n",
              "41          [{'index': 2, 'value': 1.0}]  [{'index': 3, 'value': 1.0}]  \n",
              "45          [{'index': 3, 'value': 1.0}]  [{'index': 2, 'value': 1.0}]  \n",
              "47          [{'index': 3, 'value': 1.0}]  [{'index': 2, 'value': 1.0}]  \n",
              "49          [{'index': 3, 'value': 1.0}]  [{'index': 2, 'value': 1.0}]  \n",
              "57          [{'index': 2, 'value': 1.0}]  [{'index': 1, 'value': 1.0}]  \n",
              "62          [{'index': 3, 'value': 1.0}]  [{'index': 1, 'value': 1.0}]  \n",
              "66          [{'index': 3, 'value': 1.0}]  [{'index': 2, 'value': 1.0}]  \n",
              "67          [{'index': 3, 'value': 1.0}]  [{'index': 1, 'value': 1.0}]  \n",
              "69          [{'index': 2, 'value': 1.0}]  [{'index': 1, 'value': 1.0}]  \n",
              "72          [{'index': 2, 'value': 1.0}]  [{'index': 2, 'value': 1.0}]  \n",
              "75          [{'index': 3, 'value': 1.0}]  [{'index': 1, 'value': 1.0}]  \n",
              "77          [{'index': 3, 'value': 1.0}]  [{'index': 1, 'value': 1.0}]  \n",
              "78          [{'index': 2, 'value': 1.0}]  [{'index': 2, 'value': 1.0}]  \n",
              "91          [{'index': 2, 'value': 1.0}]  [{'index': 1, 'value': 1.0}]  \n",
              "92          [{'index': 2, 'value': 1.0}]  [{'index': 2, 'value': 1.0}]  \n",
              "96          [{'index': 2, 'value': 1.0}]  [{'index': 2, 'value': 1.0}]  \n",
              "100         [{'index': 2, 'value': 1.0}]  [{'index': 2, 'value': 1.0}]  \n",
              "102         [{'index': 3, 'value': 1.0}]  [{'index': 2, 'value': 1.0}]  \n",
              "114         [{'index': 3, 'value': 1.0}]  [{'index': 2, 'value': 1.0}]  \n",
              "\n",
              "[67 rows x 8 columns]"
            ],
            "text/html": [
              "<div>\n",
              "<style scoped>\n",
              "    .dataframe tbody tr th:only-of-type {\n",
              "        vertical-align: middle;\n",
              "    }\n",
              "\n",
              "    .dataframe tbody tr th {\n",
              "        vertical-align: top;\n",
              "    }\n",
              "\n",
              "    .dataframe thead th {\n",
              "        text-align: right;\n",
              "    }\n",
              "</style>\n",
              "<table border=\"1\" class=\"dataframe\">\n",
              "  <thead>\n",
              "    <tr style=\"text-align: right;\">\n",
              "      <th></th>\n",
              "      <th>CENTROID_ID</th>\n",
              "      <th>NEAREST_CENTROIDS_DISTANCE</th>\n",
              "      <th>standard_scaled_culmen_length_mm</th>\n",
              "      <th>standard_scaled_culmen_depth_mm</th>\n",
              "      <th>standard_scaled_flipper_length_mm</th>\n",
              "      <th>onehotencoded_species</th>\n",
              "      <th>onehotencoded_sex</th>\n",
              "      <th>onehotencoded_island</th>\n",
              "    </tr>\n",
              "    <tr>\n",
              "      <th>penguin_id</th>\n",
              "      <th></th>\n",
              "      <th></th>\n",
              "      <th></th>\n",
              "      <th></th>\n",
              "      <th></th>\n",
              "      <th></th>\n",
              "      <th></th>\n",
              "      <th></th>\n",
              "    </tr>\n",
              "  </thead>\n",
              "  <tbody>\n",
              "    <tr>\n",
              "      <th>2</th>\n",
              "      <td>4</td>\n",
              "      <td>[{'CENTROID_ID': 4, 'DISTANCE': 1.610888069891...</td>\n",
              "      <td>-0.499551</td>\n",
              "      <td>0.668843</td>\n",
              "      <td>0.054287</td>\n",
              "      <td>[{'index': 1, 'value': 1.0}]</td>\n",
              "      <td>[{'index': 3, 'value': 1.0}]</td>\n",
              "      <td>[{'index': 3, 'value': 1.0}]</td>\n",
              "    </tr>\n",
              "    <tr>\n",
              "      <th>8</th>\n",
              "      <td>2</td>\n",
              "      <td>[{'CENTROID_ID': 2, 'DISTANCE': 1.880800394823...</td>\n",
              "      <td>0.79789</td>\n",
              "      <td>-1.547704</td>\n",
              "      <td>1.340038</td>\n",
              "      <td>[{'index': 3, 'value': 1.0}]</td>\n",
              "      <td>[{'index': 3, 'value': 1.0}]</td>\n",
              "      <td>[{'index': 1, 'value': 1.0}]</td>\n",
              "    </tr>\n",
              "    <tr>\n",
              "      <th>14</th>\n",
              "      <td>1</td>\n",
              "      <td>[{'CENTROID_ID': 1, 'DISTANCE': 2.039159413717...</td>\n",
              "      <td>0.505509</td>\n",
              "      <td>-0.288302</td>\n",
              "      <td>-0.660019</td>\n",
              "      <td>[{'index': 2, 'value': 1.0}]</td>\n",
              "      <td>[{'index': 2, 'value': 1.0}]</td>\n",
              "      <td>[{'index': 2, 'value': 1.0}]</td>\n",
              "    </tr>\n",
              "    <tr>\n",
              "      <th>16</th>\n",
              "      <td>2</td>\n",
              "      <td>[{'CENTROID_ID': 2, 'DISTANCE': 1.779245110306...</td>\n",
              "      <td>0.925806</td>\n",
              "      <td>-0.993567</td>\n",
              "      <td>1.411469</td>\n",
              "      <td>[{'index': 3, 'value': 1.0}]</td>\n",
              "      <td>[{'index': 3, 'value': 1.0}]</td>\n",
              "      <td>[{'index': 1, 'value': 1.0}]</td>\n",
              "    </tr>\n",
              "    <tr>\n",
              "      <th>20</th>\n",
              "      <td>2</td>\n",
              "      <td>[{'CENTROID_ID': 2, 'DISTANCE': 2.030063115528...</td>\n",
              "      <td>-0.243718</td>\n",
              "      <td>-1.497328</td>\n",
              "      <td>0.554302</td>\n",
              "      <td>[{'index': 3, 'value': 1.0}]</td>\n",
              "      <td>[{'index': 2, 'value': 1.0}]</td>\n",
              "      <td>[{'index': 1, 'value': 1.0}]</td>\n",
              "    </tr>\n",
              "    <tr>\n",
              "      <th>22</th>\n",
              "      <td>4</td>\n",
              "      <td>[{'CENTROID_ID': 4, 'DISTANCE': 1.583547035187...</td>\n",
              "      <td>-1.248778</td>\n",
              "      <td>0.316211</td>\n",
              "      <td>-0.731449</td>\n",
              "      <td>[{'index': 1, 'value': 1.0}]</td>\n",
              "      <td>[{'index': 2, 'value': 1.0}]</td>\n",
              "      <td>[{'index': 2, 'value': 1.0}]</td>\n",
              "    </tr>\n",
              "    <tr>\n",
              "      <th>41</th>\n",
              "      <td>4</td>\n",
              "      <td>[{'CENTROID_ID': 4, 'DISTANCE': 1.916057303822...</td>\n",
              "      <td>-0.718837</td>\n",
              "      <td>-0.086798</td>\n",
              "      <td>-1.802909</td>\n",
              "      <td>[{'index': 1, 'value': 1.0}]</td>\n",
              "      <td>[{'index': 2, 'value': 1.0}]</td>\n",
              "      <td>[{'index': 3, 'value': 1.0}]</td>\n",
              "    </tr>\n",
              "    <tr>\n",
              "      <th>45</th>\n",
              "      <td>1</td>\n",
              "      <td>[{'CENTROID_ID': 1, 'DISTANCE': 1.998768779704...</td>\n",
              "      <td>1.437473</td>\n",
              "      <td>1.777116</td>\n",
              "      <td>0.625732</td>\n",
              "      <td>[{'index': 2, 'value': 1.0}]</td>\n",
              "      <td>[{'index': 3, 'value': 1.0}]</td>\n",
              "      <td>[{'index': 2, 'value': 1.0}]</td>\n",
              "    </tr>\n",
              "    <tr>\n",
              "      <th>47</th>\n",
              "      <td>4</td>\n",
              "      <td>[{'CENTROID_ID': 4, 'DISTANCE': 1.294346426101...</td>\n",
              "      <td>-1.21223</td>\n",
              "      <td>0.668843</td>\n",
              "      <td>-0.160005</td>\n",
              "      <td>[{'index': 1, 'value': 1.0}]</td>\n",
              "      <td>[{'index': 3, 'value': 1.0}]</td>\n",
              "      <td>[{'index': 2, 'value': 1.0}]</td>\n",
              "    </tr>\n",
              "    <tr>\n",
              "      <th>49</th>\n",
              "      <td>4</td>\n",
              "      <td>[{'CENTROID_ID': 4, 'DISTANCE': 1.178539501865...</td>\n",
              "      <td>-0.59092</td>\n",
              "      <td>0.870347</td>\n",
              "      <td>-1.231464</td>\n",
              "      <td>[{'index': 1, 'value': 1.0}]</td>\n",
              "      <td>[{'index': 3, 'value': 1.0}]</td>\n",
              "      <td>[{'index': 2, 'value': 1.0}]</td>\n",
              "    </tr>\n",
              "    <tr>\n",
              "      <th>57</th>\n",
              "      <td>4</td>\n",
              "      <td>[{'CENTROID_ID': 4, 'DISTANCE': 1.671296702023...</td>\n",
              "      <td>-1.011218</td>\n",
              "      <td>0.013954</td>\n",
              "      <td>-0.160005</td>\n",
              "      <td>[{'index': 1, 'value': 1.0}]</td>\n",
              "      <td>[{'index': 2, 'value': 1.0}]</td>\n",
              "      <td>[{'index': 1, 'value': 1.0}]</td>\n",
              "    </tr>\n",
              "    <tr>\n",
              "      <th>62</th>\n",
              "      <td>2</td>\n",
              "      <td>[{'CENTROID_ID': 2, 'DISTANCE': 1.400053321870...</td>\n",
              "      <td>0.94408</td>\n",
              "      <td>-0.741687</td>\n",
              "      <td>1.125746</td>\n",
              "      <td>[{'index': 3, 'value': 1.0}]</td>\n",
              "      <td>[{'index': 3, 'value': 1.0}]</td>\n",
              "      <td>[{'index': 1, 'value': 1.0}]</td>\n",
              "    </tr>\n",
              "    <tr>\n",
              "      <th>66</th>\n",
              "      <td>4</td>\n",
              "      <td>[{'CENTROID_ID': 4, 'DISTANCE': 1.350758016671...</td>\n",
              "      <td>-0.627468</td>\n",
              "      <td>-0.086798</td>\n",
              "      <td>-0.80288</td>\n",
              "      <td>[{'index': 1, 'value': 1.0}]</td>\n",
              "      <td>[{'index': 3, 'value': 1.0}]</td>\n",
              "      <td>[{'index': 2, 'value': 1.0}]</td>\n",
              "    </tr>\n",
              "    <tr>\n",
              "      <th>67</th>\n",
              "      <td>2</td>\n",
              "      <td>[{'CENTROID_ID': 2, 'DISTANCE': 1.312058250809...</td>\n",
              "      <td>0.633425</td>\n",
              "      <td>-1.346199</td>\n",
              "      <td>0.982885</td>\n",
              "      <td>[{'index': 3, 'value': 1.0}]</td>\n",
              "      <td>[{'index': 3, 'value': 1.0}]</td>\n",
              "      <td>[{'index': 1, 'value': 1.0}]</td>\n",
              "    </tr>\n",
              "    <tr>\n",
              "      <th>69</th>\n",
              "      <td>2</td>\n",
              "      <td>[{'CENTROID_ID': 2, 'DISTANCE': 1.367924197580...</td>\n",
              "      <td>0.907533</td>\n",
              "      <td>-1.346199</td>\n",
              "      <td>0.768593</td>\n",
              "      <td>[{'index': 3, 'value': 1.0}]</td>\n",
              "      <td>[{'index': 2, 'value': 1.0}]</td>\n",
              "      <td>[{'index': 1, 'value': 1.0}]</td>\n",
              "    </tr>\n",
              "    <tr>\n",
              "      <th>72</th>\n",
              "      <td>4</td>\n",
              "      <td>[{'CENTROID_ID': 4, 'DISTANCE': 1.550524202571...</td>\n",
              "      <td>-1.394968</td>\n",
              "      <td>0.416963</td>\n",
              "      <td>-1.374325</td>\n",
              "      <td>[{'index': 1, 'value': 1.0}]</td>\n",
              "      <td>[{'index': 2, 'value': 1.0}]</td>\n",
              "      <td>[{'index': 2, 'value': 1.0}]</td>\n",
              "    </tr>\n",
              "    <tr>\n",
              "      <th>75</th>\n",
              "      <td>4</td>\n",
              "      <td>[{'CENTROID_ID': 4, 'DISTANCE': 1.216160416760...</td>\n",
              "      <td>-1.157409</td>\n",
              "      <td>1.424484</td>\n",
              "      <td>-0.80288</td>\n",
              "      <td>[{'index': 1, 'value': 1.0}]</td>\n",
              "      <td>[{'index': 3, 'value': 1.0}]</td>\n",
              "      <td>[{'index': 1, 'value': 1.0}]</td>\n",
              "    </tr>\n",
              "    <tr>\n",
              "      <th>77</th>\n",
              "      <td>2</td>\n",
              "      <td>[{'CENTROID_ID': 2, 'DISTANCE': 1.456711191489...</td>\n",
              "      <td>0.998902</td>\n",
              "      <td>-0.590559</td>\n",
              "      <td>1.697191</td>\n",
              "      <td>[{'index': 3, 'value': 1.0}]</td>\n",
              "      <td>[{'index': 3, 'value': 1.0}]</td>\n",
              "      <td>[{'index': 1, 'value': 1.0}]</td>\n",
              "    </tr>\n",
              "    <tr>\n",
              "      <th>78</th>\n",
              "      <td>1</td>\n",
              "      <td>[{'CENTROID_ID': 1, 'DISTANCE': 1.328931531727...</td>\n",
              "      <td>1.035449</td>\n",
              "      <td>0.06433</td>\n",
              "      <td>-0.231435</td>\n",
              "      <td>[{'index': 2, 'value': 1.0}]</td>\n",
              "      <td>[{'index': 2, 'value': 1.0}]</td>\n",
              "      <td>[{'index': 2, 'value': 1.0}]</td>\n",
              "    </tr>\n",
              "    <tr>\n",
              "      <th>91</th>\n",
              "      <td>4</td>\n",
              "      <td>[{'CENTROID_ID': 4, 'DISTANCE': 1.409796223741...</td>\n",
              "      <td>-0.82848</td>\n",
              "      <td>0.265834</td>\n",
              "      <td>-1.088603</td>\n",
              "      <td>[{'index': 1, 'value': 1.0}]</td>\n",
              "      <td>[{'index': 2, 'value': 1.0}]</td>\n",
              "      <td>[{'index': 1, 'value': 1.0}]</td>\n",
              "    </tr>\n",
              "    <tr>\n",
              "      <th>92</th>\n",
              "      <td>4</td>\n",
              "      <td>[{'CENTROID_ID': 4, 'DISTANCE': 1.342445868461...</td>\n",
              "      <td>-0.846754</td>\n",
              "      <td>0.316211</td>\n",
              "      <td>-0.945741</td>\n",
              "      <td>[{'index': 1, 'value': 1.0}]</td>\n",
              "      <td>[{'index': 2, 'value': 1.0}]</td>\n",
              "      <td>[{'index': 2, 'value': 1.0}]</td>\n",
              "    </tr>\n",
              "    <tr>\n",
              "      <th>96</th>\n",
              "      <td>4</td>\n",
              "      <td>[{'CENTROID_ID': 4, 'DISTANCE': 1.527082017143...</td>\n",
              "      <td>-0.353361</td>\n",
              "      <td>0.668843</td>\n",
              "      <td>-1.517186</td>\n",
              "      <td>[{'index': 1, 'value': 1.0}]</td>\n",
              "      <td>[{'index': 2, 'value': 1.0}]</td>\n",
              "      <td>[{'index': 2, 'value': 1.0}]</td>\n",
              "    </tr>\n",
              "    <tr>\n",
              "      <th>100</th>\n",
              "      <td>4</td>\n",
              "      <td>[{'CENTROID_ID': 4, 'DISTANCE': 1.243936795263...</td>\n",
              "      <td>-0.956397</td>\n",
              "      <td>0.819971</td>\n",
              "      <td>-0.80288</td>\n",
              "      <td>[{'index': 1, 'value': 1.0}]</td>\n",
              "      <td>[{'index': 2, 'value': 1.0}]</td>\n",
              "      <td>[{'index': 2, 'value': 1.0}]</td>\n",
              "    </tr>\n",
              "    <tr>\n",
              "      <th>102</th>\n",
              "      <td>4</td>\n",
              "      <td>[{'CENTROID_ID': 4, 'DISTANCE': 1.171099163333...</td>\n",
              "      <td>-0.170623</td>\n",
              "      <td>0.668843</td>\n",
              "      <td>-0.660019</td>\n",
              "      <td>[{'index': 1, 'value': 1.0}]</td>\n",
              "      <td>[{'index': 3, 'value': 1.0}]</td>\n",
              "      <td>[{'index': 2, 'value': 1.0}]</td>\n",
              "    </tr>\n",
              "    <tr>\n",
              "      <th>114</th>\n",
              "      <td>4</td>\n",
              "      <td>[{'CENTROID_ID': 4, 'DISTANCE': 1.409758570840...</td>\n",
              "      <td>-1.267052</td>\n",
              "      <td>0.467339</td>\n",
              "      <td>-1.660047</td>\n",
              "      <td>[{'index': 1, 'value': 1.0}]</td>\n",
              "      <td>[{'index': 3, 'value': 1.0}]</td>\n",
              "      <td>[{'index': 2, 'value': 1.0}]</td>\n",
              "    </tr>\n",
              "  </tbody>\n",
              "</table>\n",
              "<p>25 rows × 8 columns</p>\n",
              "</div>[67 rows x 8 columns in total]"
            ]
          },
          "metadata": {},
          "execution_count": 25
        }
      ],
      "source": [
        "from bigframes.ml.cluster import KMeans\n",
        "\n",
        "# Specify KMeans with four clusters\n",
        "kmeans = KMeans(n_clusters=4)\n",
        "\n",
        "# Fit data\n",
        "kmeans.fit(processed_X_train)\n",
        "\n",
        "# View predictions\n",
        "kmeans.predict(processed_X_test)"
      ]
    },
    {
      "cell_type": "markdown",
      "metadata": {
        "id": "DFwsIbscnEvh"
      },
      "source": [
        "## Pipelines\n",
        "\n",
        "Transfomers and predictors can be chained into a single estimator component using `bigframes.ml.pipeline.Pipeline`:"
      ]
    },
    {
      "cell_type": "code",
      "execution_count": 26,
      "metadata": {
        "id": "Ku2OXqgJnEeR",
        "colab": {
          "base_uri": "https://localhost:8080/"
        },
        "executionInfo": {
          "status": "ok",
          "timestamp": 1732548616371,
          "user_tz": -60,
          "elapsed": 5,
          "user": {
            "displayName": "",
            "userId": ""
          }
        },
        "outputId": "da6ae6bb-89c7-417b-bab3-d007387a269f"
      },
      "outputs": [
        {
          "output_type": "execute_result",
          "data": {
            "text/plain": [
              "Pipeline(steps=[('preproc',\n",
              "                 ColumnTransformer(transformers=[('scale', StandardScaler(),\n",
              "                                                  ['culmen_length_mm',\n",
              "                                                   'culmen_depth_mm',\n",
              "                                                   'flipper_length_mm']),\n",
              "                                                 ('encode', OneHotEncoder(),\n",
              "                                                  ['species', 'sex',\n",
              "                                                   'island'])])),\n",
              "                ('linreg', LinearRegression())])"
            ]
          },
          "metadata": {},
          "execution_count": 26
        }
      ],
      "source": [
        "from bigframes.ml.pipeline import Pipeline\n",
        "\n",
        "pipeline = Pipeline([\n",
        "  ('preproc', preproc),\n",
        "  ('linreg', linreg)\n",
        "])\n",
        "\n",
        "# Print our pipeline\n",
        "pipeline"
      ]
    },
    {
      "cell_type": "markdown",
      "metadata": {
        "id": "cCQCY_6wnKz_"
      },
      "source": [
        "The pipeline simplifies the workflow by applying each of its component steps automatically:"
      ]
    },
    {
      "cell_type": "code",
      "execution_count": 27,
      "metadata": {
        "id": "hsF7FYagnMko",
        "colab": {
          "base_uri": "https://localhost:8080/",
          "height": 998
        },
        "executionInfo": {
          "status": "ok",
          "timestamp": 1732548685320,
          "user_tz": -60,
          "elapsed": 68952,
          "user": {
            "displayName": "",
            "userId": ""
          }
        },
        "outputId": "70d128be-a7b0-4aae-f85e-d015512b81ca"
      },
      "outputs": [
        {
          "output_type": "display_data",
          "data": {
            "text/plain": [
              "<IPython.core.display.HTML object>"
            ],
            "text/html": [
              "Query job 13ee387a-ada5-4571-bb7b-aaefdecfb4a3 is DONE. 53.7 kB processed. <a target=\"_blank\" href=\"https://console.cloud.google.com/bigquery?project=jrdetorre-bq-demo&j=bq:US:13ee387a-ada5-4571-bb7b-aaefdecfb4a3&page=queryresults\">Open Job</a>"
            ]
          },
          "metadata": {}
        },
        {
          "output_type": "display_data",
          "data": {
            "text/plain": [
              "<IPython.core.display.HTML object>"
            ],
            "text/html": [
              "Query job 7269c8a3-a449-4452-a46e-505c03e4bac0 is DONE. 24.7 kB processed. <a target=\"_blank\" href=\"https://console.cloud.google.com/bigquery?project=jrdetorre-bq-demo&j=bq:US:7269c8a3-a449-4452-a46e-505c03e4bac0&page=queryresults\">Open Job</a>"
            ]
          },
          "metadata": {}
        },
        {
          "output_type": "display_data",
          "data": {
            "text/plain": [
              "<IPython.core.display.HTML object>"
            ],
            "text/html": [
              "Query job 6176b54e-24ab-4cf4-9a04-bdc3dae3fcba is DONE. 30.0 kB processed. <a target=\"_blank\" href=\"https://console.cloud.google.com/bigquery?project=jrdetorre-bq-demo&j=bq:US:6176b54e-24ab-4cf4-9a04-bdc3dae3fcba&page=queryresults\">Open Job</a>"
            ]
          },
          "metadata": {}
        },
        {
          "output_type": "display_data",
          "data": {
            "text/plain": [
              "<IPython.core.display.HTML object>"
            ],
            "text/html": [
              "Query job 79b64e3d-2d3e-4d68-89b7-fcb63112003a is DONE. 6.2 kB processed. <a target=\"_blank\" href=\"https://console.cloud.google.com/bigquery?project=jrdetorre-bq-demo&j=bq:US:79b64e3d-2d3e-4d68-89b7-fcb63112003a&page=queryresults\">Open Job</a>"
            ]
          },
          "metadata": {}
        },
        {
          "output_type": "display_data",
          "data": {
            "text/plain": [
              "<IPython.core.display.HTML object>"
            ],
            "text/html": [
              "Query job 03226fc8-229b-4dd5-bcaf-71a09a51b57b is DONE. 6.7 kB processed. <a target=\"_blank\" href=\"https://console.cloud.google.com/bigquery?project=jrdetorre-bq-demo&j=bq:US:03226fc8-229b-4dd5-bcaf-71a09a51b57b&page=queryresults\">Open Job</a>"
            ]
          },
          "metadata": {}
        },
        {
          "output_type": "execute_result",
          "data": {
            "text/plain": [
              "            predicted_body_mass_g     island  culmen_length_mm  \\\n",
              "penguin_id                                                       \n",
              "2                     4142.212801  Torgersen              41.4   \n",
              "8                     5254.339302     Biscoe              48.5   \n",
              "14                    3336.766261      Dream              46.9   \n",
              "16                    5356.522154     Biscoe              49.2   \n",
              "20                    4615.713161     Biscoe              42.8   \n",
              "22                     3501.46194      Dream              37.3   \n",
              "41                     3235.60438  Torgersen              40.2   \n",
              "45                    4355.645535      Dream              52.0   \n",
              "47                    4037.084173      Dream              37.5   \n",
              "49                    3879.112037      Dream              40.9   \n",
              "57                    3646.094127     Biscoe              38.6   \n",
              "62                    5324.701228     Biscoe              49.3   \n",
              "66                    3850.488274      Dream              40.7   \n",
              "67                    5180.138881     Biscoe              47.6   \n",
              "69                    4806.189013     Biscoe              49.1   \n",
              "72                    3349.547683      Dream              36.5   \n",
              "75                    4017.488163     Biscoe              37.8   \n",
              "77                    5483.169341     Biscoe              49.6   \n",
              "78                    3538.100619      Dream              49.8   \n",
              "91                    3481.875025     Biscoe              39.6   \n",
              "92                    3493.796185      Dream              39.5   \n",
              "96                    3458.468798      Dream              42.2   \n",
              "100                   3581.102045      Dream              38.9   \n",
              "102                   4030.073524      Dream              43.2   \n",
              "114                   3655.867036      Dream              37.2   \n",
              "\n",
              "            culmen_depth_mm  flipper_length_mm     sex  \\\n",
              "penguin_id                                               \n",
              "2                      18.5              202.0    MALE   \n",
              "8                      14.1              220.0    MALE   \n",
              "14                     16.6              192.0  FEMALE   \n",
              "16                     15.2              221.0    MALE   \n",
              "20                     14.2              209.0  FEMALE   \n",
              "22                     17.8              191.0  FEMALE   \n",
              "41                     17.0              176.0  FEMALE   \n",
              "45                     20.7              210.0    MALE   \n",
              "47                     18.5              199.0    MALE   \n",
              "49                     18.9              184.0    MALE   \n",
              "57                     17.2              199.0  FEMALE   \n",
              "62                     15.7              217.0    MALE   \n",
              "66                     17.0              190.0    MALE   \n",
              "67                     14.5              215.0    MALE   \n",
              "69                     14.5              212.0  FEMALE   \n",
              "72                     18.0              182.0  FEMALE   \n",
              "75                     20.0              190.0    MALE   \n",
              "77                     16.0              225.0    MALE   \n",
              "78                     17.3              198.0  FEMALE   \n",
              "91                     17.7              186.0  FEMALE   \n",
              "92                     17.8              188.0  FEMALE   \n",
              "96                     18.5              180.0  FEMALE   \n",
              "100                    18.8              190.0  FEMALE   \n",
              "102                    18.5              192.0    MALE   \n",
              "114                    18.1              178.0    MALE   \n",
              "\n",
              "                                              species  \n",
              "penguin_id                                             \n",
              "2                 Adelie Penguin (Pygoscelis adeliae)  \n",
              "8                   Gentoo penguin (Pygoscelis papua)  \n",
              "14          Chinstrap penguin (Pygoscelis antarctica)  \n",
              "16                  Gentoo penguin (Pygoscelis papua)  \n",
              "20                  Gentoo penguin (Pygoscelis papua)  \n",
              "22                Adelie Penguin (Pygoscelis adeliae)  \n",
              "41                Adelie Penguin (Pygoscelis adeliae)  \n",
              "45          Chinstrap penguin (Pygoscelis antarctica)  \n",
              "47                Adelie Penguin (Pygoscelis adeliae)  \n",
              "49                Adelie Penguin (Pygoscelis adeliae)  \n",
              "57                Adelie Penguin (Pygoscelis adeliae)  \n",
              "62                  Gentoo penguin (Pygoscelis papua)  \n",
              "66                Adelie Penguin (Pygoscelis adeliae)  \n",
              "67                  Gentoo penguin (Pygoscelis papua)  \n",
              "69                  Gentoo penguin (Pygoscelis papua)  \n",
              "72                Adelie Penguin (Pygoscelis adeliae)  \n",
              "75                Adelie Penguin (Pygoscelis adeliae)  \n",
              "77                  Gentoo penguin (Pygoscelis papua)  \n",
              "78          Chinstrap penguin (Pygoscelis antarctica)  \n",
              "91                Adelie Penguin (Pygoscelis adeliae)  \n",
              "92                Adelie Penguin (Pygoscelis adeliae)  \n",
              "96                Adelie Penguin (Pygoscelis adeliae)  \n",
              "100               Adelie Penguin (Pygoscelis adeliae)  \n",
              "102               Adelie Penguin (Pygoscelis adeliae)  \n",
              "114               Adelie Penguin (Pygoscelis adeliae)  \n",
              "\n",
              "[67 rows x 7 columns]"
            ],
            "text/html": [
              "<div>\n",
              "<style scoped>\n",
              "    .dataframe tbody tr th:only-of-type {\n",
              "        vertical-align: middle;\n",
              "    }\n",
              "\n",
              "    .dataframe tbody tr th {\n",
              "        vertical-align: top;\n",
              "    }\n",
              "\n",
              "    .dataframe thead th {\n",
              "        text-align: right;\n",
              "    }\n",
              "</style>\n",
              "<table border=\"1\" class=\"dataframe\">\n",
              "  <thead>\n",
              "    <tr style=\"text-align: right;\">\n",
              "      <th></th>\n",
              "      <th>predicted_body_mass_g</th>\n",
              "      <th>island</th>\n",
              "      <th>culmen_length_mm</th>\n",
              "      <th>culmen_depth_mm</th>\n",
              "      <th>flipper_length_mm</th>\n",
              "      <th>sex</th>\n",
              "      <th>species</th>\n",
              "    </tr>\n",
              "    <tr>\n",
              "      <th>penguin_id</th>\n",
              "      <th></th>\n",
              "      <th></th>\n",
              "      <th></th>\n",
              "      <th></th>\n",
              "      <th></th>\n",
              "      <th></th>\n",
              "      <th></th>\n",
              "    </tr>\n",
              "  </thead>\n",
              "  <tbody>\n",
              "    <tr>\n",
              "      <th>2</th>\n",
              "      <td>4142.212801</td>\n",
              "      <td>Torgersen</td>\n",
              "      <td>41.4</td>\n",
              "      <td>18.5</td>\n",
              "      <td>202.0</td>\n",
              "      <td>MALE</td>\n",
              "      <td>Adelie Penguin (Pygoscelis adeliae)</td>\n",
              "    </tr>\n",
              "    <tr>\n",
              "      <th>8</th>\n",
              "      <td>5254.339302</td>\n",
              "      <td>Biscoe</td>\n",
              "      <td>48.5</td>\n",
              "      <td>14.1</td>\n",
              "      <td>220.0</td>\n",
              "      <td>MALE</td>\n",
              "      <td>Gentoo penguin (Pygoscelis papua)</td>\n",
              "    </tr>\n",
              "    <tr>\n",
              "      <th>14</th>\n",
              "      <td>3336.766261</td>\n",
              "      <td>Dream</td>\n",
              "      <td>46.9</td>\n",
              "      <td>16.6</td>\n",
              "      <td>192.0</td>\n",
              "      <td>FEMALE</td>\n",
              "      <td>Chinstrap penguin (Pygoscelis antarctica)</td>\n",
              "    </tr>\n",
              "    <tr>\n",
              "      <th>16</th>\n",
              "      <td>5356.522154</td>\n",
              "      <td>Biscoe</td>\n",
              "      <td>49.2</td>\n",
              "      <td>15.2</td>\n",
              "      <td>221.0</td>\n",
              "      <td>MALE</td>\n",
              "      <td>Gentoo penguin (Pygoscelis papua)</td>\n",
              "    </tr>\n",
              "    <tr>\n",
              "      <th>20</th>\n",
              "      <td>4615.713161</td>\n",
              "      <td>Biscoe</td>\n",
              "      <td>42.8</td>\n",
              "      <td>14.2</td>\n",
              "      <td>209.0</td>\n",
              "      <td>FEMALE</td>\n",
              "      <td>Gentoo penguin (Pygoscelis papua)</td>\n",
              "    </tr>\n",
              "    <tr>\n",
              "      <th>22</th>\n",
              "      <td>3501.46194</td>\n",
              "      <td>Dream</td>\n",
              "      <td>37.3</td>\n",
              "      <td>17.8</td>\n",
              "      <td>191.0</td>\n",
              "      <td>FEMALE</td>\n",
              "      <td>Adelie Penguin (Pygoscelis adeliae)</td>\n",
              "    </tr>\n",
              "    <tr>\n",
              "      <th>41</th>\n",
              "      <td>3235.60438</td>\n",
              "      <td>Torgersen</td>\n",
              "      <td>40.2</td>\n",
              "      <td>17.0</td>\n",
              "      <td>176.0</td>\n",
              "      <td>FEMALE</td>\n",
              "      <td>Adelie Penguin (Pygoscelis adeliae)</td>\n",
              "    </tr>\n",
              "    <tr>\n",
              "      <th>45</th>\n",
              "      <td>4355.645535</td>\n",
              "      <td>Dream</td>\n",
              "      <td>52.0</td>\n",
              "      <td>20.7</td>\n",
              "      <td>210.0</td>\n",
              "      <td>MALE</td>\n",
              "      <td>Chinstrap penguin (Pygoscelis antarctica)</td>\n",
              "    </tr>\n",
              "    <tr>\n",
              "      <th>47</th>\n",
              "      <td>4037.084173</td>\n",
              "      <td>Dream</td>\n",
              "      <td>37.5</td>\n",
              "      <td>18.5</td>\n",
              "      <td>199.0</td>\n",
              "      <td>MALE</td>\n",
              "      <td>Adelie Penguin (Pygoscelis adeliae)</td>\n",
              "    </tr>\n",
              "    <tr>\n",
              "      <th>49</th>\n",
              "      <td>3879.112037</td>\n",
              "      <td>Dream</td>\n",
              "      <td>40.9</td>\n",
              "      <td>18.9</td>\n",
              "      <td>184.0</td>\n",
              "      <td>MALE</td>\n",
              "      <td>Adelie Penguin (Pygoscelis adeliae)</td>\n",
              "    </tr>\n",
              "    <tr>\n",
              "      <th>57</th>\n",
              "      <td>3646.094127</td>\n",
              "      <td>Biscoe</td>\n",
              "      <td>38.6</td>\n",
              "      <td>17.2</td>\n",
              "      <td>199.0</td>\n",
              "      <td>FEMALE</td>\n",
              "      <td>Adelie Penguin (Pygoscelis adeliae)</td>\n",
              "    </tr>\n",
              "    <tr>\n",
              "      <th>62</th>\n",
              "      <td>5324.701228</td>\n",
              "      <td>Biscoe</td>\n",
              "      <td>49.3</td>\n",
              "      <td>15.7</td>\n",
              "      <td>217.0</td>\n",
              "      <td>MALE</td>\n",
              "      <td>Gentoo penguin (Pygoscelis papua)</td>\n",
              "    </tr>\n",
              "    <tr>\n",
              "      <th>66</th>\n",
              "      <td>3850.488274</td>\n",
              "      <td>Dream</td>\n",
              "      <td>40.7</td>\n",
              "      <td>17.0</td>\n",
              "      <td>190.0</td>\n",
              "      <td>MALE</td>\n",
              "      <td>Adelie Penguin (Pygoscelis adeliae)</td>\n",
              "    </tr>\n",
              "    <tr>\n",
              "      <th>67</th>\n",
              "      <td>5180.138881</td>\n",
              "      <td>Biscoe</td>\n",
              "      <td>47.6</td>\n",
              "      <td>14.5</td>\n",
              "      <td>215.0</td>\n",
              "      <td>MALE</td>\n",
              "      <td>Gentoo penguin (Pygoscelis papua)</td>\n",
              "    </tr>\n",
              "    <tr>\n",
              "      <th>69</th>\n",
              "      <td>4806.189013</td>\n",
              "      <td>Biscoe</td>\n",
              "      <td>49.1</td>\n",
              "      <td>14.5</td>\n",
              "      <td>212.0</td>\n",
              "      <td>FEMALE</td>\n",
              "      <td>Gentoo penguin (Pygoscelis papua)</td>\n",
              "    </tr>\n",
              "    <tr>\n",
              "      <th>72</th>\n",
              "      <td>3349.547683</td>\n",
              "      <td>Dream</td>\n",
              "      <td>36.5</td>\n",
              "      <td>18.0</td>\n",
              "      <td>182.0</td>\n",
              "      <td>FEMALE</td>\n",
              "      <td>Adelie Penguin (Pygoscelis adeliae)</td>\n",
              "    </tr>\n",
              "    <tr>\n",
              "      <th>75</th>\n",
              "      <td>4017.488163</td>\n",
              "      <td>Biscoe</td>\n",
              "      <td>37.8</td>\n",
              "      <td>20.0</td>\n",
              "      <td>190.0</td>\n",
              "      <td>MALE</td>\n",
              "      <td>Adelie Penguin (Pygoscelis adeliae)</td>\n",
              "    </tr>\n",
              "    <tr>\n",
              "      <th>77</th>\n",
              "      <td>5483.169341</td>\n",
              "      <td>Biscoe</td>\n",
              "      <td>49.6</td>\n",
              "      <td>16.0</td>\n",
              "      <td>225.0</td>\n",
              "      <td>MALE</td>\n",
              "      <td>Gentoo penguin (Pygoscelis papua)</td>\n",
              "    </tr>\n",
              "    <tr>\n",
              "      <th>78</th>\n",
              "      <td>3538.100619</td>\n",
              "      <td>Dream</td>\n",
              "      <td>49.8</td>\n",
              "      <td>17.3</td>\n",
              "      <td>198.0</td>\n",
              "      <td>FEMALE</td>\n",
              "      <td>Chinstrap penguin (Pygoscelis antarctica)</td>\n",
              "    </tr>\n",
              "    <tr>\n",
              "      <th>91</th>\n",
              "      <td>3481.875025</td>\n",
              "      <td>Biscoe</td>\n",
              "      <td>39.6</td>\n",
              "      <td>17.7</td>\n",
              "      <td>186.0</td>\n",
              "      <td>FEMALE</td>\n",
              "      <td>Adelie Penguin (Pygoscelis adeliae)</td>\n",
              "    </tr>\n",
              "    <tr>\n",
              "      <th>92</th>\n",
              "      <td>3493.796185</td>\n",
              "      <td>Dream</td>\n",
              "      <td>39.5</td>\n",
              "      <td>17.8</td>\n",
              "      <td>188.0</td>\n",
              "      <td>FEMALE</td>\n",
              "      <td>Adelie Penguin (Pygoscelis adeliae)</td>\n",
              "    </tr>\n",
              "    <tr>\n",
              "      <th>96</th>\n",
              "      <td>3458.468798</td>\n",
              "      <td>Dream</td>\n",
              "      <td>42.2</td>\n",
              "      <td>18.5</td>\n",
              "      <td>180.0</td>\n",
              "      <td>FEMALE</td>\n",
              "      <td>Adelie Penguin (Pygoscelis adeliae)</td>\n",
              "    </tr>\n",
              "    <tr>\n",
              "      <th>100</th>\n",
              "      <td>3581.102045</td>\n",
              "      <td>Dream</td>\n",
              "      <td>38.9</td>\n",
              "      <td>18.8</td>\n",
              "      <td>190.0</td>\n",
              "      <td>FEMALE</td>\n",
              "      <td>Adelie Penguin (Pygoscelis adeliae)</td>\n",
              "    </tr>\n",
              "    <tr>\n",
              "      <th>102</th>\n",
              "      <td>4030.073524</td>\n",
              "      <td>Dream</td>\n",
              "      <td>43.2</td>\n",
              "      <td>18.5</td>\n",
              "      <td>192.0</td>\n",
              "      <td>MALE</td>\n",
              "      <td>Adelie Penguin (Pygoscelis adeliae)</td>\n",
              "    </tr>\n",
              "    <tr>\n",
              "      <th>114</th>\n",
              "      <td>3655.867036</td>\n",
              "      <td>Dream</td>\n",
              "      <td>37.2</td>\n",
              "      <td>18.1</td>\n",
              "      <td>178.0</td>\n",
              "      <td>MALE</td>\n",
              "      <td>Adelie Penguin (Pygoscelis adeliae)</td>\n",
              "    </tr>\n",
              "  </tbody>\n",
              "</table>\n",
              "<p>25 rows × 7 columns</p>\n",
              "</div>[67 rows x 7 columns in total]"
            ]
          },
          "metadata": {},
          "execution_count": 27
        }
      ],
      "source": [
        "pipeline.fit(X_train, y_train)\n",
        "\n",
        "predicted_y_test = pipeline.predict(X_test)\n",
        "predicted_y_test"
      ]
    },
    {
      "cell_type": "markdown",
      "metadata": {
        "id": "SiLzpsg8nRXn"
      },
      "source": [
        "In the backend, a pipeline will actually be compiled into a single model with an embedded TRANSFORM step."
      ]
    },
    {
      "cell_type": "markdown",
      "metadata": {
        "id": "sTzAxTv1nUKZ"
      },
      "source": [
        "## Evaluating results\n",
        "\n",
        "Some models include a convenient `.score(X, y)` method for evaulation with a preset accuracy metric:"
      ]
    },
    {
      "cell_type": "code",
      "execution_count": 28,
      "metadata": {
        "id": "Q8nR1ZqznU-B",
        "colab": {
          "base_uri": "https://localhost:8080/",
          "height": 162
        },
        "executionInfo": {
          "status": "ok",
          "timestamp": 1732548694282,
          "user_tz": -60,
          "elapsed": 8967,
          "user": {
            "displayName": "",
            "userId": ""
          }
        },
        "outputId": "fc5e25c6-a8e1-4fb7-b7b1-2f25940c5efe"
      },
      "outputs": [
        {
          "output_type": "display_data",
          "data": {
            "text/plain": [
              "<IPython.core.display.HTML object>"
            ],
            "text/html": [
              "Query job f6f0a2c9-97f4-414f-bbb5-385af58f4b9d is DONE. 30.0 kB processed. <a target=\"_blank\" href=\"https://console.cloud.google.com/bigquery?project=jrdetorre-bq-demo&j=bq:US:f6f0a2c9-97f4-414f-bbb5-385af58f4b9d&page=queryresults\">Open Job</a>"
            ]
          },
          "metadata": {}
        },
        {
          "output_type": "display_data",
          "data": {
            "text/plain": [
              "<IPython.core.display.HTML object>"
            ],
            "text/html": [
              "Query job 9102ee51-4346-45b0-b0d1-c2fe8efc026f is DONE. 48 Bytes processed. <a target=\"_blank\" href=\"https://console.cloud.google.com/bigquery?project=jrdetorre-bq-demo&j=bq:US:9102ee51-4346-45b0-b0d1-c2fe8efc026f&page=queryresults\">Open Job</a>"
            ]
          },
          "metadata": {}
        },
        {
          "output_type": "execute_result",
          "data": {
            "text/plain": [
              "   mean_absolute_error  mean_squared_error  mean_squared_log_error  \\\n",
              "0           245.888023        95401.773593                0.006126   \n",
              "\n",
              "   median_absolute_error  r2_score  explained_variance  \n",
              "0             209.063178  0.878158            0.878916  \n",
              "\n",
              "[1 rows x 6 columns]"
            ],
            "text/html": [
              "<div>\n",
              "<style scoped>\n",
              "    .dataframe tbody tr th:only-of-type {\n",
              "        vertical-align: middle;\n",
              "    }\n",
              "\n",
              "    .dataframe tbody tr th {\n",
              "        vertical-align: top;\n",
              "    }\n",
              "\n",
              "    .dataframe thead th {\n",
              "        text-align: right;\n",
              "    }\n",
              "</style>\n",
              "<table border=\"1\" class=\"dataframe\">\n",
              "  <thead>\n",
              "    <tr style=\"text-align: right;\">\n",
              "      <th></th>\n",
              "      <th>mean_absolute_error</th>\n",
              "      <th>mean_squared_error</th>\n",
              "      <th>mean_squared_log_error</th>\n",
              "      <th>median_absolute_error</th>\n",
              "      <th>r2_score</th>\n",
              "      <th>explained_variance</th>\n",
              "    </tr>\n",
              "  </thead>\n",
              "  <tbody>\n",
              "    <tr>\n",
              "      <th>0</th>\n",
              "      <td>245.888023</td>\n",
              "      <td>95401.773593</td>\n",
              "      <td>0.006126</td>\n",
              "      <td>209.063178</td>\n",
              "      <td>0.878158</td>\n",
              "      <td>0.878916</td>\n",
              "    </tr>\n",
              "  </tbody>\n",
              "</table>\n",
              "<p>1 rows × 6 columns</p>\n",
              "</div>[1 rows x 6 columns in total]"
            ]
          },
          "metadata": {},
          "execution_count": 28
        }
      ],
      "source": [
        "# In the case of a pipeline, this will be equivalent to calling .score on the contained LinearRegression\n",
        "pipeline.score(X_test, y_test)"
      ]
    },
    {
      "cell_type": "markdown",
      "metadata": {
        "id": "UHM7jls6nY8A"
      },
      "source": [
        "For a more general approach, the library `bigframes.ml.metrics` is provided:"
      ]
    },
    {
      "cell_type": "code",
      "execution_count": 29,
      "metadata": {
        "id": "vdEN4Ob9nan4",
        "colab": {
          "base_uri": "https://localhost:8080/",
          "height": 86
        },
        "executionInfo": {
          "status": "ok",
          "timestamp": 1732548712323,
          "user_tz": -60,
          "elapsed": 18045,
          "user": {
            "displayName": "",
            "userId": ""
          }
        },
        "outputId": "0093c1a0-5fdc-4691-cc7b-ea562b7e2503"
      },
      "outputs": [
        {
          "output_type": "display_data",
          "data": {
            "text/plain": [
              "<IPython.core.display.HTML object>"
            ],
            "text/html": [
              "Query job 41f39467-9206-41c9-bcfe-72f91766ece9 is DONE. 28.9 kB processed. <a target=\"_blank\" href=\"https://console.cloud.google.com/bigquery?project=jrdetorre-bq-demo&j=bq:US:41f39467-9206-41c9-bcfe-72f91766ece9&page=queryresults\">Open Job</a>"
            ]
          },
          "metadata": {}
        },
        {
          "output_type": "display_data",
          "data": {
            "text/plain": [
              "<IPython.core.display.HTML object>"
            ],
            "text/html": [
              "Query job 569d9f3f-8148-492f-bdc5-4ba6ebd03844 is DONE. 28.9 kB processed. <a target=\"_blank\" href=\"https://console.cloud.google.com/bigquery?project=jrdetorre-bq-demo&j=bq:US:569d9f3f-8148-492f-bdc5-4ba6ebd03844&page=queryresults\">Open Job</a>"
            ]
          },
          "metadata": {}
        },
        {
          "output_type": "display_data",
          "data": {
            "text/plain": [
              "<IPython.core.display.HTML object>"
            ],
            "text/html": [
              "Query job aeb5da23-a836-4394-85d6-1a76c523c706 is DONE. 30.0 kB processed. <a target=\"_blank\" href=\"https://console.cloud.google.com/bigquery?project=jrdetorre-bq-demo&j=bq:US:aeb5da23-a836-4394-85d6-1a76c523c706&page=queryresults\">Open Job</a>"
            ]
          },
          "metadata": {}
        },
        {
          "output_type": "execute_result",
          "data": {
            "text/plain": [
              "0.878158455094941"
            ]
          },
          "metadata": {},
          "execution_count": 29
        }
      ],
      "source": [
        "from bigframes.ml.metrics import r2_score\n",
        "\n",
        "r2_score(y_test, predicted_y_test[\"predicted_body_mass_g\"])"
      ]
    },
    {
      "cell_type": "markdown",
      "metadata": {
        "id": "opn4ycPyneVh"
      },
      "source": [
        "## Save to BigQuery\n",
        "\n",
        "Estimators can be saved to BigQuery as BQML models, and loaded again in future.\n",
        "\n",
        "Saving requires `bigquery.tables.create` permission, and loading requires `bigquery.models.getMetadata` permission.\n",
        "These permissions can be at project level or the dataset level.\n",
        "\n",
        "If you have those permissions, please go ahead and uncomment the code in the following cells and run."
      ]
    },
    {
      "cell_type": "code",
      "execution_count": 30,
      "metadata": {
        "id": "fb0HpkdpnigJ",
        "colab": {
          "base_uri": "https://localhost:8080/",
          "height": 451
        },
        "executionInfo": {
          "status": "ok",
          "timestamp": 1732548752371,
          "user_tz": -60,
          "elapsed": 2575,
          "user": {
            "displayName": "",
            "userId": ""
          }
        },
        "outputId": "83cbab3e-fb2e-404f-e73d-e6dc781ec0a4"
      },
      "outputs": [
        {
          "output_type": "display_data",
          "data": {
            "text/plain": [
              "<IPython.core.display.HTML object>"
            ],
            "text/html": [
              "Copy job e7c5bd87-7a4c-456e-8cc2-ecb4ca590e4b is DONE. <a target=\"_blank\" href=\"https://console.cloud.google.com/bigquery?project=jrdetorre-bq-demo&j=bq:US:e7c5bd87-7a4c-456e-8cc2-ecb4ca590e4b&page=queryresults\">Open Job</a>"
            ]
          },
          "metadata": {}
        },
        {
          "output_type": "execute_result",
          "data": {
            "text/plain": [
              "Pipeline(steps=[('transform',\n",
              "                 ColumnTransformer(transformers=[('standard_scaler',\n",
              "                                                  StandardScaler(),\n",
              "                                                  'flipper_length_mm'),\n",
              "                                                 ('standard_scaler',\n",
              "                                                  StandardScaler(),\n",
              "                                                  'culmen_depth_mm'),\n",
              "                                                 ('one_hot_encoder',\n",
              "                                                  OneHotEncoder(max_categories=1000001,\n",
              "                                                                min_frequency=0),\n",
              "                                                  'species'),\n",
              "                                                 ('one_hot_encoder',\n",
              "                                                  OneHotEncoder(max_categories=1000001,\n",
              "                                                                min_frequency=0),\n",
              "                                                  'sex'),\n",
              "                                                 ('standard_scaler',\n",
              "                                                  StandardScaler(),\n",
              "                                                  'culmen_length_mm'),\n",
              "                                                 ('one_hot_encoder',\n",
              "                                                  OneHotEncoder(max_categories=1000001,\n",
              "                                                                min_frequency=0),\n",
              "                                                  'island')])),\n",
              "                ('estimator',\n",
              "                 LinearRegression(optimize_strategy='NORMAL_EQUATION'))])"
            ]
          },
          "metadata": {},
          "execution_count": 30
        }
      ],
      "source": [
        "linreg.to_gbq(f\"{DATASET}.penguins_model\", replace=True)"
      ]
    },
    {
      "cell_type": "code",
      "execution_count": 31,
      "metadata": {
        "id": "_zNOBlHdnkII",
        "colab": {
          "base_uri": "https://localhost:8080/"
        },
        "executionInfo": {
          "status": "ok",
          "timestamp": 1732548783470,
          "user_tz": -60,
          "elapsed": 256,
          "user": {
            "displayName": "",
            "userId": ""
          }
        },
        "outputId": "e461b663-04d3-4fbd-dd72-13a2f3a9a2c3"
      },
      "outputs": [
        {
          "output_type": "execute_result",
          "data": {
            "text/plain": [
              "Pipeline(steps=[('transform',\n",
              "                 ColumnTransformer(transformers=[('standard_scaler',\n",
              "                                                  StandardScaler(),\n",
              "                                                  'flipper_length_mm'),\n",
              "                                                 ('standard_scaler',\n",
              "                                                  StandardScaler(),\n",
              "                                                  'culmen_depth_mm'),\n",
              "                                                 ('one_hot_encoder',\n",
              "                                                  OneHotEncoder(max_categories=1000001,\n",
              "                                                                min_frequency=0),\n",
              "                                                  'species'),\n",
              "                                                 ('one_hot_encoder',\n",
              "                                                  OneHotEncoder(max_categories=1000001,\n",
              "                                                                min_frequency=0),\n",
              "                                                  'sex'),\n",
              "                                                 ('standard_scaler',\n",
              "                                                  StandardScaler(),\n",
              "                                                  'culmen_length_mm'),\n",
              "                                                 ('one_hot_encoder',\n",
              "                                                  OneHotEncoder(max_categories=1000001,\n",
              "                                                                min_frequency=0),\n",
              "                                                  'island')])),\n",
              "                ('estimator',\n",
              "                 LinearRegression(optimize_strategy='NORMAL_EQUATION'))])"
            ]
          },
          "metadata": {},
          "execution_count": 31
        }
      ],
      "source": [
        "bpd.read_gbq_model(f\"{DATASET}.penguins_model\")"
      ]
    },
    {
      "cell_type": "markdown",
      "metadata": {
        "id": "RfV-du5uTcBB"
      },
      "source": [
        "We can also save the pipeline to BigQuery. BigQuery will save this as a single model, with the pre-processing steps embedded in the TRANSFORM property:"
      ]
    },
    {
      "cell_type": "code",
      "execution_count": 32,
      "metadata": {
        "id": "P76_TQ3IR6nB",
        "colab": {
          "base_uri": "https://localhost:8080/",
          "height": 451
        },
        "executionInfo": {
          "status": "ok",
          "timestamp": 1732548800688,
          "user_tz": -60,
          "elapsed": 2173,
          "user": {
            "displayName": "",
            "userId": ""
          }
        },
        "outputId": "2ea3218b-56ef-44e8-99aa-130fe53fbfe6"
      },
      "outputs": [
        {
          "output_type": "display_data",
          "data": {
            "text/plain": [
              "<IPython.core.display.HTML object>"
            ],
            "text/html": [
              "Copy job 5c224a8a-0e5d-405d-97cc-b3b6ddb5b8c5 is DONE. <a target=\"_blank\" href=\"https://console.cloud.google.com/bigquery?project=jrdetorre-bq-demo&j=bq:US:5c224a8a-0e5d-405d-97cc-b3b6ddb5b8c5&page=queryresults\">Open Job</a>"
            ]
          },
          "metadata": {}
        },
        {
          "output_type": "execute_result",
          "data": {
            "text/plain": [
              "Pipeline(steps=[('transform',\n",
              "                 ColumnTransformer(transformers=[('standard_scaler',\n",
              "                                                  StandardScaler(),\n",
              "                                                  'flipper_length_mm'),\n",
              "                                                 ('standard_scaler',\n",
              "                                                  StandardScaler(),\n",
              "                                                  'culmen_depth_mm'),\n",
              "                                                 ('one_hot_encoder',\n",
              "                                                  OneHotEncoder(max_categories=1000001,\n",
              "                                                                min_frequency=0),\n",
              "                                                  'species'),\n",
              "                                                 ('one_hot_encoder',\n",
              "                                                  OneHotEncoder(max_categories=1000001,\n",
              "                                                                min_frequency=0),\n",
              "                                                  'sex'),\n",
              "                                                 ('standard_scaler',\n",
              "                                                  StandardScaler(),\n",
              "                                                  'culmen_length_mm'),\n",
              "                                                 ('one_hot_encoder',\n",
              "                                                  OneHotEncoder(max_categories=1000001,\n",
              "                                                                min_frequency=0),\n",
              "                                                  'island')])),\n",
              "                ('estimator',\n",
              "                 LinearRegression(optimize_strategy='NORMAL_EQUATION'))])"
            ]
          },
          "metadata": {},
          "execution_count": 32
        }
      ],
      "source": [
        "pipeline.to_gbq(f\"{DATASET}.penguins_pipeline\", replace=True)"
      ]
    },
    {
      "cell_type": "code",
      "execution_count": 58,
      "metadata": {
        "id": "GKvlKFjAbToJ",
        "colab": {
          "base_uri": "https://localhost:8080/"
        },
        "executionInfo": {
          "status": "ok",
          "timestamp": 1732367995425,
          "user_tz": -60,
          "elapsed": 2,
          "user": {
            "displayName": "",
            "userId": ""
          }
        },
        "outputId": "38e8c6ec-fea1-4361-a804-0faa22a972c7"
      },
      "outputs": [
        {
          "output_type": "execute_result",
          "data": {
            "text/plain": [
              "Pipeline(steps=[('transform',\n",
              "                 ColumnTransformer(transformers=[('standard_scaler',\n",
              "                                                  StandardScaler(),\n",
              "                                                  'culmen_depth_mm'),\n",
              "                                                 ('standard_scaler',\n",
              "                                                  StandardScaler(),\n",
              "                                                  'flipper_length_mm'),\n",
              "                                                 ('one_hot_encoder',\n",
              "                                                  OneHotEncoder(max_categories=1000001,\n",
              "                                                                min_frequency=0),\n",
              "                                                  'sex'),\n",
              "                                                 ('one_hot_encoder',\n",
              "                                                  OneHotEncoder(max_categories=1000001,\n",
              "                                                                min_frequency=0),\n",
              "                                                  'species'),\n",
              "                                                 ('one_hot_encoder',\n",
              "                                                  OneHotEncoder(max_categories=1000001,\n",
              "                                                                min_frequency=0),\n",
              "                                                  'island'),\n",
              "                                                 ('standard_scaler',\n",
              "                                                  StandardScaler(),\n",
              "                                                  'culmen_length_mm')])),\n",
              "                ('estimator',\n",
              "                 LinearRegression(optimize_strategy='NORMAL_EQUATION'))])"
            ]
          },
          "metadata": {},
          "execution_count": 58
        }
      ],
      "source": [
        "bpd.read_gbq_model(f\"{DATASET}.penguins_pipeline\")"
      ]
    },
    {
      "cell_type": "markdown",
      "metadata": {
        "id": "wCsmt0IwFkDy"
      },
      "source": [
        "## Summary and next steps\n",
        "\n",
        "You've completed an end-to-end machine learning workflow using the built-in capabilities of BigQuery DataFrames.\n",
        "\n",
        "Learn more about BigQuery DataFrames in the [documentation](https://cloud.google.com/python/docs/reference/bigframes/latest) and find more sample notebooks in the [GitHub repo](https://github.com/googleapis/python-bigquery-dataframes/tree/main/notebooks)."
      ]
    },
    {
      "cell_type": "markdown",
      "metadata": {
        "id": "TpV-iwP9qw9c"
      },
      "source": [
        "### Cleaning up\n",
        "\n",
        "To clean up all Google Cloud resources used in this project, you can [delete the Google Cloud\n",
        "project](https://cloud.google.com/resource-manager/docs/creating-managing-projects#shutting_down_projects) you used for the tutorial.\n",
        "\n",
        "Otherwise, you can uncomment the remaining cells and run them to delete the individual resources you created in this tutorial:"
      ]
    },
    {
      "cell_type": "code",
      "execution_count": null,
      "metadata": {
        "id": "QwumLUKmVpuH"
      },
      "outputs": [],
      "source": [
        "# # Delete the BQML models\n",
        "# MODEL_NAME = f\"{PROJECT_ID}:{DATASET}.penguins_model\"\n",
        "# ! bq rm -f --model {MODEL_NAME}\n",
        "# PIPELINE_NAME = f\"{PROJECT_ID}:{DATASET}.penguins_pipeline\"\n",
        "# ! bq rm -f --model {PIPELINE_NAME}"
      ]
    }
  ],
  "metadata": {
    "colab": {
      "provenance": [],
      "name": "02-ml_fundamentals_bq_dataframes"
    },
    "kernelspec": {
      "display_name": "Python 3",
      "name": "python3"
    },
    "language_info": {
      "codemirror_mode": {
        "name": "ipython",
        "version": 3
      },
      "file_extension": ".py",
      "mimetype": "text/x-python",
      "name": "python",
      "nbconvert_exporter": "python",
      "pygments_lexer": "ipython3",
      "version": "3.11.1"
    }
  },
  "nbformat": 4,
  "nbformat_minor": 0
}